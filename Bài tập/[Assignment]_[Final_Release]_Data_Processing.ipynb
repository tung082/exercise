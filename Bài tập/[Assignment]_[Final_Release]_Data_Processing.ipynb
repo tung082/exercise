{
  "nbformat": 4,
  "nbformat_minor": 0,
  "metadata": {
    "colab": {
      "provenance": []
    },
    "kernelspec": {
      "name": "python3",
      "display_name": "Python 3"
    }
  },
  "cells": [
    {
      "cell_type": "markdown",
      "metadata": {
        "id": "DNskF-vZx2cy"
      },
      "source": [
        "# Bài tập lập trình: Tiền xử lý dữ liệu\n",
        "\n",
        "```\n",
        "ProtonX - TensorFlow Class\n",
        "```\n",
        "\n",
        "### Hướng dẫn làm bài\n",
        "- Trong bài tập này bạn sẽ sử dụng Python 3.\n",
        "- Sau khi bạn viết Code của mình xong, hãy chạy dòng Code đó để xem kết quả bên dưới.\n",
        "\n",
        "### [Quan trọng] Chú ý\n",
        "- **Không sử dụng hàm `input()` tại bất kỳ dòng lệnh nào**\n",
        "- **Không thay đổi dòng code return của hàm**\n",
        "\n",
        "Các bạn sẽ thực hiện `code` trong các phần hiển thị `#TODO: Lập trình tại đây` và thay thế các vị trí `None`. Có những câu hỏi chỉ cần trả về đáp án.\n",
        "\n",
        "Sau khi viết xong Code của bạn, bạn hãy ấn \"SHIFT\"+\"ENTER\" để thực hiện chạy lệnh của Cell đó.\n",
        "\n",
        "---\n",
        "Điểm số:\n",
        "* 10 điểm / Câu\n",
        "\n",
        "Tiêu chí chấm điểm:\n",
        "* Các bài tập sẽ được chấm dựa trên các Test-case.\n",
        "* Các bạn không khởi tạo lại giá trị đầu vào bên trong hàm. Có thể khởi tạo các giá trị này ngoài hàm nhằm mục đích kiểm thử."
      ]
    },
    {
      "cell_type": "code",
      "metadata": {
        "id": "IdRuMt784unf",
        "colab": {
          "base_uri": "https://localhost:8080/"
        },
        "outputId": "548d9e40-1311-4501-efeb-2aaa496436d2"
      },
      "source": [
        "!pip install tensorflow_data_validation"
      ],
      "execution_count": null,
      "outputs": [
        {
          "output_type": "stream",
          "name": "stdout",
          "text": [
            "Requirement already satisfied: tensorflow_data_validation in /usr/local/lib/python3.10/dist-packages (1.14.0)\n",
            "Requirement already satisfied: absl-py<2.0.0,>=0.9 in /usr/local/lib/python3.10/dist-packages (from tensorflow_data_validation) (1.4.0)\n",
            "Requirement already satisfied: apache-beam[gcp]<3,>=2.47 in /usr/local/lib/python3.10/dist-packages (from tensorflow_data_validation) (2.49.0)\n",
            "Requirement already satisfied: joblib>=1.2.0 in /usr/local/lib/python3.10/dist-packages (from tensorflow_data_validation) (1.3.2)\n",
            "Requirement already satisfied: numpy>=1.22.0 in /usr/local/lib/python3.10/dist-packages (from tensorflow_data_validation) (1.23.5)\n",
            "Requirement already satisfied: pandas<2,>=1.0 in /usr/local/lib/python3.10/dist-packages (from tensorflow_data_validation) (1.5.3)\n",
            "Requirement already satisfied: protobuf<5,>=3.20.3 in /usr/local/lib/python3.10/dist-packages (from tensorflow_data_validation) (3.20.3)\n",
            "Requirement already satisfied: pyarrow<11,>=10 in /usr/local/lib/python3.10/dist-packages (from tensorflow_data_validation) (10.0.1)\n",
            "Requirement already satisfied: pyfarmhash<0.4,>=0.2.2 in /usr/local/lib/python3.10/dist-packages (from tensorflow_data_validation) (0.3.2)\n",
            "Requirement already satisfied: six<2,>=1.12 in /usr/local/lib/python3.10/dist-packages (from tensorflow_data_validation) (1.16.0)\n",
            "Requirement already satisfied: tensorflow<3,>=2.13 in /usr/local/lib/python3.10/dist-packages (from tensorflow_data_validation) (2.13.0)\n",
            "Requirement already satisfied: tensorflow-metadata<1.15,>=1.14.0 in /usr/local/lib/python3.10/dist-packages (from tensorflow_data_validation) (1.14.0)\n",
            "Requirement already satisfied: tfx-bsl<1.15,>=1.14.0 in /usr/local/lib/python3.10/dist-packages (from tensorflow_data_validation) (1.14.0)\n",
            "Requirement already satisfied: crcmod<2.0,>=1.7 in /usr/local/lib/python3.10/dist-packages (from apache-beam[gcp]<3,>=2.47->tensorflow_data_validation) (1.7)\n",
            "Requirement already satisfied: orjson<4.0 in /usr/local/lib/python3.10/dist-packages (from apache-beam[gcp]<3,>=2.47->tensorflow_data_validation) (3.9.4)\n",
            "Requirement already satisfied: dill<0.3.2,>=0.3.1.1 in /usr/local/lib/python3.10/dist-packages (from apache-beam[gcp]<3,>=2.47->tensorflow_data_validation) (0.3.1.1)\n",
            "Requirement already satisfied: cloudpickle~=2.2.1 in /usr/local/lib/python3.10/dist-packages (from apache-beam[gcp]<3,>=2.47->tensorflow_data_validation) (2.2.1)\n",
            "Requirement already satisfied: fastavro<2,>=0.23.6 in /usr/local/lib/python3.10/dist-packages (from apache-beam[gcp]<3,>=2.47->tensorflow_data_validation) (1.8.2)\n",
            "Requirement already satisfied: fasteners<1.0,>=0.3 in /usr/local/lib/python3.10/dist-packages (from apache-beam[gcp]<3,>=2.47->tensorflow_data_validation) (0.18)\n",
            "Requirement already satisfied: grpcio!=1.48.0,<2,>=1.33.1 in /usr/local/lib/python3.10/dist-packages (from apache-beam[gcp]<3,>=2.47->tensorflow_data_validation) (1.57.0)\n",
            "Requirement already satisfied: hdfs<3.0.0,>=2.1.0 in /usr/local/lib/python3.10/dist-packages (from apache-beam[gcp]<3,>=2.47->tensorflow_data_validation) (2.7.2)\n",
            "Requirement already satisfied: httplib2<0.23.0,>=0.8 in /usr/local/lib/python3.10/dist-packages (from apache-beam[gcp]<3,>=2.47->tensorflow_data_validation) (0.22.0)\n",
            "Requirement already satisfied: objsize<0.7.0,>=0.6.1 in /usr/local/lib/python3.10/dist-packages (from apache-beam[gcp]<3,>=2.47->tensorflow_data_validation) (0.6.1)\n",
            "Requirement already satisfied: pymongo<5.0.0,>=3.8.0 in /usr/local/lib/python3.10/dist-packages (from apache-beam[gcp]<3,>=2.47->tensorflow_data_validation) (4.4.1)\n",
            "Requirement already satisfied: proto-plus<2,>=1.7.1 in /usr/local/lib/python3.10/dist-packages (from apache-beam[gcp]<3,>=2.47->tensorflow_data_validation) (1.22.3)\n",
            "Requirement already satisfied: pydot<2,>=1.2.0 in /usr/local/lib/python3.10/dist-packages (from apache-beam[gcp]<3,>=2.47->tensorflow_data_validation) (1.4.2)\n",
            "Requirement already satisfied: python-dateutil<3,>=2.8.0 in /usr/local/lib/python3.10/dist-packages (from apache-beam[gcp]<3,>=2.47->tensorflow_data_validation) (2.8.2)\n",
            "Requirement already satisfied: pytz>=2018.3 in /usr/local/lib/python3.10/dist-packages (from apache-beam[gcp]<3,>=2.47->tensorflow_data_validation) (2023.3)\n",
            "Requirement already satisfied: regex>=2020.6.8 in /usr/local/lib/python3.10/dist-packages (from apache-beam[gcp]<3,>=2.47->tensorflow_data_validation) (2023.6.3)\n",
            "Requirement already satisfied: requests<3.0.0,>=2.24.0 in /usr/local/lib/python3.10/dist-packages (from apache-beam[gcp]<3,>=2.47->tensorflow_data_validation) (2.31.0)\n",
            "Requirement already satisfied: typing-extensions>=3.7.0 in /usr/local/lib/python3.10/dist-packages (from apache-beam[gcp]<3,>=2.47->tensorflow_data_validation) (4.5.0)\n",
            "Requirement already satisfied: zstandard<1,>=0.18.0 in /usr/local/lib/python3.10/dist-packages (from apache-beam[gcp]<3,>=2.47->tensorflow_data_validation) (0.21.0)\n",
            "Requirement already satisfied: cachetools<6,>=3.1.0 in /usr/local/lib/python3.10/dist-packages (from apache-beam[gcp]<3,>=2.47->tensorflow_data_validation) (5.3.1)\n",
            "Requirement already satisfied: google-apitools<0.5.32,>=0.5.31 in /usr/local/lib/python3.10/dist-packages (from apache-beam[gcp]<3,>=2.47->tensorflow_data_validation) (0.5.31)\n",
            "Requirement already satisfied: google-auth<3,>=1.18.0 in /usr/local/lib/python3.10/dist-packages (from apache-beam[gcp]<3,>=2.47->tensorflow_data_validation) (2.17.3)\n",
            "Requirement already satisfied: google-auth-httplib2<0.2.0,>=0.1.0 in /usr/local/lib/python3.10/dist-packages (from apache-beam[gcp]<3,>=2.47->tensorflow_data_validation) (0.1.0)\n",
            "Requirement already satisfied: google-cloud-datastore<3,>=2.0.0 in /usr/local/lib/python3.10/dist-packages (from apache-beam[gcp]<3,>=2.47->tensorflow_data_validation) (2.15.2)\n",
            "Requirement already satisfied: google-cloud-pubsub<3,>=2.1.0 in /usr/local/lib/python3.10/dist-packages (from apache-beam[gcp]<3,>=2.47->tensorflow_data_validation) (2.18.2)\n",
            "Requirement already satisfied: google-cloud-pubsublite<2,>=1.2.0 in /usr/local/lib/python3.10/dist-packages (from apache-beam[gcp]<3,>=2.47->tensorflow_data_validation) (1.8.3)\n",
            "Requirement already satisfied: google-cloud-bigquery<4,>=2.0.0 in /usr/local/lib/python3.10/dist-packages (from apache-beam[gcp]<3,>=2.47->tensorflow_data_validation) (3.10.0)\n",
            "Requirement already satisfied: google-cloud-bigquery-storage<3,>=2.6.3 in /usr/local/lib/python3.10/dist-packages (from apache-beam[gcp]<3,>=2.47->tensorflow_data_validation) (2.22.0)\n",
            "Requirement already satisfied: google-cloud-core<3,>=2.0.0 in /usr/local/lib/python3.10/dist-packages (from apache-beam[gcp]<3,>=2.47->tensorflow_data_validation) (2.3.3)\n",
            "Requirement already satisfied: google-cloud-bigtable<3,>=2.19.0 in /usr/local/lib/python3.10/dist-packages (from apache-beam[gcp]<3,>=2.47->tensorflow_data_validation) (2.21.0)\n",
            "Requirement already satisfied: google-cloud-spanner<4,>=3.0.0 in /usr/local/lib/python3.10/dist-packages (from apache-beam[gcp]<3,>=2.47->tensorflow_data_validation) (3.40.0)\n",
            "Requirement already satisfied: google-cloud-dlp<4,>=3.0.0 in /usr/local/lib/python3.10/dist-packages (from apache-beam[gcp]<3,>=2.47->tensorflow_data_validation) (3.12.2)\n",
            "Requirement already satisfied: google-cloud-language<3,>=2.0 in /usr/local/lib/python3.10/dist-packages (from apache-beam[gcp]<3,>=2.47->tensorflow_data_validation) (2.9.1)\n",
            "Requirement already satisfied: google-cloud-videointelligence<3,>=2.0 in /usr/local/lib/python3.10/dist-packages (from apache-beam[gcp]<3,>=2.47->tensorflow_data_validation) (2.11.3)\n",
            "Requirement already satisfied: google-cloud-vision<4,>=2 in /usr/local/lib/python3.10/dist-packages (from apache-beam[gcp]<3,>=2.47->tensorflow_data_validation) (3.4.4)\n",
            "Requirement already satisfied: google-cloud-recommendations-ai<0.11.0,>=0.1.0 in /usr/local/lib/python3.10/dist-packages (from apache-beam[gcp]<3,>=2.47->tensorflow_data_validation) (0.10.4)\n",
            "Requirement already satisfied: google-cloud-aiplatform<2.0,>=1.26.0 in /usr/local/lib/python3.10/dist-packages (from apache-beam[gcp]<3,>=2.47->tensorflow_data_validation) (1.30.1)\n",
            "Requirement already satisfied: astunparse>=1.6.0 in /usr/local/lib/python3.10/dist-packages (from tensorflow<3,>=2.13->tensorflow_data_validation) (1.6.3)\n",
            "Requirement already satisfied: flatbuffers>=23.1.21 in /usr/local/lib/python3.10/dist-packages (from tensorflow<3,>=2.13->tensorflow_data_validation) (23.5.26)\n",
            "Requirement already satisfied: gast<=0.4.0,>=0.2.1 in /usr/local/lib/python3.10/dist-packages (from tensorflow<3,>=2.13->tensorflow_data_validation) (0.4.0)\n",
            "Requirement already satisfied: google-pasta>=0.1.1 in /usr/local/lib/python3.10/dist-packages (from tensorflow<3,>=2.13->tensorflow_data_validation) (0.2.0)\n",
            "Requirement already satisfied: h5py>=2.9.0 in /usr/local/lib/python3.10/dist-packages (from tensorflow<3,>=2.13->tensorflow_data_validation) (3.9.0)\n",
            "Requirement already satisfied: keras<2.14,>=2.13.1 in /usr/local/lib/python3.10/dist-packages (from tensorflow<3,>=2.13->tensorflow_data_validation) (2.13.1)\n",
            "Requirement already satisfied: libclang>=13.0.0 in /usr/local/lib/python3.10/dist-packages (from tensorflow<3,>=2.13->tensorflow_data_validation) (16.0.6)\n",
            "Requirement already satisfied: opt-einsum>=2.3.2 in /usr/local/lib/python3.10/dist-packages (from tensorflow<3,>=2.13->tensorflow_data_validation) (3.3.0)\n",
            "Requirement already satisfied: packaging in /usr/local/lib/python3.10/dist-packages (from tensorflow<3,>=2.13->tensorflow_data_validation) (23.1)\n",
            "Requirement already satisfied: setuptools in /usr/local/lib/python3.10/dist-packages (from tensorflow<3,>=2.13->tensorflow_data_validation) (67.7.2)\n",
            "Requirement already satisfied: tensorboard<2.14,>=2.13 in /usr/local/lib/python3.10/dist-packages (from tensorflow<3,>=2.13->tensorflow_data_validation) (2.13.0)\n",
            "Requirement already satisfied: tensorflow-estimator<2.14,>=2.13.0 in /usr/local/lib/python3.10/dist-packages (from tensorflow<3,>=2.13->tensorflow_data_validation) (2.13.0)\n",
            "Requirement already satisfied: termcolor>=1.1.0 in /usr/local/lib/python3.10/dist-packages (from tensorflow<3,>=2.13->tensorflow_data_validation) (2.3.0)\n",
            "Requirement already satisfied: wrapt>=1.11.0 in /usr/local/lib/python3.10/dist-packages (from tensorflow<3,>=2.13->tensorflow_data_validation) (1.14.1)\n",
            "Requirement already satisfied: tensorflow-io-gcs-filesystem>=0.23.1 in /usr/local/lib/python3.10/dist-packages (from tensorflow<3,>=2.13->tensorflow_data_validation) (0.33.0)\n",
            "Requirement already satisfied: googleapis-common-protos<2,>=1.52.0 in /usr/local/lib/python3.10/dist-packages (from tensorflow-metadata<1.15,>=1.14.0->tensorflow_data_validation) (1.60.0)\n",
            "Requirement already satisfied: google-api-python-client<2,>=1.7.11 in /usr/local/lib/python3.10/dist-packages (from tfx-bsl<1.15,>=1.14.0->tensorflow_data_validation) (1.12.11)\n",
            "Requirement already satisfied: tensorflow-serving-api<3,>=2.13.0 in /usr/local/lib/python3.10/dist-packages (from tfx-bsl<1.15,>=1.14.0->tensorflow_data_validation) (2.13.0)\n",
            "Requirement already satisfied: wheel<1.0,>=0.23.0 in /usr/local/lib/python3.10/dist-packages (from astunparse>=1.6.0->tensorflow<3,>=2.13->tensorflow_data_validation) (0.41.1)\n",
            "Requirement already satisfied: uritemplate<4dev,>=3.0.0 in /usr/local/lib/python3.10/dist-packages (from google-api-python-client<2,>=1.7.11->tfx-bsl<1.15,>=1.14.0->tensorflow_data_validation) (3.0.1)\n",
            "Requirement already satisfied: google-api-core<3dev,>=1.21.0 in /usr/local/lib/python3.10/dist-packages (from google-api-python-client<2,>=1.7.11->tfx-bsl<1.15,>=1.14.0->tensorflow_data_validation) (2.11.1)\n",
            "Requirement already satisfied: oauth2client>=1.4.12 in /usr/local/lib/python3.10/dist-packages (from google-apitools<0.5.32,>=0.5.31->apache-beam[gcp]<3,>=2.47->tensorflow_data_validation) (4.1.3)\n",
            "Requirement already satisfied: pyasn1-modules>=0.2.1 in /usr/local/lib/python3.10/dist-packages (from google-auth<3,>=1.18.0->apache-beam[gcp]<3,>=2.47->tensorflow_data_validation) (0.3.0)\n",
            "Requirement already satisfied: rsa<5,>=3.1.4 in /usr/local/lib/python3.10/dist-packages (from google-auth<3,>=1.18.0->apache-beam[gcp]<3,>=2.47->tensorflow_data_validation) (4.9)\n",
            "Requirement already satisfied: google-cloud-storage<3.0.0dev,>=1.32.0 in /usr/local/lib/python3.10/dist-packages (from google-cloud-aiplatform<2.0,>=1.26.0->apache-beam[gcp]<3,>=2.47->tensorflow_data_validation) (2.8.0)\n",
            "Requirement already satisfied: google-cloud-resource-manager<3.0.0dev,>=1.3.3 in /usr/local/lib/python3.10/dist-packages (from google-cloud-aiplatform<2.0,>=1.26.0->apache-beam[gcp]<3,>=2.47->tensorflow_data_validation) (1.10.3)\n",
            "Requirement already satisfied: shapely<2.0.0 in /usr/local/lib/python3.10/dist-packages (from google-cloud-aiplatform<2.0,>=1.26.0->apache-beam[gcp]<3,>=2.47->tensorflow_data_validation) (1.8.5.post1)\n",
            "Requirement already satisfied: google-resumable-media<3.0dev,>=0.6.0 in /usr/local/lib/python3.10/dist-packages (from google-cloud-bigquery<4,>=2.0.0->apache-beam[gcp]<3,>=2.47->tensorflow_data_validation) (2.5.0)\n",
            "Requirement already satisfied: grpc-google-iam-v1<1.0.0dev,>=0.12.4 in /usr/local/lib/python3.10/dist-packages (from google-cloud-bigtable<3,>=2.19.0->apache-beam[gcp]<3,>=2.47->tensorflow_data_validation) (0.12.6)\n",
            "Requirement already satisfied: grpcio-status>=1.33.2 in /usr/local/lib/python3.10/dist-packages (from google-cloud-pubsub<3,>=2.1.0->apache-beam[gcp]<3,>=2.47->tensorflow_data_validation) (1.48.2)\n",
            "Requirement already satisfied: overrides<7.0.0,>=6.0.1 in /usr/local/lib/python3.10/dist-packages (from google-cloud-pubsublite<2,>=1.2.0->apache-beam[gcp]<3,>=2.47->tensorflow_data_validation) (6.5.0)\n",
            "Requirement already satisfied: sqlparse>=0.4.4 in /usr/local/lib/python3.10/dist-packages (from google-cloud-spanner<4,>=3.0.0->apache-beam[gcp]<3,>=2.47->tensorflow_data_validation) (0.4.4)\n",
            "Requirement already satisfied: docopt in /usr/local/lib/python3.10/dist-packages (from hdfs<3.0.0,>=2.1.0->apache-beam[gcp]<3,>=2.47->tensorflow_data_validation) (0.6.2)\n",
            "Requirement already satisfied: pyparsing!=3.0.0,!=3.0.1,!=3.0.2,!=3.0.3,<4,>=2.4.2 in /usr/local/lib/python3.10/dist-packages (from httplib2<0.23.0,>=0.8->apache-beam[gcp]<3,>=2.47->tensorflow_data_validation) (3.1.1)\n",
            "Requirement already satisfied: dnspython<3.0.0,>=1.16.0 in /usr/local/lib/python3.10/dist-packages (from pymongo<5.0.0,>=3.8.0->apache-beam[gcp]<3,>=2.47->tensorflow_data_validation) (2.4.2)\n",
            "Requirement already satisfied: charset-normalizer<4,>=2 in /usr/local/lib/python3.10/dist-packages (from requests<3.0.0,>=2.24.0->apache-beam[gcp]<3,>=2.47->tensorflow_data_validation) (3.2.0)\n",
            "Requirement already satisfied: idna<4,>=2.5 in /usr/local/lib/python3.10/dist-packages (from requests<3.0.0,>=2.24.0->apache-beam[gcp]<3,>=2.47->tensorflow_data_validation) (3.4)\n",
            "Requirement already satisfied: urllib3<3,>=1.21.1 in /usr/local/lib/python3.10/dist-packages (from requests<3.0.0,>=2.24.0->apache-beam[gcp]<3,>=2.47->tensorflow_data_validation) (2.0.4)\n",
            "Requirement already satisfied: certifi>=2017.4.17 in /usr/local/lib/python3.10/dist-packages (from requests<3.0.0,>=2.24.0->apache-beam[gcp]<3,>=2.47->tensorflow_data_validation) (2023.7.22)\n",
            "Requirement already satisfied: google-auth-oauthlib<1.1,>=0.5 in /usr/local/lib/python3.10/dist-packages (from tensorboard<2.14,>=2.13->tensorflow<3,>=2.13->tensorflow_data_validation) (1.0.0)\n",
            "Requirement already satisfied: markdown>=2.6.8 in /usr/local/lib/python3.10/dist-packages (from tensorboard<2.14,>=2.13->tensorflow<3,>=2.13->tensorflow_data_validation) (3.4.4)\n",
            "Requirement already satisfied: tensorboard-data-server<0.8.0,>=0.7.0 in /usr/local/lib/python3.10/dist-packages (from tensorboard<2.14,>=2.13->tensorflow<3,>=2.13->tensorflow_data_validation) (0.7.1)\n",
            "Requirement already satisfied: werkzeug>=1.0.1 in /usr/local/lib/python3.10/dist-packages (from tensorboard<2.14,>=2.13->tensorflow<3,>=2.13->tensorflow_data_validation) (2.3.6)\n",
            "Requirement already satisfied: requests-oauthlib>=0.7.0 in /usr/local/lib/python3.10/dist-packages (from google-auth-oauthlib<1.1,>=0.5->tensorboard<2.14,>=2.13->tensorflow<3,>=2.13->tensorflow_data_validation) (1.3.1)\n",
            "Requirement already satisfied: google-crc32c<2.0dev,>=1.0 in /usr/local/lib/python3.10/dist-packages (from google-resumable-media<3.0dev,>=0.6.0->google-cloud-bigquery<4,>=2.0.0->apache-beam[gcp]<3,>=2.47->tensorflow_data_validation) (1.5.0)\n",
            "Requirement already satisfied: pyasn1>=0.1.7 in /usr/local/lib/python3.10/dist-packages (from oauth2client>=1.4.12->google-apitools<0.5.32,>=0.5.31->apache-beam[gcp]<3,>=2.47->tensorflow_data_validation) (0.5.0)\n",
            "Requirement already satisfied: MarkupSafe>=2.1.1 in /usr/local/lib/python3.10/dist-packages (from werkzeug>=1.0.1->tensorboard<2.14,>=2.13->tensorflow<3,>=2.13->tensorflow_data_validation) (2.1.3)\n",
            "Requirement already satisfied: oauthlib>=3.0.0 in /usr/local/lib/python3.10/dist-packages (from requests-oauthlib>=0.7.0->google-auth-oauthlib<1.1,>=0.5->tensorboard<2.14,>=2.13->tensorflow<3,>=2.13->tensorflow_data_validation) (3.2.2)\n"
          ]
        }
      ]
    },
    {
      "cell_type": "markdown",
      "metadata": {
        "id": "bgv7WQG1vfC4"
      },
      "source": [
        "## 0. Cài đặt các thư viện cần thiết"
      ]
    },
    {
      "cell_type": "code",
      "metadata": {
        "id": "yASrTh6A4aV1"
      },
      "source": [
        "import pandas as pd\n",
        "import tensorflow as tf\n",
        "import tensorflow_data_validation as tfdv\n",
        "import matplotlib.pyplot as plt\n",
        "import matplotlib.gridspec as gridspec\n",
        "import seaborn as sns"
      ],
      "execution_count": null,
      "outputs": []
    },
    {
      "cell_type": "markdown",
      "metadata": {
        "id": "kfexh1nJ4Sdi"
      },
      "source": [
        "## 1. Tải dữ liệu"
      ]
    },
    {
      "cell_type": "code",
      "metadata": {
        "id": "SPeOqeNoK6Cr",
        "colab": {
          "base_uri": "https://localhost:8080/"
        },
        "outputId": "fcf39c73-7d87-414b-a513-efa7808930ed"
      },
      "source": [
        "!wget https://storage.googleapis.com/protonx-cloud-storage/datasets/credit_risk/train.csv\n",
        "!wget https://storage.googleapis.com/protonx-cloud-storage/datasets/credit_risk/validation.csv\n"
      ],
      "execution_count": null,
      "outputs": [
        {
          "output_type": "stream",
          "name": "stdout",
          "text": [
            "--2023-08-16 08:39:30--  https://storage.googleapis.com/protonx-cloud-storage/datasets/credit_risk/train.csv\n",
            "Resolving storage.googleapis.com (storage.googleapis.com)... 172.253.63.128, 142.250.31.128, 142.251.111.128, ...\n",
            "Connecting to storage.googleapis.com (storage.googleapis.com)|172.253.63.128|:443... connected.\n",
            "HTTP request sent, awaiting response... 200 OK\n",
            "Length: 38013 (37K) [application/octet-stream]\n",
            "Saving to: ‘train.csv.3’\n",
            "\n",
            "\rtrain.csv.3           0%[                    ]       0  --.-KB/s               \rtrain.csv.3         100%[===================>]  37.12K  --.-KB/s    in 0s      \n",
            "\n",
            "2023-08-16 08:39:30 (114 MB/s) - ‘train.csv.3’ saved [38013/38013]\n",
            "\n",
            "--2023-08-16 08:39:31--  https://storage.googleapis.com/protonx-cloud-storage/datasets/credit_risk/validation.csv\n",
            "Resolving storage.googleapis.com (storage.googleapis.com)... 172.253.63.128, 142.250.31.128, 142.251.111.128, ...\n",
            "Connecting to storage.googleapis.com (storage.googleapis.com)|172.253.63.128|:443... connected.\n",
            "HTTP request sent, awaiting response... 200 OK\n",
            "Length: 22699 (22K) [application/octet-stream]\n",
            "Saving to: ‘validation.csv.3’\n",
            "\n",
            "validation.csv.3    100%[===================>]  22.17K  --.-KB/s    in 0s      \n",
            "\n",
            "2023-08-16 08:39:31 (107 MB/s) - ‘validation.csv.3’ saved [22699/22699]\n",
            "\n"
          ]
        }
      ]
    },
    {
      "cell_type": "markdown",
      "metadata": {
        "id": "njD1bjYU4bm7"
      },
      "source": [
        "## 2. Đọc dữ liệu\n",
        "\n",
        "Đây là bộ dữ liệu cho vay, bao gồm những thuộc tính quyết định một tổ chức có nên cho một cá nhân vay tín dụng hay không.\n",
        "\n",
        "**a. Các đặc trưng để quyết định (Loại trừ đặc trưng Loan_ID)**\n",
        "- Gender (Giới tính)\n",
        "  - Dạng: Chuỗi\n",
        "  - Đặc trưng loại: `Male` hoặc `Female`\n",
        "- Married (Tình trạng hôn nhân)\n",
        "  - Dạng: Chuỗi\n",
        "  - Đặc trưng loại: `Yes` hoặc `No`\n",
        "- Dependents (Số lượng người phụ thuộc trong gia đình)\n",
        "  - Dạng: Chuỗi\n",
        "  - Đặc trưng loại: `0` hoặc `1` hoặc `2` hoặc `3+`\n",
        "- Education (Học vấn)\n",
        "  - Dạng: Chuỗi\n",
        "  - Đặc trưng loại: `Graduate` hoặc `Not Graduate`\n",
        "- Self_Employed (Có tự làm chủ không)\n",
        "  - Dạng: Chuỗi\n",
        "  - Đặc trưng loại: `Yes` hoặc `No`  \n",
        "- ApplicantIncome (Thu nhập người vay)\n",
        "  - Dạng: Số\n",
        "  - Đặc trưng số liên tục\n",
        "- CoapplicantIncome (Thu nhập người cùng đi vay)\n",
        "  - Dạng: Số\n",
        "  - Đặc trưng số liên tục\n",
        "- LoanAmount (Số tiền vay)\n",
        "  - Dạng: Số\n",
        "  - Đặc trưng số liên tục\n",
        "- Loan_Amount_Term (Kỳ hạn)\n",
        "  - Dạng: Số\n",
        "  - Đặc trưng số liên tục\n",
        "- Property_Area (Vị trí tài sản)\n",
        "  - Dạng: Chuỗi\n",
        "  - Đặc trưng loại: `Semiurban`, `Urban`, `Rural`\n",
        "- Credit_History (Lịch sử vay)\n",
        "  - Dạng: Số\n",
        "  - Đặc trưng số rời rạc: `1.0` hoặc `0.0`\n",
        "\n",
        "**b. Nhãn: Khả năng có nên cho vay hay không?**\n",
        "- Với file `train.cvs`\n",
        "  - Nhãn sử dụng dưới tên cột: `Loan_Status`\n",
        "- Với file `validation.cvs`\n",
        "  - Nhãn sử dụng dưới tên cột: `outcome`"
      ]
    },
    {
      "cell_type": "code",
      "metadata": {
        "id": "rbDV1LCCLXsE"
      },
      "source": [
        "train_df = pd.read_csv('train.csv')\n",
        "val_df = pd.read_csv('validation.csv')"
      ],
      "execution_count": null,
      "outputs": []
    },
    {
      "cell_type": "markdown",
      "metadata": {
        "id": "atja19LzVBu3"
      },
      "source": [
        "Hiển thị dữ liệu của tập train và validation"
      ]
    },
    {
      "cell_type": "code",
      "metadata": {
        "id": "fM716vF4LaZz",
        "colab": {
          "base_uri": "https://localhost:8080/",
          "height": 206
        },
        "outputId": "2201458e-57d4-4a4f-ef66-e898a967fab0"
      },
      "source": [
        "train_df.head()"
      ],
      "execution_count": null,
      "outputs": [
        {
          "output_type": "execute_result",
          "data": {
            "text/plain": [
              "    Loan_ID Gender Married Dependents     Education Self_Employed  \\\n",
              "0  LP001002   Male      No          0      Graduate            No   \n",
              "1  LP001003   Male     Yes          1      Graduate            No   \n",
              "2  LP001005   Male     Yes          0      Graduate           Yes   \n",
              "3  LP001006   Male     Yes          0  Not Graduate            No   \n",
              "4  LP001008   Male      No          0      Graduate            No   \n",
              "\n",
              "   ApplicantIncome  CoapplicantIncome  LoanAmount  Loan_Amount_Term  \\\n",
              "0             5849                0.0         NaN             360.0   \n",
              "1             4583             1508.0       128.0             360.0   \n",
              "2             3000                0.0        66.0             360.0   \n",
              "3             2583             2358.0       120.0             360.0   \n",
              "4             6000                0.0       141.0             360.0   \n",
              "\n",
              "   Credit_History Property_Area Loan_Status  \n",
              "0             1.0         Urban           Y  \n",
              "1             1.0         Rural           N  \n",
              "2             1.0         Urban           Y  \n",
              "3             1.0         Urban           Y  \n",
              "4             1.0         Urban           Y  "
            ],
            "text/html": [
              "\n",
              "\n",
              "  <div id=\"df-7378367b-11a7-4ca3-8fb1-33d833862974\">\n",
              "    <div class=\"colab-df-container\">\n",
              "      <div>\n",
              "<style scoped>\n",
              "    .dataframe tbody tr th:only-of-type {\n",
              "        vertical-align: middle;\n",
              "    }\n",
              "\n",
              "    .dataframe tbody tr th {\n",
              "        vertical-align: top;\n",
              "    }\n",
              "\n",
              "    .dataframe thead th {\n",
              "        text-align: right;\n",
              "    }\n",
              "</style>\n",
              "<table border=\"1\" class=\"dataframe\">\n",
              "  <thead>\n",
              "    <tr style=\"text-align: right;\">\n",
              "      <th></th>\n",
              "      <th>Loan_ID</th>\n",
              "      <th>Gender</th>\n",
              "      <th>Married</th>\n",
              "      <th>Dependents</th>\n",
              "      <th>Education</th>\n",
              "      <th>Self_Employed</th>\n",
              "      <th>ApplicantIncome</th>\n",
              "      <th>CoapplicantIncome</th>\n",
              "      <th>LoanAmount</th>\n",
              "      <th>Loan_Amount_Term</th>\n",
              "      <th>Credit_History</th>\n",
              "      <th>Property_Area</th>\n",
              "      <th>Loan_Status</th>\n",
              "    </tr>\n",
              "  </thead>\n",
              "  <tbody>\n",
              "    <tr>\n",
              "      <th>0</th>\n",
              "      <td>LP001002</td>\n",
              "      <td>Male</td>\n",
              "      <td>No</td>\n",
              "      <td>0</td>\n",
              "      <td>Graduate</td>\n",
              "      <td>No</td>\n",
              "      <td>5849</td>\n",
              "      <td>0.0</td>\n",
              "      <td>NaN</td>\n",
              "      <td>360.0</td>\n",
              "      <td>1.0</td>\n",
              "      <td>Urban</td>\n",
              "      <td>Y</td>\n",
              "    </tr>\n",
              "    <tr>\n",
              "      <th>1</th>\n",
              "      <td>LP001003</td>\n",
              "      <td>Male</td>\n",
              "      <td>Yes</td>\n",
              "      <td>1</td>\n",
              "      <td>Graduate</td>\n",
              "      <td>No</td>\n",
              "      <td>4583</td>\n",
              "      <td>1508.0</td>\n",
              "      <td>128.0</td>\n",
              "      <td>360.0</td>\n",
              "      <td>1.0</td>\n",
              "      <td>Rural</td>\n",
              "      <td>N</td>\n",
              "    </tr>\n",
              "    <tr>\n",
              "      <th>2</th>\n",
              "      <td>LP001005</td>\n",
              "      <td>Male</td>\n",
              "      <td>Yes</td>\n",
              "      <td>0</td>\n",
              "      <td>Graduate</td>\n",
              "      <td>Yes</td>\n",
              "      <td>3000</td>\n",
              "      <td>0.0</td>\n",
              "      <td>66.0</td>\n",
              "      <td>360.0</td>\n",
              "      <td>1.0</td>\n",
              "      <td>Urban</td>\n",
              "      <td>Y</td>\n",
              "    </tr>\n",
              "    <tr>\n",
              "      <th>3</th>\n",
              "      <td>LP001006</td>\n",
              "      <td>Male</td>\n",
              "      <td>Yes</td>\n",
              "      <td>0</td>\n",
              "      <td>Not Graduate</td>\n",
              "      <td>No</td>\n",
              "      <td>2583</td>\n",
              "      <td>2358.0</td>\n",
              "      <td>120.0</td>\n",
              "      <td>360.0</td>\n",
              "      <td>1.0</td>\n",
              "      <td>Urban</td>\n",
              "      <td>Y</td>\n",
              "    </tr>\n",
              "    <tr>\n",
              "      <th>4</th>\n",
              "      <td>LP001008</td>\n",
              "      <td>Male</td>\n",
              "      <td>No</td>\n",
              "      <td>0</td>\n",
              "      <td>Graduate</td>\n",
              "      <td>No</td>\n",
              "      <td>6000</td>\n",
              "      <td>0.0</td>\n",
              "      <td>141.0</td>\n",
              "      <td>360.0</td>\n",
              "      <td>1.0</td>\n",
              "      <td>Urban</td>\n",
              "      <td>Y</td>\n",
              "    </tr>\n",
              "  </tbody>\n",
              "</table>\n",
              "</div>\n",
              "      <button class=\"colab-df-convert\" onclick=\"convertToInteractive('df-7378367b-11a7-4ca3-8fb1-33d833862974')\"\n",
              "              title=\"Convert this dataframe to an interactive table.\"\n",
              "              style=\"display:none;\">\n",
              "\n",
              "  <svg xmlns=\"http://www.w3.org/2000/svg\" height=\"24px\"viewBox=\"0 0 24 24\"\n",
              "       width=\"24px\">\n",
              "    <path d=\"M0 0h24v24H0V0z\" fill=\"none\"/>\n",
              "    <path d=\"M18.56 5.44l.94 2.06.94-2.06 2.06-.94-2.06-.94-.94-2.06-.94 2.06-2.06.94zm-11 1L8.5 8.5l.94-2.06 2.06-.94-2.06-.94L8.5 2.5l-.94 2.06-2.06.94zm10 10l.94 2.06.94-2.06 2.06-.94-2.06-.94-.94-2.06-.94 2.06-2.06.94z\"/><path d=\"M17.41 7.96l-1.37-1.37c-.4-.4-.92-.59-1.43-.59-.52 0-1.04.2-1.43.59L10.3 9.45l-7.72 7.72c-.78.78-.78 2.05 0 2.83L4 21.41c.39.39.9.59 1.41.59.51 0 1.02-.2 1.41-.59l7.78-7.78 2.81-2.81c.8-.78.8-2.07 0-2.86zM5.41 20L4 18.59l7.72-7.72 1.47 1.35L5.41 20z\"/>\n",
              "  </svg>\n",
              "      </button>\n",
              "\n",
              "\n",
              "\n",
              "    <div id=\"df-2656618e-3d23-4c72-9d54-54ee132c11e5\">\n",
              "      <button class=\"colab-df-quickchart\" onclick=\"quickchart('df-2656618e-3d23-4c72-9d54-54ee132c11e5')\"\n",
              "              title=\"Suggest charts.\"\n",
              "              style=\"display:none;\">\n",
              "\n",
              "<svg xmlns=\"http://www.w3.org/2000/svg\" height=\"24px\"viewBox=\"0 0 24 24\"\n",
              "     width=\"24px\">\n",
              "    <g>\n",
              "        <path d=\"M19 3H5c-1.1 0-2 .9-2 2v14c0 1.1.9 2 2 2h14c1.1 0 2-.9 2-2V5c0-1.1-.9-2-2-2zM9 17H7v-7h2v7zm4 0h-2V7h2v10zm4 0h-2v-4h2v4z\"/>\n",
              "    </g>\n",
              "</svg>\n",
              "      </button>\n",
              "    </div>\n",
              "\n",
              "<style>\n",
              "  .colab-df-quickchart {\n",
              "    background-color: #E8F0FE;\n",
              "    border: none;\n",
              "    border-radius: 50%;\n",
              "    cursor: pointer;\n",
              "    display: none;\n",
              "    fill: #1967D2;\n",
              "    height: 32px;\n",
              "    padding: 0 0 0 0;\n",
              "    width: 32px;\n",
              "  }\n",
              "\n",
              "  .colab-df-quickchart:hover {\n",
              "    background-color: #E2EBFA;\n",
              "    box-shadow: 0px 1px 2px rgba(60, 64, 67, 0.3), 0px 1px 3px 1px rgba(60, 64, 67, 0.15);\n",
              "    fill: #174EA6;\n",
              "  }\n",
              "\n",
              "  [theme=dark] .colab-df-quickchart {\n",
              "    background-color: #3B4455;\n",
              "    fill: #D2E3FC;\n",
              "  }\n",
              "\n",
              "  [theme=dark] .colab-df-quickchart:hover {\n",
              "    background-color: #434B5C;\n",
              "    box-shadow: 0px 1px 3px 1px rgba(0, 0, 0, 0.15);\n",
              "    filter: drop-shadow(0px 1px 2px rgba(0, 0, 0, 0.3));\n",
              "    fill: #FFFFFF;\n",
              "  }\n",
              "</style>\n",
              "\n",
              "    <script>\n",
              "      async function quickchart(key) {\n",
              "        const containerElement = document.querySelector('#' + key);\n",
              "        const charts = await google.colab.kernel.invokeFunction(\n",
              "            'suggestCharts', [key], {});\n",
              "      }\n",
              "    </script>\n",
              "\n",
              "      <script>\n",
              "\n",
              "function displayQuickchartButton(domScope) {\n",
              "  let quickchartButtonEl =\n",
              "    domScope.querySelector('#df-2656618e-3d23-4c72-9d54-54ee132c11e5 button.colab-df-quickchart');\n",
              "  quickchartButtonEl.style.display =\n",
              "    google.colab.kernel.accessAllowed ? 'block' : 'none';\n",
              "}\n",
              "\n",
              "        displayQuickchartButton(document);\n",
              "      </script>\n",
              "      <style>\n",
              "    .colab-df-container {\n",
              "      display:flex;\n",
              "      flex-wrap:wrap;\n",
              "      gap: 12px;\n",
              "    }\n",
              "\n",
              "    .colab-df-convert {\n",
              "      background-color: #E8F0FE;\n",
              "      border: none;\n",
              "      border-radius: 50%;\n",
              "      cursor: pointer;\n",
              "      display: none;\n",
              "      fill: #1967D2;\n",
              "      height: 32px;\n",
              "      padding: 0 0 0 0;\n",
              "      width: 32px;\n",
              "    }\n",
              "\n",
              "    .colab-df-convert:hover {\n",
              "      background-color: #E2EBFA;\n",
              "      box-shadow: 0px 1px 2px rgba(60, 64, 67, 0.3), 0px 1px 3px 1px rgba(60, 64, 67, 0.15);\n",
              "      fill: #174EA6;\n",
              "    }\n",
              "\n",
              "    [theme=dark] .colab-df-convert {\n",
              "      background-color: #3B4455;\n",
              "      fill: #D2E3FC;\n",
              "    }\n",
              "\n",
              "    [theme=dark] .colab-df-convert:hover {\n",
              "      background-color: #434B5C;\n",
              "      box-shadow: 0px 1px 3px 1px rgba(0, 0, 0, 0.15);\n",
              "      filter: drop-shadow(0px 1px 2px rgba(0, 0, 0, 0.3));\n",
              "      fill: #FFFFFF;\n",
              "    }\n",
              "  </style>\n",
              "\n",
              "      <script>\n",
              "        const buttonEl =\n",
              "          document.querySelector('#df-7378367b-11a7-4ca3-8fb1-33d833862974 button.colab-df-convert');\n",
              "        buttonEl.style.display =\n",
              "          google.colab.kernel.accessAllowed ? 'block' : 'none';\n",
              "\n",
              "        async function convertToInteractive(key) {\n",
              "          const element = document.querySelector('#df-7378367b-11a7-4ca3-8fb1-33d833862974');\n",
              "          const dataTable =\n",
              "            await google.colab.kernel.invokeFunction('convertToInteractive',\n",
              "                                                     [key], {});\n",
              "          if (!dataTable) return;\n",
              "\n",
              "          const docLinkHtml = 'Like what you see? Visit the ' +\n",
              "            '<a target=\"_blank\" href=https://colab.research.google.com/notebooks/data_table.ipynb>data table notebook</a>'\n",
              "            + ' to learn more about interactive tables.';\n",
              "          element.innerHTML = '';\n",
              "          dataTable['output_type'] = 'display_data';\n",
              "          await google.colab.output.renderOutput(dataTable, element);\n",
              "          const docLink = document.createElement('div');\n",
              "          docLink.innerHTML = docLinkHtml;\n",
              "          element.appendChild(docLink);\n",
              "        }\n",
              "      </script>\n",
              "    </div>\n",
              "  </div>\n"
            ]
          },
          "metadata": {},
          "execution_count": 146
        }
      ]
    },
    {
      "cell_type": "code",
      "metadata": {
        "id": "9eoQA0Wq4rTF",
        "colab": {
          "base_uri": "https://localhost:8080/",
          "height": 206
        },
        "outputId": "4f514170-201b-4aac-c9e1-89b061845520"
      },
      "source": [
        "val_df.head()"
      ],
      "execution_count": null,
      "outputs": [
        {
          "output_type": "execute_result",
          "data": {
            "text/plain": [
              "    Loan_ID Gender Married Dependents     Education Self_Employed  \\\n",
              "0  LP001015   Male     Yes          0      Graduate            No   \n",
              "1  LP001022   Male     Yes          1      Graduate            No   \n",
              "2  LP001031   Male     Yes          2      Graduate            No   \n",
              "3  LP001035   Male     Yes          2      Graduate            No   \n",
              "4  LP001051   Male      No          0  Not Graduate            No   \n",
              "\n",
              "   ApplicantIncome  CoapplicantIncome  LoanAmount  Loan_Amount_Term  \\\n",
              "0             5720                  0       110.0             360.0   \n",
              "1             3076               1500       126.0             360.0   \n",
              "2             5000               1800       208.0             360.0   \n",
              "3             2340               2546       100.0             360.0   \n",
              "4             3276                  0        78.0             360.0   \n",
              "\n",
              "   Credit_History Property_Area outcome  \n",
              "0             1.0         Urban       Y  \n",
              "1             1.0         Urban       Y  \n",
              "2             1.0         Urban       Y  \n",
              "3             NaN         Urban       Y  \n",
              "4             1.0         Urban       N  "
            ],
            "text/html": [
              "\n",
              "\n",
              "  <div id=\"df-a8c450c7-9b14-4964-90ff-3905345d0ef9\">\n",
              "    <div class=\"colab-df-container\">\n",
              "      <div>\n",
              "<style scoped>\n",
              "    .dataframe tbody tr th:only-of-type {\n",
              "        vertical-align: middle;\n",
              "    }\n",
              "\n",
              "    .dataframe tbody tr th {\n",
              "        vertical-align: top;\n",
              "    }\n",
              "\n",
              "    .dataframe thead th {\n",
              "        text-align: right;\n",
              "    }\n",
              "</style>\n",
              "<table border=\"1\" class=\"dataframe\">\n",
              "  <thead>\n",
              "    <tr style=\"text-align: right;\">\n",
              "      <th></th>\n",
              "      <th>Loan_ID</th>\n",
              "      <th>Gender</th>\n",
              "      <th>Married</th>\n",
              "      <th>Dependents</th>\n",
              "      <th>Education</th>\n",
              "      <th>Self_Employed</th>\n",
              "      <th>ApplicantIncome</th>\n",
              "      <th>CoapplicantIncome</th>\n",
              "      <th>LoanAmount</th>\n",
              "      <th>Loan_Amount_Term</th>\n",
              "      <th>Credit_History</th>\n",
              "      <th>Property_Area</th>\n",
              "      <th>outcome</th>\n",
              "    </tr>\n",
              "  </thead>\n",
              "  <tbody>\n",
              "    <tr>\n",
              "      <th>0</th>\n",
              "      <td>LP001015</td>\n",
              "      <td>Male</td>\n",
              "      <td>Yes</td>\n",
              "      <td>0</td>\n",
              "      <td>Graduate</td>\n",
              "      <td>No</td>\n",
              "      <td>5720</td>\n",
              "      <td>0</td>\n",
              "      <td>110.0</td>\n",
              "      <td>360.0</td>\n",
              "      <td>1.0</td>\n",
              "      <td>Urban</td>\n",
              "      <td>Y</td>\n",
              "    </tr>\n",
              "    <tr>\n",
              "      <th>1</th>\n",
              "      <td>LP001022</td>\n",
              "      <td>Male</td>\n",
              "      <td>Yes</td>\n",
              "      <td>1</td>\n",
              "      <td>Graduate</td>\n",
              "      <td>No</td>\n",
              "      <td>3076</td>\n",
              "      <td>1500</td>\n",
              "      <td>126.0</td>\n",
              "      <td>360.0</td>\n",
              "      <td>1.0</td>\n",
              "      <td>Urban</td>\n",
              "      <td>Y</td>\n",
              "    </tr>\n",
              "    <tr>\n",
              "      <th>2</th>\n",
              "      <td>LP001031</td>\n",
              "      <td>Male</td>\n",
              "      <td>Yes</td>\n",
              "      <td>2</td>\n",
              "      <td>Graduate</td>\n",
              "      <td>No</td>\n",
              "      <td>5000</td>\n",
              "      <td>1800</td>\n",
              "      <td>208.0</td>\n",
              "      <td>360.0</td>\n",
              "      <td>1.0</td>\n",
              "      <td>Urban</td>\n",
              "      <td>Y</td>\n",
              "    </tr>\n",
              "    <tr>\n",
              "      <th>3</th>\n",
              "      <td>LP001035</td>\n",
              "      <td>Male</td>\n",
              "      <td>Yes</td>\n",
              "      <td>2</td>\n",
              "      <td>Graduate</td>\n",
              "      <td>No</td>\n",
              "      <td>2340</td>\n",
              "      <td>2546</td>\n",
              "      <td>100.0</td>\n",
              "      <td>360.0</td>\n",
              "      <td>NaN</td>\n",
              "      <td>Urban</td>\n",
              "      <td>Y</td>\n",
              "    </tr>\n",
              "    <tr>\n",
              "      <th>4</th>\n",
              "      <td>LP001051</td>\n",
              "      <td>Male</td>\n",
              "      <td>No</td>\n",
              "      <td>0</td>\n",
              "      <td>Not Graduate</td>\n",
              "      <td>No</td>\n",
              "      <td>3276</td>\n",
              "      <td>0</td>\n",
              "      <td>78.0</td>\n",
              "      <td>360.0</td>\n",
              "      <td>1.0</td>\n",
              "      <td>Urban</td>\n",
              "      <td>N</td>\n",
              "    </tr>\n",
              "  </tbody>\n",
              "</table>\n",
              "</div>\n",
              "      <button class=\"colab-df-convert\" onclick=\"convertToInteractive('df-a8c450c7-9b14-4964-90ff-3905345d0ef9')\"\n",
              "              title=\"Convert this dataframe to an interactive table.\"\n",
              "              style=\"display:none;\">\n",
              "\n",
              "  <svg xmlns=\"http://www.w3.org/2000/svg\" height=\"24px\"viewBox=\"0 0 24 24\"\n",
              "       width=\"24px\">\n",
              "    <path d=\"M0 0h24v24H0V0z\" fill=\"none\"/>\n",
              "    <path d=\"M18.56 5.44l.94 2.06.94-2.06 2.06-.94-2.06-.94-.94-2.06-.94 2.06-2.06.94zm-11 1L8.5 8.5l.94-2.06 2.06-.94-2.06-.94L8.5 2.5l-.94 2.06-2.06.94zm10 10l.94 2.06.94-2.06 2.06-.94-2.06-.94-.94-2.06-.94 2.06-2.06.94z\"/><path d=\"M17.41 7.96l-1.37-1.37c-.4-.4-.92-.59-1.43-.59-.52 0-1.04.2-1.43.59L10.3 9.45l-7.72 7.72c-.78.78-.78 2.05 0 2.83L4 21.41c.39.39.9.59 1.41.59.51 0 1.02-.2 1.41-.59l7.78-7.78 2.81-2.81c.8-.78.8-2.07 0-2.86zM5.41 20L4 18.59l7.72-7.72 1.47 1.35L5.41 20z\"/>\n",
              "  </svg>\n",
              "      </button>\n",
              "\n",
              "\n",
              "\n",
              "    <div id=\"df-e7bb0c5a-d571-403b-92e8-cb67704c94b4\">\n",
              "      <button class=\"colab-df-quickchart\" onclick=\"quickchart('df-e7bb0c5a-d571-403b-92e8-cb67704c94b4')\"\n",
              "              title=\"Suggest charts.\"\n",
              "              style=\"display:none;\">\n",
              "\n",
              "<svg xmlns=\"http://www.w3.org/2000/svg\" height=\"24px\"viewBox=\"0 0 24 24\"\n",
              "     width=\"24px\">\n",
              "    <g>\n",
              "        <path d=\"M19 3H5c-1.1 0-2 .9-2 2v14c0 1.1.9 2 2 2h14c1.1 0 2-.9 2-2V5c0-1.1-.9-2-2-2zM9 17H7v-7h2v7zm4 0h-2V7h2v10zm4 0h-2v-4h2v4z\"/>\n",
              "    </g>\n",
              "</svg>\n",
              "      </button>\n",
              "    </div>\n",
              "\n",
              "<style>\n",
              "  .colab-df-quickchart {\n",
              "    background-color: #E8F0FE;\n",
              "    border: none;\n",
              "    border-radius: 50%;\n",
              "    cursor: pointer;\n",
              "    display: none;\n",
              "    fill: #1967D2;\n",
              "    height: 32px;\n",
              "    padding: 0 0 0 0;\n",
              "    width: 32px;\n",
              "  }\n",
              "\n",
              "  .colab-df-quickchart:hover {\n",
              "    background-color: #E2EBFA;\n",
              "    box-shadow: 0px 1px 2px rgba(60, 64, 67, 0.3), 0px 1px 3px 1px rgba(60, 64, 67, 0.15);\n",
              "    fill: #174EA6;\n",
              "  }\n",
              "\n",
              "  [theme=dark] .colab-df-quickchart {\n",
              "    background-color: #3B4455;\n",
              "    fill: #D2E3FC;\n",
              "  }\n",
              "\n",
              "  [theme=dark] .colab-df-quickchart:hover {\n",
              "    background-color: #434B5C;\n",
              "    box-shadow: 0px 1px 3px 1px rgba(0, 0, 0, 0.15);\n",
              "    filter: drop-shadow(0px 1px 2px rgba(0, 0, 0, 0.3));\n",
              "    fill: #FFFFFF;\n",
              "  }\n",
              "</style>\n",
              "\n",
              "    <script>\n",
              "      async function quickchart(key) {\n",
              "        const containerElement = document.querySelector('#' + key);\n",
              "        const charts = await google.colab.kernel.invokeFunction(\n",
              "            'suggestCharts', [key], {});\n",
              "      }\n",
              "    </script>\n",
              "\n",
              "      <script>\n",
              "\n",
              "function displayQuickchartButton(domScope) {\n",
              "  let quickchartButtonEl =\n",
              "    domScope.querySelector('#df-e7bb0c5a-d571-403b-92e8-cb67704c94b4 button.colab-df-quickchart');\n",
              "  quickchartButtonEl.style.display =\n",
              "    google.colab.kernel.accessAllowed ? 'block' : 'none';\n",
              "}\n",
              "\n",
              "        displayQuickchartButton(document);\n",
              "      </script>\n",
              "      <style>\n",
              "    .colab-df-container {\n",
              "      display:flex;\n",
              "      flex-wrap:wrap;\n",
              "      gap: 12px;\n",
              "    }\n",
              "\n",
              "    .colab-df-convert {\n",
              "      background-color: #E8F0FE;\n",
              "      border: none;\n",
              "      border-radius: 50%;\n",
              "      cursor: pointer;\n",
              "      display: none;\n",
              "      fill: #1967D2;\n",
              "      height: 32px;\n",
              "      padding: 0 0 0 0;\n",
              "      width: 32px;\n",
              "    }\n",
              "\n",
              "    .colab-df-convert:hover {\n",
              "      background-color: #E2EBFA;\n",
              "      box-shadow: 0px 1px 2px rgba(60, 64, 67, 0.3), 0px 1px 3px 1px rgba(60, 64, 67, 0.15);\n",
              "      fill: #174EA6;\n",
              "    }\n",
              "\n",
              "    [theme=dark] .colab-df-convert {\n",
              "      background-color: #3B4455;\n",
              "      fill: #D2E3FC;\n",
              "    }\n",
              "\n",
              "    [theme=dark] .colab-df-convert:hover {\n",
              "      background-color: #434B5C;\n",
              "      box-shadow: 0px 1px 3px 1px rgba(0, 0, 0, 0.15);\n",
              "      filter: drop-shadow(0px 1px 2px rgba(0, 0, 0, 0.3));\n",
              "      fill: #FFFFFF;\n",
              "    }\n",
              "  </style>\n",
              "\n",
              "      <script>\n",
              "        const buttonEl =\n",
              "          document.querySelector('#df-a8c450c7-9b14-4964-90ff-3905345d0ef9 button.colab-df-convert');\n",
              "        buttonEl.style.display =\n",
              "          google.colab.kernel.accessAllowed ? 'block' : 'none';\n",
              "\n",
              "        async function convertToInteractive(key) {\n",
              "          const element = document.querySelector('#df-a8c450c7-9b14-4964-90ff-3905345d0ef9');\n",
              "          const dataTable =\n",
              "            await google.colab.kernel.invokeFunction('convertToInteractive',\n",
              "                                                     [key], {});\n",
              "          if (!dataTable) return;\n",
              "\n",
              "          const docLinkHtml = 'Like what you see? Visit the ' +\n",
              "            '<a target=\"_blank\" href=https://colab.research.google.com/notebooks/data_table.ipynb>data table notebook</a>'\n",
              "            + ' to learn more about interactive tables.';\n",
              "          element.innerHTML = '';\n",
              "          dataTable['output_type'] = 'display_data';\n",
              "          await google.colab.output.renderOutput(dataTable, element);\n",
              "          const docLink = document.createElement('div');\n",
              "          docLink.innerHTML = docLinkHtml;\n",
              "          element.appendChild(docLink);\n",
              "        }\n",
              "      </script>\n",
              "    </div>\n",
              "  </div>\n"
            ]
          },
          "metadata": {},
          "execution_count": 147
        }
      ]
    },
    {
      "cell_type": "markdown",
      "metadata": {
        "id": "EsoZFPNeVIZt"
      },
      "source": [
        "Hiển thị các giá trị của loại trong một cột bất kỳ"
      ]
    },
    {
      "cell_type": "code",
      "metadata": {
        "colab": {
          "base_uri": "https://localhost:8080/"
        },
        "id": "MHz4f3B6ScON",
        "outputId": "a02a3d5e-4060-4338-d6ac-8c695d3c80e5"
      },
      "source": [
        "train_df['Education'].value_counts()"
      ],
      "execution_count": null,
      "outputs": [
        {
          "output_type": "execute_result",
          "data": {
            "text/plain": [
              "Graduate        480\n",
              "Not Graduate    134\n",
              "Name: Education, dtype: int64"
            ]
          },
          "metadata": {},
          "execution_count": 148
        }
      ]
    },
    {
      "cell_type": "markdown",
      "metadata": {
        "id": "hmjiE9jbVqoE"
      },
      "source": [
        "## 3. Hiển thị thống kê của dữ liệu"
      ]
    },
    {
      "cell_type": "markdown",
      "metadata": {
        "id": "oX2mYCHEVvgU"
      },
      "source": [
        "Chúng ta sẽ sử dụng thư viện `tensorflow_data_validation` để trích xuất thông tin thống kê của dữ liệu và hiển thị thông tin."
      ]
    },
    {
      "cell_type": "code",
      "metadata": {
        "id": "xaOisYJuVc-k"
      },
      "source": [
        "def display_stats(df):\n",
        "  test_stats = tfdv.generate_statistics_from_dataframe(train_df)\n",
        "  tfdv.visualize_statistics(test_stats)"
      ],
      "execution_count": null,
      "outputs": []
    },
    {
      "cell_type": "markdown",
      "metadata": {
        "id": "OmXlxUF1WHcr"
      },
      "source": [
        "Hiển thị thống kê của dữ liệu train"
      ]
    },
    {
      "cell_type": "code",
      "metadata": {
        "id": "eVtwmZNpV9qn",
        "colab": {
          "base_uri": "https://localhost:8080/",
          "height": 1000
        },
        "outputId": "064ccbec-fb19-4b08-c226-6c7dc08ce214"
      },
      "source": [
        "display_stats(train_df)"
      ],
      "execution_count": null,
      "outputs": [
        {
          "output_type": "display_data",
          "data": {
            "text/plain": [
              "<IPython.core.display.HTML object>"
            ],
            "text/html": [
              "<iframe id='facets-iframe' width=\"100%\" height=\"500px\"></iframe>\n",
              "        <script>\n",
              "        facets_iframe = document.getElementById('facets-iframe');\n",
              "        facets_html = '<script src=\"https://cdnjs.cloudflare.com/ajax/libs/webcomponentsjs/1.3.3/webcomponents-lite.js\"><\\/script><link rel=\"import\" href=\"https://raw.githubusercontent.com/PAIR-code/facets/master/facets-dist/facets-jupyter.html\"><facets-overview proto-input=\"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\"></facets-overview>';\n",
              "        facets_iframe.srcdoc = facets_html;\n",
              "         facets_iframe.id = \"\";\n",
              "         setTimeout(() => {\n",
              "           facets_iframe.setAttribute('height', facets_iframe.contentWindow.document.body.offsetHeight + 'px')\n",
              "         }, 1500)\n",
              "         </script>"
            ]
          },
          "metadata": {}
        }
      ]
    },
    {
      "cell_type": "markdown",
      "metadata": {
        "id": "LRFSx0rJWK-K"
      },
      "source": [
        "Hiển thị thống kê của dữ liệu validation"
      ]
    },
    {
      "cell_type": "markdown",
      "metadata": {
        "id": "pvP7tGjVWQ7p"
      },
      "source": [
        "## 4. Đổi tên cột nhãn của bộ validation.\n",
        "Đổi tên từ `outcome` thành `Loan_Status`"
      ]
    },
    {
      "cell_type": "code",
      "metadata": {
        "id": "4vNj19b7V9nu"
      },
      "source": [
        "val_df = val_df.rename(columns={'outcome': 'Loan_Status'})"
      ],
      "execution_count": null,
      "outputs": []
    },
    {
      "cell_type": "markdown",
      "metadata": {
        "id": "gZLmKCBlWphk"
      },
      "source": [
        "Kiểm tra việc đổi tên"
      ]
    },
    {
      "cell_type": "code",
      "metadata": {
        "colab": {
          "base_uri": "https://localhost:8080/"
        },
        "id": "ithBKtUHV9lR",
        "outputId": "2c40e8fc-4b06-4cf0-9c42-e077e0e383a9"
      },
      "source": [
        "'Loan_Status' in val_df.columns and 'outcome' not in val_df.columns"
      ],
      "execution_count": null,
      "outputs": [
        {
          "output_type": "execute_result",
          "data": {
            "text/plain": [
              "True"
            ]
          },
          "metadata": {},
          "execution_count": 152
        }
      ]
    },
    {
      "cell_type": "markdown",
      "metadata": {
        "id": "RuoEDKkqW_Fq"
      },
      "source": [
        "## 5. Kiểm tra các cột bị thiếu giá trị"
      ]
    },
    {
      "cell_type": "markdown",
      "metadata": {
        "id": "Kw5-vTh8XQHz"
      },
      "source": [
        "Những cột thiếu giá trị trong tập train:\n",
        "- Đặc trưng loại: `Gender`, `Married`, `Dependents`, `Self_Employed`\n",
        "- Đặc trưng số liên tục: `LoanAmount`, `Loan_Amount_Term`\n",
        "- Đặc trưng số rời rạc: `Credit_History`"
      ]
    },
    {
      "cell_type": "code",
      "metadata": {
        "colab": {
          "base_uri": "https://localhost:8080/"
        },
        "id": "6pKm3cjI4w4D",
        "outputId": "309085a4-b7ff-415d-a55d-13e942d47fcf"
      },
      "source": [
        "train_df.isna().sum()"
      ],
      "execution_count": null,
      "outputs": [
        {
          "output_type": "execute_result",
          "data": {
            "text/plain": [
              "Loan_ID               0\n",
              "Gender               13\n",
              "Married               3\n",
              "Dependents           15\n",
              "Education             0\n",
              "Self_Employed        32\n",
              "ApplicantIncome       0\n",
              "CoapplicantIncome     0\n",
              "LoanAmount           22\n",
              "Loan_Amount_Term     14\n",
              "Credit_History       50\n",
              "Property_Area         0\n",
              "Loan_Status           0\n",
              "dtype: int64"
            ]
          },
          "metadata": {},
          "execution_count": 153
        }
      ]
    },
    {
      "cell_type": "markdown",
      "metadata": {
        "id": "dPVqRGAmYdy0"
      },
      "source": [
        "Những cột thiếu giá trị trong tập validation:\n",
        "- Đặc trưng loại: `Gender`, `Dependents`, `Self_Employed`\n",
        "- Đặc trưng số liên tục: `LoanAmount`, `Loan_Amount_Term`\n",
        "- Đặc trưng số rời rạc: `Credit_History`"
      ]
    },
    {
      "cell_type": "code",
      "metadata": {
        "colab": {
          "base_uri": "https://localhost:8080/"
        },
        "id": "yyioWgjd4w1w",
        "outputId": "d9604163-180d-4e36-a2d4-898023d81d4f"
      },
      "source": [
        "val_df.isna().sum()"
      ],
      "execution_count": null,
      "outputs": [
        {
          "output_type": "execute_result",
          "data": {
            "text/plain": [
              "Loan_ID               0\n",
              "Gender               11\n",
              "Married               0\n",
              "Dependents           10\n",
              "Education             0\n",
              "Self_Employed        23\n",
              "ApplicantIncome       0\n",
              "CoapplicantIncome     0\n",
              "LoanAmount            5\n",
              "Loan_Amount_Term      6\n",
              "Credit_History       29\n",
              "Property_Area         0\n",
              "Loan_Status           0\n",
              "dtype: int64"
            ]
          },
          "metadata": {},
          "execution_count": 154
        }
      ]
    },
    {
      "cell_type": "markdown",
      "metadata": {
        "id": "kjgb1_HNZImD"
      },
      "source": [
        "## 6. Xử lý dữ liệu bị thiếu (missing values)\n",
        "\n",
        "Trong bài này ta sử dụng một cách đơn giản để bổ sung các giá trị bị thiếu. Với\n",
        "- Đặc trưng loại: Bổ sung giá trị bị thiếu bằng giá trị xuất hiện nhiều nhất trong cột\n",
        "- Đặc trưng số liên tục: Bổ sung giá trị bị thiếu bằng giá trị trung bình (mean) của các giá trị trong cột\n",
        "- Đặc trưng số rời rạc: Bổ sung giá trị bị thiếu bằng giá trị xuất hiện nhiều nhất trong cột"
      ]
    },
    {
      "cell_type": "markdown",
      "metadata": {
        "id": "QdjxzLP1CMsf"
      },
      "source": [
        "**Chú ý:** Việc đổ đầy các giá trị thông qua giá trị nhiều nhất cũng như trung bình sẽ ảnh hưởng đến phân phối dữ liệu, nên trong phân tích việc này chỉ hiệu quả khi nguyên nhân thiếu hụt là `MCAR` (Missing Completely At Random) do một sự kiện đặc biệt nào đó và hoàn toàn không liên quan tới đặc trưng hiện tại cũng như các đặc trưng khác trong bộ dữ liệu.\n",
        "\n",
        "Chi tiết về thiếu dữ liệu - các nguyên nhân và giải pháp sẽ được đề cập chi tiết trong một buổi học của ProtonX."
      ]
    },
    {
      "cell_type": "markdown",
      "metadata": {
        "id": "s-a0fR3Rhsvd"
      },
      "source": [
        "### 6.1 Xử lý đặc trưng loại bị thiếu.\n",
        "Bổ sung giá trị bị thiếu bằng giá trị xuất hiện nhiều nhất trong cột"
      ]
    },
    {
      "cell_type": "markdown",
      "metadata": {
        "id": "UtVH2fW7aFGX"
      },
      "source": [
        "Ví dụ cột `Gender` ta đổ đầy các giá trị thiếu bằng giá trị xuất hiện nhiều nhất.\n",
        "\n",
        "Hàm kiểm tra giá trị xuất hiện nhiều nhất"
      ]
    },
    {
      "cell_type": "code",
      "metadata": {
        "colab": {
          "base_uri": "https://localhost:8080/",
          "height": 35
        },
        "id": "D4_3nO3E4wz7",
        "outputId": "75e95451-79ef-4de0-cd93-f718c9745e5e"
      },
      "source": [
        "most_frequent_gender = train_df['Gender'].mode()[0]\n",
        "most_frequent_gender"
      ],
      "execution_count": null,
      "outputs": [
        {
          "output_type": "execute_result",
          "data": {
            "text/plain": [
              "'Male'"
            ],
            "application/vnd.google.colaboratory.intrinsic+json": {
              "type": "string"
            }
          },
          "metadata": {},
          "execution_count": 155
        }
      ]
    },
    {
      "cell_type": "markdown",
      "metadata": {
        "id": "KMJdI9PXabVt"
      },
      "source": [
        "Sử dụng hàm `fillna` để đổ đầy các giá trị thiếu bằng giá trị này"
      ]
    },
    {
      "cell_type": "code",
      "metadata": {
        "id": "zo0eyhwb4wwo"
      },
      "source": [
        "train_df['Gender'] = train_df['Gender'].fillna(most_frequent_gender)"
      ],
      "execution_count": null,
      "outputs": []
    },
    {
      "cell_type": "markdown",
      "metadata": {
        "id": "tiEC739Ca1K9"
      },
      "source": [
        "Kiểm tra lại cột `Gender` còn giá trị thiếu hay không?"
      ]
    },
    {
      "cell_type": "code",
      "metadata": {
        "colab": {
          "base_uri": "https://localhost:8080/"
        },
        "id": "G5tbxQe74wuP",
        "outputId": "c728e89c-bd86-490f-c986-baa21577b6dc"
      },
      "source": [
        "train_df['Gender'].isna().sum()"
      ],
      "execution_count": null,
      "outputs": [
        {
          "output_type": "execute_result",
          "data": {
            "text/plain": [
              "0"
            ]
          },
          "metadata": {},
          "execution_count": 157
        }
      ]
    },
    {
      "cell_type": "markdown",
      "metadata": {
        "id": "aIOurrI8bAL-"
      },
      "source": [
        "```TODO 1:``` Đóng gói một hàm có khả năng đổ đầy thông tin cho đặc trưng loại bằng giá trị xuất hiện nhiều nhất trong cột"
      ]
    },
    {
      "cell_type": "code",
      "metadata": {
        "id": "GNrUYgFT4wr5"
      },
      "source": [
        "def fill_categorical_features(df, column_name):\n",
        "  \"\"\"\n",
        "  Đầu vào:\n",
        "    - df:\n",
        "      - Dạng: Pandas DataFrame.\n",
        "      - Ví dụ: train_df, val_df, test_df\n",
        "    - column_name:\n",
        "      - Miêu tả: Tên cột đặc trưng loại muốn đổ đầy các giá trị thiếu bằng giá trị xuất hiện nhiều nhất trong cột\n",
        "      - Điều kiện: len(column_name) > 0\n",
        "      - Ví dụ: 'Gender'\n",
        "  Đầu ra:\n",
        "    - Trả về Dataframe đã được đổ đầy thông tin trong cột\n",
        "  \"\"\"\n",
        "  # Lập trình tại đây\n",
        "\n",
        "  # Tìm ra giá trị xuất hiện nhiều nhất trong cột\n",
        "  most_frequent_value = df[column_name].mode()[0]\n",
        "\n",
        "  df[column_name] = df[column_name].fillna(most_frequent_value)\n",
        "\n",
        "  return df"
      ],
      "execution_count": null,
      "outputs": []
    },
    {
      "cell_type": "markdown",
      "metadata": {
        "id": "7afk4vPAePyk"
      },
      "source": [
        "```TODO 2```: Thực hiện hàm này trên các cột thiếu của tập train: `Gender`, `Married`, `Dependents`, `Self_Employed`"
      ]
    },
    {
      "cell_type": "code",
      "metadata": {
        "id": "7AtXvv43eO1H"
      },
      "source": [
        "train_df = fill_categorical_features(train_df, 'Gender')\n",
        "train_df = fill_categorical_features(train_df, 'Married')\n",
        "train_df = fill_categorical_features(train_df, 'Dependents')\n",
        "train_df = fill_categorical_features(train_df, 'Self_Employed')"
      ],
      "execution_count": null,
      "outputs": []
    },
    {
      "cell_type": "code",
      "metadata": {
        "id": "xjpjEohobV6M",
        "colab": {
          "base_uri": "https://localhost:8080/"
        },
        "outputId": "274869c3-225e-4985-e54d-7902082dcb96"
      },
      "source": [
        "# TEST CODE\n",
        "columns = ['Gender', 'Married', 'Dependents', 'Self_Employed']\n",
        "for col in columns:\n",
        "  print(\"Số lượng còn thiếu ở cột {} là: {}\".format(col, train_df[col].isna().sum()))\n",
        "  print(\"Số lượng các giá trị hiện tại của cột {} là\".format(col, ))\n",
        "  print(train_df[col].value_counts())\n",
        "  print('----------------------------------------------------')"
      ],
      "execution_count": null,
      "outputs": [
        {
          "output_type": "stream",
          "name": "stdout",
          "text": [
            "Số lượng còn thiếu ở cột Gender là: 0\n",
            "Số lượng các giá trị hiện tại của cột Gender là\n",
            "Male      502\n",
            "Female    112\n",
            "Name: Gender, dtype: int64\n",
            "----------------------------------------------------\n",
            "Số lượng còn thiếu ở cột Married là: 0\n",
            "Số lượng các giá trị hiện tại của cột Married là\n",
            "Yes    401\n",
            "No     213\n",
            "Name: Married, dtype: int64\n",
            "----------------------------------------------------\n",
            "Số lượng còn thiếu ở cột Dependents là: 0\n",
            "Số lượng các giá trị hiện tại của cột Dependents là\n",
            "0     360\n",
            "1     102\n",
            "2     101\n",
            "3+     51\n",
            "Name: Dependents, dtype: int64\n",
            "----------------------------------------------------\n",
            "Số lượng còn thiếu ở cột Self_Employed là: 0\n",
            "Số lượng các giá trị hiện tại của cột Self_Employed là\n",
            "No     532\n",
            "Yes     82\n",
            "Name: Self_Employed, dtype: int64\n",
            "----------------------------------------------------\n"
          ]
        }
      ]
    },
    {
      "cell_type": "markdown",
      "metadata": {
        "id": "cXugaPQfdXZ5"
      },
      "source": [
        "**Kết quả mong đợi:**\n",
        "\n",
        "```\n",
        "Số lượng còn thiếu ở cột Gender là: 0\n",
        "Số lượng các giá trị hiện tại của cột Gender là\n",
        "Male      502\n",
        "Female    112\n",
        "Name: Gender, dtype: int64\n",
        "----------------------------------------------------\n",
        "Số lượng còn thiếu ở cột Married là: 0\n",
        "Số lượng các giá trị hiện tại của cột Married là\n",
        "Yes    401\n",
        "No     213\n",
        "Name: Married, dtype: int64\n",
        "----------------------------------------------------\n",
        "Số lượng còn thiếu ở cột Dependents là: 0\n",
        "Số lượng các giá trị hiện tại của cột Dependents là\n",
        "0     360\n",
        "1     102\n",
        "2     101\n",
        "3+     51\n",
        "Name: Dependents, dtype: int64\n",
        "----------------------------------------------------\n",
        "Số lượng còn thiếu ở cột Self_Employed là: 0\n",
        "Số lượng các giá trị hiện tại của cột Self_Employed là\n",
        "No     532\n",
        "Yes     82\n",
        "Name: Self_Employed, dtype: int64\n",
        "----------------------------------------------------\n",
        "```"
      ]
    },
    {
      "cell_type": "markdown",
      "metadata": {
        "id": "shk0ji0IhLev"
      },
      "source": [
        "```TODO 3```: Thực hiện hàm này trên các cột thiếu của tập validation: `Gender`, `Dependents`, `Self_Employed`"
      ]
    },
    {
      "cell_type": "code",
      "metadata": {
        "id": "XF5en81hbV30"
      },
      "source": [
        "# Lập trình tại đây\n",
        "val_df = fill_categorical_features(val_df, 'Gender')\n",
        "val_df = fill_categorical_features(val_df, 'Dependents')\n",
        "val_df = fill_categorical_features(val_df, 'Self_Employed')"
      ],
      "execution_count": null,
      "outputs": []
    },
    {
      "cell_type": "code",
      "metadata": {
        "id": "35OSl2etbV1X",
        "colab": {
          "base_uri": "https://localhost:8080/"
        },
        "outputId": "a855721c-9582-47d6-b2fb-ef0ecd03a341"
      },
      "source": [
        "# TEST CODE\n",
        "columns = ['Gender', 'Dependents', 'Self_Employed']\n",
        "for col in columns:\n",
        "  print(\"Số lượng còn thiếu ở cột {} là: {}\".format(col, val_df[col].isna().sum()))\n",
        "  print(\"Số lượng các giá trị hiện tại của cột {} là\".format(col, ))\n",
        "  print(val_df[col].value_counts())\n",
        "  print('----------------------------------------------------')"
      ],
      "execution_count": null,
      "outputs": [
        {
          "output_type": "stream",
          "name": "stdout",
          "text": [
            "Số lượng còn thiếu ở cột Gender là: 0\n",
            "Số lượng các giá trị hiện tại của cột Gender là\n",
            "Male      297\n",
            "Female     70\n",
            "Name: Gender, dtype: int64\n",
            "----------------------------------------------------\n",
            "Số lượng còn thiếu ở cột Dependents là: 0\n",
            "Số lượng các giá trị hiện tại của cột Dependents là\n",
            "0     210\n",
            "2      59\n",
            "1      58\n",
            "3+     40\n",
            "Name: Dependents, dtype: int64\n",
            "----------------------------------------------------\n",
            "Số lượng còn thiếu ở cột Self_Employed là: 0\n",
            "Số lượng các giá trị hiện tại của cột Self_Employed là\n",
            "No     330\n",
            "Yes     37\n",
            "Name: Self_Employed, dtype: int64\n",
            "----------------------------------------------------\n"
          ]
        }
      ]
    },
    {
      "cell_type": "markdown",
      "metadata": {
        "id": "RHxpK3flhmZ7"
      },
      "source": [
        "**Kết quả mong đợi:**\n",
        "\n",
        "```\n",
        "Số lượng còn thiếu ở cột Gender là: 0\n",
        "Số lượng các giá trị hiện tại của cột Gender là\n",
        "Male      297\n",
        "Female     70\n",
        "Name: Gender, dtype: int64\n",
        "----------------------------------------------------\n",
        "Số lượng còn thiếu ở cột Dependents là: 0\n",
        "Số lượng các giá trị hiện tại của cột Dependents là\n",
        "0     210\n",
        "2      59\n",
        "1      58\n",
        "3+     40\n",
        "Name: Dependents, dtype: int64\n",
        "----------------------------------------------------\n",
        "Số lượng còn thiếu ở cột Self_Employed là: 0\n",
        "Số lượng các giá trị hiện tại của cột Self_Employed là\n",
        "No     330\n",
        "Yes     37\n",
        "Name: Self_Employed, dtype: int64\n",
        "----------------------------------------------------\n",
        "```"
      ]
    },
    {
      "cell_type": "markdown",
      "metadata": {
        "id": "k4UOjcZGh_fk"
      },
      "source": [
        "### 6.2 Xử lý đặc trưng số liên tục bị thiếu.\n",
        "Bổ sung giá trị bị thiếu bằng giá trị trung bình (mean) của các giá trị trong cột"
      ]
    },
    {
      "cell_type": "markdown",
      "metadata": {
        "id": "Xkz4r0ShiOsW"
      },
      "source": [
        "Ví dụ cột `LoanAmount` ta đổ đầy các giá trị thiếu bằng giá trị trung bình (mean) của các giá trị trong cột này\n",
        "\n",
        "Hàm tìm giá trị trung bình trong một cột"
      ]
    },
    {
      "cell_type": "code",
      "metadata": {
        "colab": {
          "base_uri": "https://localhost:8080/"
        },
        "id": "s71bWPvrbVy3",
        "outputId": "e175f14d-f886-4edb-9477-14ec5447420c"
      },
      "source": [
        "mean_loan_amount = train_df['LoanAmount'].mean()\n",
        "mean_loan_amount"
      ],
      "execution_count": null,
      "outputs": [
        {
          "output_type": "execute_result",
          "data": {
            "text/plain": [
              "146.41216216216216"
            ]
          },
          "metadata": {},
          "execution_count": 163
        }
      ]
    },
    {
      "cell_type": "markdown",
      "metadata": {
        "id": "m9hZXr6RimWh"
      },
      "source": [
        "Sử dụng hàm `fillna` để đổ đầy các giá trị thiếu bằng giá trị này"
      ]
    },
    {
      "cell_type": "code",
      "metadata": {
        "id": "tbkrUv7ybVwe"
      },
      "source": [
        "train_df['LoanAmount'] = train_df['LoanAmount'].fillna(mean_loan_amount)"
      ],
      "execution_count": null,
      "outputs": []
    },
    {
      "cell_type": "markdown",
      "metadata": {
        "id": "C3QfeiYqiubR"
      },
      "source": [
        "Kiểm tra lại cột `LoanAmount` còn giá trị thiếu hay không?"
      ]
    },
    {
      "cell_type": "code",
      "metadata": {
        "id": "1B81d1BZNAje",
        "colab": {
          "base_uri": "https://localhost:8080/"
        },
        "outputId": "7ec9c5bb-5ca9-406d-be86-5c1147f5cfc8"
      },
      "source": [
        "train_df['LoanAmount'].isna().sum()"
      ],
      "execution_count": null,
      "outputs": [
        {
          "output_type": "execute_result",
          "data": {
            "text/plain": [
              "0"
            ]
          },
          "metadata": {},
          "execution_count": 165
        }
      ]
    },
    {
      "cell_type": "markdown",
      "metadata": {
        "id": "y9tFXdV3i8Ke"
      },
      "source": [
        "```TODO 4:``` Đóng gói một hàm có khả năng đổ đầy thông tin cho đặc trưng số liên tục bằng giá trị trung bình trong cột"
      ]
    },
    {
      "cell_type": "code",
      "metadata": {
        "id": "CI18usHyiy3F"
      },
      "source": [
        "def fill_continuous_numerical_features(df, column_name):\n",
        "  \"\"\"\n",
        "  Đầu vào:\n",
        "    - df:\n",
        "      - Dạng: Pandas DataFrame.\n",
        "      - Ví dụ: train_df, val_df, test_df\n",
        "    - column_name:\n",
        "      - Miêu tả: Tên cột đặc trưng loại muốn đổ đầy các giá trị thiếu bằng bằng giá trị trung bình trong cột\n",
        "      - Điều kiện: len(column_name) > 0\n",
        "      - Ví dụ: 'LoanAmount'\n",
        "  Đầu ra:\n",
        "    - Trả về Dataframe đã được đổ đầy thông tin trong cột\n",
        "  \"\"\"\n",
        "  # Lập trình tại đây\n",
        "\n",
        "  # Tìm ra giá trị trung bình trong cột\n",
        "  mean_value = train_df[column_name].mean()\n",
        "\n",
        "  df[column_name] = df[column_name].fillna(mean_value)\n",
        "\n",
        "  return df"
      ],
      "execution_count": null,
      "outputs": []
    },
    {
      "cell_type": "markdown",
      "metadata": {
        "id": "lAZAVJ19jonK"
      },
      "source": [
        "```TODO 5```: Thực hiện hàm này trên các cột thiếu của tập train: `LoanAmount`, `Loan_Amount_Term`"
      ]
    },
    {
      "cell_type": "code",
      "metadata": {
        "id": "j8OT0vJhjpKt"
      },
      "source": [
        "# Lập trình tại đây\n",
        "train_df = fill_continuous_numerical_features(train_df, \"LoanAmount\")\n",
        "train_df = fill_continuous_numerical_features(train_df, \"Loan_Amount_Term\")"
      ],
      "execution_count": null,
      "outputs": []
    },
    {
      "cell_type": "code",
      "metadata": {
        "id": "4xdjla2jkCPW",
        "colab": {
          "base_uri": "https://localhost:8080/"
        },
        "outputId": "ede94027-d2e9-43cf-f5cc-205af951d44d"
      },
      "source": [
        "# TEST CODE\n",
        "columns = ['LoanAmount', 'Loan_Amount_Term']\n",
        "for col in columns:\n",
        "  print(\"Số lượng còn thiếu ở cột {} là: {}\".format(col, train_df[col].isna().sum()))\n",
        "  print(\"Giá trị trung bình mới: {}\".format(train_df[col].mean()))\n",
        "  print('----------------------------------------------------')"
      ],
      "execution_count": null,
      "outputs": [
        {
          "output_type": "stream",
          "name": "stdout",
          "text": [
            "Số lượng còn thiếu ở cột LoanAmount là: 0\n",
            "Giá trị trung bình mới: 146.41216216216216\n",
            "----------------------------------------------------\n",
            "Số lượng còn thiếu ở cột Loan_Amount_Term là: 0\n",
            "Giá trị trung bình mới: 342.0\n",
            "----------------------------------------------------\n"
          ]
        }
      ]
    },
    {
      "cell_type": "markdown",
      "metadata": {
        "id": "lWlsCHgYkq1d"
      },
      "source": [
        "**Kết quả mong đợi:**\n",
        "\n",
        "```\n",
        "Số lượng còn thiếu ở cột LoanAmount là: 0\n",
        "Giá trị trung bình mới: 146.41216216216213\n",
        "----------------------------------------------------\n",
        "Số lượng còn thiếu ở cột Loan_Amount_Term là: 0\n",
        "Giá trị trung bình mới: 342.0\n",
        "----------------------------------------------------\n",
        "```"
      ]
    },
    {
      "cell_type": "markdown",
      "metadata": {
        "id": "JAVEumLWlGY8"
      },
      "source": [
        "```TODO 6```: Thực hiện hàm này trên các cột thiếu của tập validation: `LoanAmount`, `Loan_Amount_Term`"
      ]
    },
    {
      "cell_type": "code",
      "metadata": {
        "id": "8B36xXlVlVQM"
      },
      "source": [
        "# Lập trình tại đây\n",
        "val_df = fill_continuous_numerical_features(val_df, \"LoanAmount\")\n",
        "val_df = fill_continuous_numerical_features(val_df, \"Loan_Amount_Term\")"
      ],
      "execution_count": null,
      "outputs": []
    },
    {
      "cell_type": "code",
      "metadata": {
        "id": "uolDz_2QlYM4",
        "colab": {
          "base_uri": "https://localhost:8080/"
        },
        "outputId": "84f0ca14-36ce-4af9-a6ee-7221fdbc4890"
      },
      "source": [
        "# TEST CODE\n",
        "columns = ['LoanAmount', 'Loan_Amount_Term']\n",
        "for col in columns:\n",
        "  print(\"Số lượng còn thiếu ở cột {} là: {}\".format(col, val_df[col].isna().sum()))\n",
        "  print(\"Giá trị trung bình mới: {}\".format(val_df[col].mean()))\n",
        "  print('----------------------------------------------------')"
      ],
      "execution_count": null,
      "outputs": [
        {
          "output_type": "stream",
          "name": "stdout",
          "text": [
            "Số lượng còn thiếu ở cột LoanAmount là: 0\n",
            "Giá trị trung bình mới: 136.2726452610649\n",
            "----------------------------------------------------\n",
            "Số lượng còn thiếu ở cột Loan_Amount_Term là: 0\n",
            "Giá trị trung bình mới: 342.5286103542234\n",
            "----------------------------------------------------\n"
          ]
        }
      ]
    },
    {
      "cell_type": "markdown",
      "metadata": {
        "id": "Aet4MPHJlaby"
      },
      "source": [
        "**Kết quả mong đợi:**\n",
        "\n",
        "```\n",
        "Số lượng còn thiếu ở cột LoanAmount là: 0\n",
        "Giá trị trung bình mới: 136.27264526106487\n",
        "----------------------------------------------------\n",
        "Số lượng còn thiếu ở cột Loan_Amount_Term là: 0\n",
        "Giá trị trung bình mới: 342.5286103542234\n",
        "----------------------------------------------------\n",
        "```"
      ]
    },
    {
      "cell_type": "markdown",
      "metadata": {
        "id": "YSjwJXkDk1iW"
      },
      "source": [
        "### 6.3 Xử lý đặc trưng số rời rạc bị thiếu.\n",
        "Bổ sung giá trị bị thiếu bằng giá trị xuất hiện nhiều nhất trong cột. Ta có thể sử dụng lại hàm ```fill_categorical_features``` cho đặc trưng này"
      ]
    },
    {
      "cell_type": "markdown",
      "metadata": {
        "id": "2iddppOwlvOn"
      },
      "source": [
        "Thực hiện hàm này trên cột thiếu của tập train: `Credit_History`"
      ]
    },
    {
      "cell_type": "code",
      "metadata": {
        "id": "m7eKJne5kPQn"
      },
      "source": [
        "train_df = fill_categorical_features(train_df, 'Credit_History')"
      ],
      "execution_count": null,
      "outputs": []
    },
    {
      "cell_type": "markdown",
      "metadata": {
        "id": "QFvt5g1Ql_y2"
      },
      "source": [
        "Thực hiện hàm này trên cột thiếu của tập validation: `Credit_History`"
      ]
    },
    {
      "cell_type": "code",
      "metadata": {
        "id": "-TTF2g-0l-sC"
      },
      "source": [
        "val_df = fill_categorical_features(val_df, 'Credit_History')"
      ],
      "execution_count": null,
      "outputs": []
    },
    {
      "cell_type": "markdown",
      "metadata": {
        "id": "lmvJbvLkmpuv"
      },
      "source": [
        "## 7. Chuẩn hóa các cột"
      ]
    },
    {
      "cell_type": "markdown",
      "metadata": {
        "id": "OdUl3OlAm2RE"
      },
      "source": [
        "### 7.1 Viết hàm chuẩn hóa"
      ]
    },
    {
      "cell_type": "markdown",
      "metadata": {
        "id": "3l_KH3D4FCvb"
      },
      "source": [
        "Hàm chuẩn hóa này sẽ có thể chuẩn hóa dữ liệu theo phân phối chuẩn hoặc sử dụng minmax scale"
      ]
    },
    {
      "cell_type": "code",
      "metadata": {
        "id": "RTh3sKLbnWL8"
      },
      "source": [
        "def scaling(df, scaler, column_names, mode='train'):\n",
        "  \"\"\"\n",
        "  Đầu vào:\n",
        "    - df:\n",
        "      - Dạng: Pandas DataFrame.\n",
        "      - Ví dụ: train_df, val_df, test_df\n",
        "    - scaler:\n",
        "      - Dạng: đối tượng được tạo bởi Scaler bởi sklearn.\n",
        "      - Ví dụ: StandardScaler() hoặc MinMaxScaler()\n",
        "    - column_names:\n",
        "      - Dạng: mảng Python chứa tên các cột muốn chuẩn hóa.\n",
        "      - Ví dụ: ['LoanAmount', 'ApplicantIncome', 'CoapplicantIncome']\n",
        "      - Điều kiện: len(column_names) > 0\n",
        "    - mode: Chế độ chuẩn hóa\n",
        "      - Dạng: chuỗi Python\n",
        "      - Ví dụ: một trong 3 giá trị {'train', 'val', 'test'}\n",
        "  Đầu ra:\n",
        "    - Trả về Dataframe đã được chuẩn hóa\n",
        "  \"\"\"\n",
        "  # Nếu mode không hợp lệ thì báo lỗi\n",
        "  assert mode in ['train', 'val', 'test'], 'Mode chỉ có thể nhận 3 giá trị nằm trong {train, val, test}'\n",
        "\n",
        "  # Truy xuất các cột\n",
        "  x = df[column_names].values\n",
        "\n",
        "  # Nếu chế độ train thì tìm các thông số của phân phối và chuẩn hóa\n",
        "  if mode == 'train':\n",
        "    x_scaled = scaler.fit_transform(x)\n",
        "\n",
        "  # Nếu chế độ là val hoặc test thì dùng các tham số để chuẩn hóa\n",
        "  else:\n",
        "    x_scaled = scaler.transform(x)\n",
        "\n",
        "  # Tạo dataframe con cho các dữ liệu đã được chuẩn hóa\n",
        "  normalized_features = pd.DataFrame(x_scaled, columns=column_names, index = df.index)\n",
        "\n",
        "  # Gán lại dataframe con này cho dataframe lớn ban đầu\n",
        "  df[column_names] = normalized_features\n",
        "\n",
        "  return df\n"
      ],
      "execution_count": null,
      "outputs": []
    },
    {
      "cell_type": "markdown",
      "metadata": {
        "id": "OshDSQTXvEp1"
      },
      "source": [
        "### 7.2 Chuẩn hóa cho tập train"
      ]
    },
    {
      "cell_type": "markdown",
      "metadata": {
        "id": "7Ag1rYx_qNkE"
      },
      "source": [
        "Thực hiện chuẩn hóa theo min max cho 4 cột `LoanAmount`, `ApplicantIncome`, `CoapplicantIncome`, `Loan_Amount_Term` của tập train"
      ]
    },
    {
      "cell_type": "code",
      "metadata": {
        "id": "vSCUbWUXqXzn"
      },
      "source": [
        "from sklearn.preprocessing import MinMaxScaler\n",
        "min_max_scaler = MinMaxScaler()\n",
        "\n",
        "column_names_to_normalize =  ['LoanAmount', 'ApplicantIncome', 'CoapplicantIncome', 'Loan_Amount_Term']\n",
        "train_df = scaling(train_df, min_max_scaler, column_names_to_normalize, mode='train')"
      ],
      "execution_count": null,
      "outputs": []
    },
    {
      "cell_type": "markdown",
      "metadata": {
        "id": "RBuRLpgnuyqK"
      },
      "source": [
        "Hiện thị các phân phối này"
      ]
    },
    {
      "cell_type": "code",
      "metadata": {
        "id": "vOqhWhb6ux9s"
      },
      "source": [
        "def display_distribution(df, features):\n",
        "  plt.figure(figsize=(12,28*4))\n",
        "  gs = gridspec.GridSpec(28, 1)\n",
        "  for i, cn in enumerate(features):\n",
        "      ax = plt.subplot(gs[i])\n",
        "      sns.distplot(df[cn][df.Loan_Status == 'Y'], bins=50)\n",
        "      sns.distplot(df[cn][df.Loan_Status == 'N'], bins=50)\n",
        "      ax.set_xlabel('')\n",
        "      ax.set_title('histogram of feature: ' + str(cn))\n",
        "  plt.show()"
      ],
      "execution_count": null,
      "outputs": []
    },
    {
      "cell_type": "markdown",
      "metadata": {
        "id": "DVSDmD_6N6Xf"
      },
      "source": [
        "Bạn có thể thắc mắc tại sao lại không sử dụng chuẩn hóa về phân phối chuẩn đơn vị (StandardScaler) thì trong trường hợp này các giá trị ví dụ `LoanAmount` đều là số dương cho nên chúng ta sẽ không ưu tiên sử dụng phân phối này - phân phối này tạo ra những `giá trị âm` bên trái trung bình 0. Có thể dùng phân phối `LogNormal` để thay thế."
      ]
    },
    {
      "cell_type": "code",
      "metadata": {
        "id": "eCG_DUUyvMN3",
        "colab": {
          "base_uri": "https://localhost:8080/",
          "height": 1000
        },
        "outputId": "f09b2335-27f4-4d79-ebef-bb278c441f93"
      },
      "source": [
        "columns_to_display = ['LoanAmount', 'ApplicantIncome', 'CoapplicantIncome']\n",
        "display_distribution(train_df, columns_to_display)"
      ],
      "execution_count": null,
      "outputs": [
        {
          "output_type": "stream",
          "name": "stderr",
          "text": [
            "<ipython-input-175-c0aa31936b6e>:6: UserWarning: \n",
            "\n",
            "`distplot` is a deprecated function and will be removed in seaborn v0.14.0.\n",
            "\n",
            "Please adapt your code to use either `displot` (a figure-level function with\n",
            "similar flexibility) or `histplot` (an axes-level function for histograms).\n",
            "\n",
            "For a guide to updating your code to use the new functions, please see\n",
            "https://gist.github.com/mwaskom/de44147ed2974457ad6372750bbe5751\n",
            "\n",
            "  sns.distplot(df[cn][df.Loan_Status == 'Y'], bins=50)\n",
            "<ipython-input-175-c0aa31936b6e>:7: UserWarning: \n",
            "\n",
            "`distplot` is a deprecated function and will be removed in seaborn v0.14.0.\n",
            "\n",
            "Please adapt your code to use either `displot` (a figure-level function with\n",
            "similar flexibility) or `histplot` (an axes-level function for histograms).\n",
            "\n",
            "For a guide to updating your code to use the new functions, please see\n",
            "https://gist.github.com/mwaskom/de44147ed2974457ad6372750bbe5751\n",
            "\n",
            "  sns.distplot(df[cn][df.Loan_Status == 'N'], bins=50)\n",
            "<ipython-input-175-c0aa31936b6e>:6: UserWarning: \n",
            "\n",
            "`distplot` is a deprecated function and will be removed in seaborn v0.14.0.\n",
            "\n",
            "Please adapt your code to use either `displot` (a figure-level function with\n",
            "similar flexibility) or `histplot` (an axes-level function for histograms).\n",
            "\n",
            "For a guide to updating your code to use the new functions, please see\n",
            "https://gist.github.com/mwaskom/de44147ed2974457ad6372750bbe5751\n",
            "\n",
            "  sns.distplot(df[cn][df.Loan_Status == 'Y'], bins=50)\n",
            "<ipython-input-175-c0aa31936b6e>:7: UserWarning: \n",
            "\n",
            "`distplot` is a deprecated function and will be removed in seaborn v0.14.0.\n",
            "\n",
            "Please adapt your code to use either `displot` (a figure-level function with\n",
            "similar flexibility) or `histplot` (an axes-level function for histograms).\n",
            "\n",
            "For a guide to updating your code to use the new functions, please see\n",
            "https://gist.github.com/mwaskom/de44147ed2974457ad6372750bbe5751\n",
            "\n",
            "  sns.distplot(df[cn][df.Loan_Status == 'N'], bins=50)\n",
            "<ipython-input-175-c0aa31936b6e>:6: UserWarning: \n",
            "\n",
            "`distplot` is a deprecated function and will be removed in seaborn v0.14.0.\n",
            "\n",
            "Please adapt your code to use either `displot` (a figure-level function with\n",
            "similar flexibility) or `histplot` (an axes-level function for histograms).\n",
            "\n",
            "For a guide to updating your code to use the new functions, please see\n",
            "https://gist.github.com/mwaskom/de44147ed2974457ad6372750bbe5751\n",
            "\n",
            "  sns.distplot(df[cn][df.Loan_Status == 'Y'], bins=50)\n",
            "<ipython-input-175-c0aa31936b6e>:7: UserWarning: \n",
            "\n",
            "`distplot` is a deprecated function and will be removed in seaborn v0.14.0.\n",
            "\n",
            "Please adapt your code to use either `displot` (a figure-level function with\n",
            "similar flexibility) or `histplot` (an axes-level function for histograms).\n",
            "\n",
            "For a guide to updating your code to use the new functions, please see\n",
            "https://gist.github.com/mwaskom/de44147ed2974457ad6372750bbe5751\n",
            "\n",
            "  sns.distplot(df[cn][df.Loan_Status == 'N'], bins=50)\n"
          ]
        },
        {
          "output_type": "display_data",
          "data": {
            "text/plain": [
              "<Figure size 1200x11200 with 3 Axes>"
            ],
            "image/png": "[encoded data removed]"
          },
          "metadata": {}
        }
      ]
    },
    {
      "cell_type": "markdown",
      "metadata": {
        "id": "HVkCU3Krwd-x"
      },
      "source": [
        "### 7.3 Chuẩn hóa cho tập validation"
      ]
    },
    {
      "cell_type": "markdown",
      "metadata": {
        "id": "NkiKBDGOwkV4"
      },
      "source": [
        "`TODO 7`: Sử dụng tham số min max của tập train để chuẩn hóa cho 4 cột `Loan_Amount_Term`, `LoanAmount`, `ApplicantIncome`, `CoapplicantIncome` của tập validation"
      ]
    },
    {
      "cell_type": "code",
      "metadata": {
        "id": "D38ey1w9vzJY"
      },
      "source": [
        "column_names_to_normalize =  ['LoanAmount', 'ApplicantIncome', 'CoapplicantIncome', 'Loan_Amount_Term']\n",
        "\n",
        "val_df = scaling(val_df, min_max_scaler, column_names_to_normalize, mode='val')"
      ],
      "execution_count": null,
      "outputs": []
    },
    {
      "cell_type": "code",
      "metadata": {
        "colab": {
          "base_uri": "https://localhost:8080/"
        },
        "id": "NrXXq5kexDkX",
        "outputId": "164d09af-80e4-43d6-8b1a-e437612b9b07"
      },
      "source": [
        "val_df['LoanAmount'].mean()"
      ],
      "execution_count": null,
      "outputs": [
        {
          "output_type": "execute_result",
          "data": {
            "text/plain": [
              "0.1841861725919897"
            ]
          },
          "metadata": {},
          "execution_count": 178
        }
      ]
    },
    {
      "cell_type": "code",
      "metadata": {
        "id": "2S4TCaVPw88R",
        "colab": {
          "base_uri": "https://localhost:8080/"
        },
        "outputId": "e15126ca-e895-44c6-e10c-04f9e59e3e41"
      },
      "source": [
        "# TEST CODE\n",
        "# Lập trình tại đây\n",
        "columns = ['LoanAmount', 'ApplicantIncome', 'CoapplicantIncome', 'Loan_Amount_Term']\n",
        "for col in columns:\n",
        "  print(\"Giá trị trung bình của cột {} mới là : {}\".format(col, val_df[col].mean()))"
      ],
      "execution_count": null,
      "outputs": [
        {
          "output_type": "stream",
          "name": "stdout",
          "text": [
            "Giá trị trung bình của cột LoanAmount mới là : 0.1841861725919897\n",
            "Giá trị trung bình của cột ApplicantIncome mới là : 0.05758317198566323\n",
            "Giá trị trung bình của cột CoapplicantIncome mới là : 0.037669562403718757\n",
            "Giá trị trung bình của cột Loan_Amount_Term mới là : 0.7062577144321013\n"
          ]
        }
      ]
    },
    {
      "cell_type": "markdown",
      "metadata": {
        "id": "7J0XgzDfxfmC"
      },
      "source": [
        "**Kết quả mong đợi:**\n",
        "\n",
        "```\n",
        "Giá trị trung bình của cột LoanAmount mới là : 0.18418617259198974\n",
        "Giá trị trung bình của cột ApplicantIncome mới là : 0.05758317198566323\n",
        "Giá trị trung bình của cột CoapplicantIncome mới là : 0.037669562403718757\n",
        "Giá trị trung bình của cột Loan_Amount_Term mới là : 0.7062577144321035\n",
        "```"
      ]
    },
    {
      "cell_type": "markdown",
      "metadata": {
        "id": "7crd3__yylby"
      },
      "source": [
        "## 8. Số hóa các đặc trưng loại"
      ]
    },
    {
      "cell_type": "markdown",
      "metadata": {
        "id": "W65A0Au30Lpr"
      },
      "source": [
        "Danh sách các cột đặc trưng loại.\n",
        "- Gender\n",
        "- Married\n",
        "- Dependents\n",
        "- Education\n",
        "- Self_Employed\n",
        "- Property_Area\n",
        "- Loan_Status"
      ]
    },
    {
      "cell_type": "markdown",
      "metadata": {
        "id": "BJSzYJVd0b5D"
      },
      "source": [
        "### 8.1 Định nghĩa danh sách chuyển đặc trưng loại thành số tương ứng"
      ]
    },
    {
      "cell_type": "markdown",
      "metadata": {
        "id": "4zwB9NpE0giu"
      },
      "source": [
        "Ta định nghĩa một từ điển lồng trong từ điển định nghĩa những giá trị tương ứng khi ta số hóa.\n",
        "\n",
        "Ví dụ:  \n",
        "- Cột `Gender` các giá trị có thể là `Male` và `Female` ta sẽ chuyển thành `0` và `1`\n",
        "- Cột `Dependents` các giá trị có thể là chuỗi `'0'`, `'1'`, `'2'`, `'3+'` ta chuyển thành số `0`, `1`, `2`, `3`"
      ]
    },
    {
      "cell_type": "code",
      "metadata": {
        "id": "qJJq1S-1yh0Y"
      },
      "source": [
        "categorical_to_number = {\n",
        "    'Gender': {\n",
        "        'Male': 0,\n",
        "        'Female': 1,\n",
        "    },\n",
        "    'Married': {\n",
        "        'Yes': 1,\n",
        "        'No': 0\n",
        "    },\n",
        "    'Dependents': {\n",
        "      '0': 0,\n",
        "      '1': 1,\n",
        "      '2': 2,\n",
        "      '3+': 3,\n",
        "    },\n",
        "    'Education': {\n",
        "        'Not Graduate': 0,\n",
        "        'Graduate': 1,\n",
        "    },\n",
        "    'Self_Employed': {\n",
        "        'No': 0,\n",
        "        'Yes': 1,\n",
        "    },\n",
        "    'Property_Area': {\n",
        "        'Rural': 0,\n",
        "        'Urban': 1,\n",
        "        'Semiurban': 2,\n",
        "    },\n",
        "    'Loan_Status': {\n",
        "        'N': 0,\n",
        "        'Y': 1,\n",
        "    }\n",
        "\n",
        "}"
      ],
      "execution_count": null,
      "outputs": []
    },
    {
      "cell_type": "markdown",
      "metadata": {
        "id": "BEjGHcDq2PDw"
      },
      "source": [
        "### 8.2 Tiến hành chuyển đặc trưng loại thành số trên tập train"
      ]
    },
    {
      "cell_type": "markdown",
      "metadata": {
        "id": "3ixgCNW42X8G"
      },
      "source": [
        "Hàm để chuyển một cột từ loại thành số. Ví dụ với cột `Gender`\n",
        "\n",
        "```train_df['Gender'].map( {'Male': 0, 'Female': 1} ).astype(int)```"
      ]
    },
    {
      "cell_type": "markdown",
      "metadata": {
        "id": "FOTy5IjW1n1J"
      },
      "source": [
        "Thay vì chạy hàm này trên từng cột thì ta `lặp` qua từng cột tập `train` và sử dụng hàm này"
      ]
    },
    {
      "cell_type": "code",
      "metadata": {
        "id": "hWuyAKaY1YQ7"
      },
      "source": [
        "for col in categorical_to_number:\n",
        "  alternative_values = categorical_to_number[col]\n",
        "  train_df[col] =  train_df[col].map( alternative_values ).astype(int)"
      ],
      "execution_count": null,
      "outputs": []
    },
    {
      "cell_type": "markdown",
      "metadata": {
        "id": "Ch22KR_12DS6"
      },
      "source": [
        "Giờ ta có thể kiểm tra tất cả các cột đã được số hóa giá trị"
      ]
    },
    {
      "cell_type": "code",
      "metadata": {
        "id": "BCcnv_nO2Cum",
        "colab": {
          "base_uri": "https://localhost:8080/",
          "height": 206
        },
        "outputId": "f305cd33-20d8-4c32-e7aa-51ac10698307"
      },
      "source": [
        "train_df.head()"
      ],
      "execution_count": null,
      "outputs": [
        {
          "output_type": "execute_result",
          "data": {
            "text/plain": [
              "    Loan_ID  Gender  Married  Dependents  Education  Self_Employed  \\\n",
              "0  LP001002       0        0           0          1              0   \n",
              "1  LP001003       0        1           1          1              0   \n",
              "2  LP001005       0        1           0          1              1   \n",
              "3  LP001006       0        1           0          0              0   \n",
              "4  LP001008       0        0           0          1              0   \n",
              "\n",
              "   ApplicantIncome  CoapplicantIncome  LoanAmount  Loan_Amount_Term  \\\n",
              "0         0.070489           0.000000    0.198860           0.74359   \n",
              "1         0.054830           0.036192    0.172214           0.74359   \n",
              "2         0.035250           0.000000    0.082489           0.74359   \n",
              "3         0.030093           0.056592    0.160637           0.74359   \n",
              "4         0.072356           0.000000    0.191027           0.74359   \n",
              "\n",
              "   Credit_History  Property_Area  Loan_Status  \n",
              "0             1.0              1            1  \n",
              "1             1.0              0            0  \n",
              "2             1.0              1            1  \n",
              "3             1.0              1            1  \n",
              "4             1.0              1            1  "
            ],
            "text/html": [
              "\n",
              "\n",
              "  <div id=\"df-d7a97b58-6510-4546-a158-a4ac53bcc98a\">\n",
              "    <div class=\"colab-df-container\">\n",
              "      <div>\n",
              "<style scoped>\n",
              "    .dataframe tbody tr th:only-of-type {\n",
              "        vertical-align: middle;\n",
              "    }\n",
              "\n",
              "    .dataframe tbody tr th {\n",
              "        vertical-align: top;\n",
              "    }\n",
              "\n",
              "    .dataframe thead th {\n",
              "        text-align: right;\n",
              "    }\n",
              "</style>\n",
              "<table border=\"1\" class=\"dataframe\">\n",
              "  <thead>\n",
              "    <tr style=\"text-align: right;\">\n",
              "      <th></th>\n",
              "      <th>Loan_ID</th>\n",
              "      <th>Gender</th>\n",
              "      <th>Married</th>\n",
              "      <th>Dependents</th>\n",
              "      <th>Education</th>\n",
              "      <th>Self_Employed</th>\n",
              "      <th>ApplicantIncome</th>\n",
              "      <th>CoapplicantIncome</th>\n",
              "      <th>LoanAmount</th>\n",
              "      <th>Loan_Amount_Term</th>\n",
              "      <th>Credit_History</th>\n",
              "      <th>Property_Area</th>\n",
              "      <th>Loan_Status</th>\n",
              "    </tr>\n",
              "  </thead>\n",
              "  <tbody>\n",
              "    <tr>\n",
              "      <th>0</th>\n",
              "      <td>LP001002</td>\n",
              "      <td>0</td>\n",
              "      <td>0</td>\n",
              "      <td>0</td>\n",
              "      <td>1</td>\n",
              "      <td>0</td>\n",
              "      <td>0.070489</td>\n",
              "      <td>0.000000</td>\n",
              "      <td>0.198860</td>\n",
              "      <td>0.74359</td>\n",
              "      <td>1.0</td>\n",
              "      <td>1</td>\n",
              "      <td>1</td>\n",
              "    </tr>\n",
              "    <tr>\n",
              "      <th>1</th>\n",
              "      <td>LP001003</td>\n",
              "      <td>0</td>\n",
              "      <td>1</td>\n",
              "      <td>1</td>\n",
              "      <td>1</td>\n",
              "      <td>0</td>\n",
              "      <td>0.054830</td>\n",
              "      <td>0.036192</td>\n",
              "      <td>0.172214</td>\n",
              "      <td>0.74359</td>\n",
              "      <td>1.0</td>\n",
              "      <td>0</td>\n",
              "      <td>0</td>\n",
              "    </tr>\n",
              "    <tr>\n",
              "      <th>2</th>\n",
              "      <td>LP001005</td>\n",
              "      <td>0</td>\n",
              "      <td>1</td>\n",
              "      <td>0</td>\n",
              "      <td>1</td>\n",
              "      <td>1</td>\n",
              "      <td>0.035250</td>\n",
              "      <td>0.000000</td>\n",
              "      <td>0.082489</td>\n",
              "      <td>0.74359</td>\n",
              "      <td>1.0</td>\n",
              "      <td>1</td>\n",
              "      <td>1</td>\n",
              "    </tr>\n",
              "    <tr>\n",
              "      <th>3</th>\n",
              "      <td>LP001006</td>\n",
              "      <td>0</td>\n",
              "      <td>1</td>\n",
              "      <td>0</td>\n",
              "      <td>0</td>\n",
              "      <td>0</td>\n",
              "      <td>0.030093</td>\n",
              "      <td>0.056592</td>\n",
              "      <td>0.160637</td>\n",
              "      <td>0.74359</td>\n",
              "      <td>1.0</td>\n",
              "      <td>1</td>\n",
              "      <td>1</td>\n",
              "    </tr>\n",
              "    <tr>\n",
              "      <th>4</th>\n",
              "      <td>LP001008</td>\n",
              "      <td>0</td>\n",
              "      <td>0</td>\n",
              "      <td>0</td>\n",
              "      <td>1</td>\n",
              "      <td>0</td>\n",
              "      <td>0.072356</td>\n",
              "      <td>0.000000</td>\n",
              "      <td>0.191027</td>\n",
              "      <td>0.74359</td>\n",
              "      <td>1.0</td>\n",
              "      <td>1</td>\n",
              "      <td>1</td>\n",
              "    </tr>\n",
              "  </tbody>\n",
              "</table>\n",
              "</div>\n",
              "      <button class=\"colab-df-convert\" onclick=\"convertToInteractive('df-d7a97b58-6510-4546-a158-a4ac53bcc98a')\"\n",
              "              title=\"Convert this dataframe to an interactive table.\"\n",
              "              style=\"display:none;\">\n",
              "\n",
              "  <svg xmlns=\"http://www.w3.org/2000/svg\" height=\"24px\"viewBox=\"0 0 24 24\"\n",
              "       width=\"24px\">\n",
              "    <path d=\"M0 0h24v24H0V0z\" fill=\"none\"/>\n",
              "    <path d=\"M18.56 5.44l.94 2.06.94-2.06 2.06-.94-2.06-.94-.94-2.06-.94 2.06-2.06.94zm-11 1L8.5 8.5l.94-2.06 2.06-.94-2.06-.94L8.5 2.5l-.94 2.06-2.06.94zm10 10l.94 2.06.94-2.06 2.06-.94-2.06-.94-.94-2.06-.94 2.06-2.06.94z\"/><path d=\"M17.41 7.96l-1.37-1.37c-.4-.4-.92-.59-1.43-.59-.52 0-1.04.2-1.43.59L10.3 9.45l-7.72 7.72c-.78.78-.78 2.05 0 2.83L4 21.41c.39.39.9.59 1.41.59.51 0 1.02-.2 1.41-.59l7.78-7.78 2.81-2.81c.8-.78.8-2.07 0-2.86zM5.41 20L4 18.59l7.72-7.72 1.47 1.35L5.41 20z\"/>\n",
              "  </svg>\n",
              "      </button>\n",
              "\n",
              "\n",
              "\n",
              "    <div id=\"df-221b335b-24e6-4149-af4e-db0257a98876\">\n",
              "      <button class=\"colab-df-quickchart\" onclick=\"quickchart('df-221b335b-24e6-4149-af4e-db0257a98876')\"\n",
              "              title=\"Suggest charts.\"\n",
              "              style=\"display:none;\">\n",
              "\n",
              "<svg xmlns=\"http://www.w3.org/2000/svg\" height=\"24px\"viewBox=\"0 0 24 24\"\n",
              "     width=\"24px\">\n",
              "    <g>\n",
              "        <path d=\"M19 3H5c-1.1 0-2 .9-2 2v14c0 1.1.9 2 2 2h14c1.1 0 2-.9 2-2V5c0-1.1-.9-2-2-2zM9 17H7v-7h2v7zm4 0h-2V7h2v10zm4 0h-2v-4h2v4z\"/>\n",
              "    </g>\n",
              "</svg>\n",
              "      </button>\n",
              "    </div>\n",
              "\n",
              "<style>\n",
              "  .colab-df-quickchart {\n",
              "    background-color: #E8F0FE;\n",
              "    border: none;\n",
              "    border-radius: 50%;\n",
              "    cursor: pointer;\n",
              "    display: none;\n",
              "    fill: #1967D2;\n",
              "    height: 32px;\n",
              "    padding: 0 0 0 0;\n",
              "    width: 32px;\n",
              "  }\n",
              "\n",
              "  .colab-df-quickchart:hover {\n",
              "    background-color: #E2EBFA;\n",
              "    box-shadow: 0px 1px 2px rgba(60, 64, 67, 0.3), 0px 1px 3px 1px rgba(60, 64, 67, 0.15);\n",
              "    fill: #174EA6;\n",
              "  }\n",
              "\n",
              "  [theme=dark] .colab-df-quickchart {\n",
              "    background-color: #3B4455;\n",
              "    fill: #D2E3FC;\n",
              "  }\n",
              "\n",
              "  [theme=dark] .colab-df-quickchart:hover {\n",
              "    background-color: #434B5C;\n",
              "    box-shadow: 0px 1px 3px 1px rgba(0, 0, 0, 0.15);\n",
              "    filter: drop-shadow(0px 1px 2px rgba(0, 0, 0, 0.3));\n",
              "    fill: #FFFFFF;\n",
              "  }\n",
              "</style>\n",
              "\n",
              "    <script>\n",
              "      async function quickchart(key) {\n",
              "        const containerElement = document.querySelector('#' + key);\n",
              "        const charts = await google.colab.kernel.invokeFunction(\n",
              "            'suggestCharts', [key], {});\n",
              "      }\n",
              "    </script>\n",
              "\n",
              "      <script>\n",
              "\n",
              "function displayQuickchartButton(domScope) {\n",
              "  let quickchartButtonEl =\n",
              "    domScope.querySelector('#df-221b335b-24e6-4149-af4e-db0257a98876 button.colab-df-quickchart');\n",
              "  quickchartButtonEl.style.display =\n",
              "    google.colab.kernel.accessAllowed ? 'block' : 'none';\n",
              "}\n",
              "\n",
              "        displayQuickchartButton(document);\n",
              "      </script>\n",
              "      <style>\n",
              "    .colab-df-container {\n",
              "      display:flex;\n",
              "      flex-wrap:wrap;\n",
              "      gap: 12px;\n",
              "    }\n",
              "\n",
              "    .colab-df-convert {\n",
              "      background-color: #E8F0FE;\n",
              "      border: none;\n",
              "      border-radius: 50%;\n",
              "      cursor: pointer;\n",
              "      display: none;\n",
              "      fill: #1967D2;\n",
              "      height: 32px;\n",
              "      padding: 0 0 0 0;\n",
              "      width: 32px;\n",
              "    }\n",
              "\n",
              "    .colab-df-convert:hover {\n",
              "      background-color: #E2EBFA;\n",
              "      box-shadow: 0px 1px 2px rgba(60, 64, 67, 0.3), 0px 1px 3px 1px rgba(60, 64, 67, 0.15);\n",
              "      fill: #174EA6;\n",
              "    }\n",
              "\n",
              "    [theme=dark] .colab-df-convert {\n",
              "      background-color: #3B4455;\n",
              "      fill: #D2E3FC;\n",
              "    }\n",
              "\n",
              "    [theme=dark] .colab-df-convert:hover {\n",
              "      background-color: #434B5C;\n",
              "      box-shadow: 0px 1px 3px 1px rgba(0, 0, 0, 0.15);\n",
              "      filter: drop-shadow(0px 1px 2px rgba(0, 0, 0, 0.3));\n",
              "      fill: #FFFFFF;\n",
              "    }\n",
              "  </style>\n",
              "\n",
              "      <script>\n",
              "        const buttonEl =\n",
              "          document.querySelector('#df-d7a97b58-6510-4546-a158-a4ac53bcc98a button.colab-df-convert');\n",
              "        buttonEl.style.display =\n",
              "          google.colab.kernel.accessAllowed ? 'block' : 'none';\n",
              "\n",
              "        async function convertToInteractive(key) {\n",
              "          const element = document.querySelector('#df-d7a97b58-6510-4546-a158-a4ac53bcc98a');\n",
              "          const dataTable =\n",
              "            await google.colab.kernel.invokeFunction('convertToInteractive',\n",
              "                                                     [key], {});\n",
              "          if (!dataTable) return;\n",
              "\n",
              "          const docLinkHtml = 'Like what you see? Visit the ' +\n",
              "            '<a target=\"_blank\" href=https://colab.research.google.com/notebooks/data_table.ipynb>data table notebook</a>'\n",
              "            + ' to learn more about interactive tables.';\n",
              "          element.innerHTML = '';\n",
              "          dataTable['output_type'] = 'display_data';\n",
              "          await google.colab.output.renderOutput(dataTable, element);\n",
              "          const docLink = document.createElement('div');\n",
              "          docLink.innerHTML = docLinkHtml;\n",
              "          element.appendChild(docLink);\n",
              "        }\n",
              "      </script>\n",
              "    </div>\n",
              "  </div>\n"
            ]
          },
          "metadata": {},
          "execution_count": 182
        }
      ]
    },
    {
      "cell_type": "markdown",
      "metadata": {
        "id": "Uxvssu2k2Vhf"
      },
      "source": [
        "### 8.3 Tiến hành chuyển đặc trưng loại thành số trên tập validation"
      ]
    },
    {
      "cell_type": "markdown",
      "metadata": {
        "id": "bUwa7nnz25HY"
      },
      "source": [
        "`TODO 8`: Số hóa các cột tương tự với tập validation, sử dụng từ điển `categorical_to_number` bên trên"
      ]
    },
    {
      "cell_type": "code",
      "metadata": {
        "id": "7w22oD192Hgw"
      },
      "source": [
        "for col in categorical_to_number:\n",
        "  alternative_values = categorical_to_number[col]\n",
        "  val_df[col] = val_df[col].map( alternative_values ).astype(int)"
      ],
      "execution_count": null,
      "outputs": []
    },
    {
      "cell_type": "code",
      "metadata": {
        "id": "QQtgshTO3Gl4",
        "colab": {
          "base_uri": "https://localhost:8080/"
        },
        "outputId": "98aefb5a-b2db-4cd8-f894-b20280845ef8"
      },
      "source": [
        "# TEST CODE\n",
        "columns = ['Gender', 'Married', 'Dependents', 'Education', 'Self_Employed', 'Property_Area', 'Loan_Status']\n",
        "for col in columns:\n",
        "  print(\"Cột {} có kiểu mới là: {}\".format(col, val_df[col].dtype))"
      ],
      "execution_count": null,
      "outputs": [
        {
          "output_type": "stream",
          "name": "stdout",
          "text": [
            "Cột Gender có kiểu mới là: int64\n",
            "Cột Married có kiểu mới là: int64\n",
            "Cột Dependents có kiểu mới là: int64\n",
            "Cột Education có kiểu mới là: int64\n",
            "Cột Self_Employed có kiểu mới là: int64\n",
            "Cột Property_Area có kiểu mới là: int64\n",
            "Cột Loan_Status có kiểu mới là: int64\n"
          ]
        }
      ]
    },
    {
      "cell_type": "markdown",
      "metadata": {
        "id": "B2zlZZ5T3vO9"
      },
      "source": [
        "**Kết quả mong đợi:**\n",
        "\n",
        "```\n",
        "Cột Gender có kiểu mới là: int64\n",
        "Cột Married có kiểu mới là: int64\n",
        "Cột Dependents có kiểu mới là: int64\n",
        "Cột Education có kiểu mới là: int64\n",
        "Cột Self_Employed có kiểu mới là: int64\n",
        "Cột Property_Area có kiểu mới là: int64\n",
        "Cột Loan_Status có kiểu mới là: int64\n",
        "```"
      ]
    },
    {
      "cell_type": "markdown",
      "metadata": {
        "id": "y40A8GNt4eBQ"
      },
      "source": [
        "## 9. Xóa cột"
      ]
    },
    {
      "cell_type": "markdown",
      "metadata": {
        "id": "iD0B6IPv4i47"
      },
      "source": [
        "### 9.1 Trên tập train Xóa cột `Loan_ID`. Sử dụng cột `Loan_Status` làm nhãn"
      ]
    },
    {
      "cell_type": "code",
      "metadata": {
        "id": "wp0Aee784t7c"
      },
      "source": [
        "train_Y = train_df['Loan_Status']\n",
        "train_X = train_df.drop(['Loan_ID', 'Loan_Status'], axis=1)"
      ],
      "execution_count": null,
      "outputs": []
    },
    {
      "cell_type": "markdown",
      "metadata": {
        "id": "QnrmcAuk4s8T"
      },
      "source": [
        "### 9.2 Trên tập validation Xóa cột `Loan_ID`. Sử dụng cột `Loan_Status` làm nhãn"
      ]
    },
    {
      "cell_type": "code",
      "metadata": {
        "id": "WK87V4JC56FO"
      },
      "source": [
        "val_Y = val_df['Loan_Status']\n",
        "val_X = val_df.drop(['Loan_ID', 'Loan_Status'], axis=1)"
      ],
      "execution_count": null,
      "outputs": []
    },
    {
      "cell_type": "markdown",
      "metadata": {
        "id": "3VsajB3d-z1f"
      },
      "source": [
        "## 10. Hiển thị ma trận tương quan"
      ]
    },
    {
      "cell_type": "markdown",
      "metadata": {
        "id": "FtpFvkREKc0e"
      },
      "source": [
        "### 10.1 Hệ số tương quan"
      ]
    },
    {
      "cell_type": "markdown",
      "metadata": {
        "id": "zTB3EjqmIJGO"
      },
      "source": [
        "Hệ số tương quan là một chỉ số đo lường của một số loại tương quan, nghĩa là mối liên hệ thống kê giữa hai biến số."
      ]
    },
    {
      "cell_type": "markdown",
      "metadata": {
        "id": "OUKaN3E_G2iy"
      },
      "source": [
        "$$r =\\frac{ \\sum_{i=1}^{n}(x_i-\\bar{x})(y_i-\\bar{y}) }{\n",
        "        \\sqrt{\\sum_{i=1}^{n}(x_i-\\bar{x})^2}\\sqrt{\\sum_{i=1}^{n}(y_i-\\bar{y})^2}}\n",
        "$$\n"
      ]
    },
    {
      "cell_type": "markdown",
      "metadata": {
        "id": "uUguPASpIRWL"
      },
      "source": [
        "$\\bar{x}$: Trung bình các giá trị $x$ \\\n",
        "$\\bar{y}$: Trung bình các giá trị $y$ \\\n",
        "$r \\in [-1, 1]$"
      ]
    },
    {
      "cell_type": "markdown",
      "metadata": {
        "id": "vI0s1sl_Iyox"
      },
      "source": [
        "Nhận xét:\n",
        "- Khi mối tương quan này nhỏ hơn 0, đồng nghĩa mối quan hệ nghịch biến, khi biến này tăng thì biến kia giảm và ngược lại\n",
        "- Khi mối tương quan này lớn hơn 0, đồng nghĩa mối quan hệ đồng biến, khi biến này tăng thì biến kia tăng và khi biến này giảm thì biến kia giảm\n",
        "- Khi mối tương quan này bằng 0, 2 biến không có quan hệ với nhau."
      ]
    },
    {
      "cell_type": "markdown",
      "metadata": {
        "id": "Heiv_tkLBWcO"
      },
      "source": [
        "### 10.2 Tương quan trên tập train"
      ]
    },
    {
      "cell_type": "markdown",
      "metadata": {
        "id": "JSlB0LdQKgxZ"
      },
      "source": [
        "Hiển thị ma trận tương quan. Ma trận này hiển thị tất cả các giá trị tương quan giữa các cột dữ liệu với nhau. Trong thực tế, việc hiển thị này thường để xác định các cặp đặc trưng tương quan mạnh với nhau từ đó đưa ra quyết định `không sử dụng` một trong 2 đặc trưng để xây dựng mô hình."
      ]
    },
    {
      "cell_type": "code",
      "metadata": {
        "colab": {
          "base_uri": "https://localhost:8080/",
          "height": 515
        },
        "id": "TXSR1HT6-5ID",
        "outputId": "b0e7dbb7-794b-4c72-9e17-9881f7ce3840"
      },
      "source": [
        "train_df.corr().style.background_gradient(cmap='coolwarm').set_precision(2)"
      ],
      "execution_count": null,
      "outputs": [
        {
          "output_type": "stream",
          "name": "stderr",
          "text": [
            "<ipython-input-187-03a6b367b717>:1: FutureWarning: The default value of numeric_only in DataFrame.corr is deprecated. In a future version, it will default to False. Select only valid columns or specify the value of numeric_only to silence this warning.\n",
            "  train_df.corr().style.background_gradient(cmap='coolwarm').set_precision(2)\n",
            "<ipython-input-187-03a6b367b717>:1: FutureWarning: this method is deprecated in favour of `Styler.format(precision=..)`\n",
            "  train_df.corr().style.background_gradient(cmap='coolwarm').set_precision(2)\n"
          ]
        },
        {
          "output_type": "execute_result",
          "data": {
            "text/plain": [
              "<pandas.io.formats.style.Styler at 0x7e12d95d1300>"
            ],
            "text/html": [
              "<style type=\"text/css\">\n",
              "#T_4a18c_row0_col0, #T_4a18c_row1_col1, #T_4a18c_row2_col2, #T_4a18c_row3_col3, #T_4a18c_row4_col4, #T_4a18c_row5_col5, #T_4a18c_row6_col6, #T_4a18c_row7_col7, #T_4a18c_row8_col8, #T_4a18c_row9_col9, #T_4a18c_row10_col10, #T_4a18c_row11_col11 {\n",
              "  background-color: #b40426;\n",
              "  color: #f1f1f1;\n",
              "}\n",
              "#T_4a18c_row0_col1, #T_4a18c_row0_col2, #T_4a18c_row0_col7, #T_4a18c_row1_col0, #T_4a18c_row1_col8, #T_4a18c_row2_col3, #T_4a18c_row2_col8, #T_4a18c_row2_col9, #T_4a18c_row5_col6, #T_4a18c_row6_col5, #T_4a18c_row6_col11, #T_4a18c_row7_col10, #T_4a18c_row8_col4 {\n",
              "  background-color: #3b4cc0;\n",
              "  color: #f1f1f1;\n",
              "}\n",
              "#T_4a18c_row0_col3, #T_4a18c_row9_col7 {\n",
              "  background-color: #5875e1;\n",
              "  color: #f1f1f1;\n",
              "}\n",
              "#T_4a18c_row0_col4, #T_4a18c_row9_col4 {\n",
              "  background-color: #445acc;\n",
              "  color: #f1f1f1;\n",
              "}\n",
              "#T_4a18c_row0_col5, #T_4a18c_row4_col11, #T_4a18c_row5_col11, #T_4a18c_row8_col6, #T_4a18c_row11_col6 {\n",
              "  background-color: #4a63d3;\n",
              "  color: #f1f1f1;\n",
              "}\n",
              "#T_4a18c_row0_col6, #T_4a18c_row0_col9, #T_4a18c_row2_col10, #T_4a18c_row11_col4 {\n",
              "  background-color: #4358cb;\n",
              "  color: #f1f1f1;\n",
              "}\n",
              "#T_4a18c_row0_col8 {\n",
              "  background-color: #6c8ff1;\n",
              "  color: #f1f1f1;\n",
              "}\n",
              "#T_4a18c_row0_col10, #T_4a18c_row11_col3 {\n",
              "  background-color: #6485ec;\n",
              "  color: #f1f1f1;\n",
              "}\n",
              "#T_4a18c_row0_col11, #T_4a18c_row1_col4, #T_4a18c_row1_col10, #T_4a18c_row4_col9, #T_4a18c_row6_col8, #T_4a18c_row7_col9, #T_4a18c_row8_col9, #T_4a18c_row8_col11 {\n",
              "  background-color: #455cce;\n",
              "  color: #f1f1f1;\n",
              "}\n",
              "#T_4a18c_row1_col2 {\n",
              "  background-color: #cad8ef;\n",
              "  color: #000000;\n",
              "}\n",
              "#T_4a18c_row1_col3, #T_4a18c_row3_col4 {\n",
              "  background-color: #465ecf;\n",
              "  color: #f1f1f1;\n",
              "}\n",
              "#T_4a18c_row1_col5, #T_4a18c_row10_col2 {\n",
              "  background-color: #6a8bef;\n",
              "  color: #f1f1f1;\n",
              "}\n",
              "#T_4a18c_row1_col6, #T_4a18c_row6_col2 {\n",
              "  background-color: #7295f4;\n",
              "  color: #f1f1f1;\n",
              "}\n",
              "#T_4a18c_row1_col7 {\n",
              "  background-color: #85a8fc;\n",
              "  color: #f1f1f1;\n",
              "}\n",
              "#T_4a18c_row1_col9, #T_4a18c_row5_col8, #T_4a18c_row6_col9 {\n",
              "  background-color: #4961d2;\n",
              "  color: #f1f1f1;\n",
              "}\n",
              "#T_4a18c_row1_col11, #T_4a18c_row7_col4 {\n",
              "  background-color: #6788ee;\n",
              "  color: #f1f1f1;\n",
              "}\n",
              "#T_4a18c_row2_col0, #T_4a18c_row3_col11 {\n",
              "  background-color: #6687ed;\n",
              "  color: #f1f1f1;\n",
              "}\n",
              "#T_4a18c_row2_col1 {\n",
              "  background-color: #e0dbd8;\n",
              "  color: #000000;\n",
              "}\n",
              "#T_4a18c_row2_col4, #T_4a18c_row9_col5, #T_4a18c_row10_col5, #T_4a18c_row10_col6 {\n",
              "  background-color: #5572df;\n",
              "  color: #f1f1f1;\n",
              "}\n",
              "#T_4a18c_row2_col5 {\n",
              "  background-color: #7ea1fa;\n",
              "  color: #f1f1f1;\n",
              "}\n",
              "#T_4a18c_row2_col6, #T_4a18c_row8_col7 {\n",
              "  background-color: #6384eb;\n",
              "  color: #f1f1f1;\n",
              "}\n",
              "#T_4a18c_row2_col7 {\n",
              "  background-color: #8badfd;\n",
              "  color: #000000;\n",
              "}\n",
              "#T_4a18c_row2_col11, #T_4a18c_row4_col3, #T_4a18c_row8_col5, #T_4a18c_row11_col7 {\n",
              "  background-color: #4e68d8;\n",
              "  color: #f1f1f1;\n",
              "}\n",
              "#T_4a18c_row3_col0 {\n",
              "  background-color: #9ebeff;\n",
              "  color: #000000;\n",
              "}\n",
              "#T_4a18c_row3_col1, #T_4a18c_row9_col0 {\n",
              "  background-color: #90b2fe;\n",
              "  color: #000000;\n",
              "}\n",
              "#T_4a18c_row3_col2, #T_4a18c_row11_col5 {\n",
              "  background-color: #5977e3;\n",
              "  color: #f1f1f1;\n",
              "}\n",
              "#T_4a18c_row3_col5 {\n",
              "  background-color: #86a9fc;\n",
              "  color: #f1f1f1;\n",
              "}\n",
              "#T_4a18c_row3_col6, #T_4a18c_row3_col8, #T_4a18c_row11_col10 {\n",
              "  background-color: #6e90f2;\n",
              "  color: #f1f1f1;\n",
              "}\n",
              "#T_4a18c_row3_col7, #T_4a18c_row5_col2 {\n",
              "  background-color: #8caffe;\n",
              "  color: #000000;\n",
              "}\n",
              "#T_4a18c_row3_col9, #T_4a18c_row6_col3, #T_4a18c_row9_col2 {\n",
              "  background-color: #5d7ce6;\n",
              "  color: #f1f1f1;\n",
              "}\n",
              "#T_4a18c_row3_col10, #T_4a18c_row4_col6, #T_4a18c_row9_col8 {\n",
              "  background-color: #5673e0;\n",
              "  color: #f1f1f1;\n",
              "}\n",
              "#T_4a18c_row4_col0, #T_4a18c_row6_col7 {\n",
              "  background-color: #93b5fe;\n",
              "  color: #000000;\n",
              "}\n",
              "#T_4a18c_row4_col1, #T_4a18c_row7_col6, #T_4a18c_row10_col1 {\n",
              "  background-color: #94b6ff;\n",
              "  color: #000000;\n",
              "}\n",
              "#T_4a18c_row4_col2 {\n",
              "  background-color: #7a9df8;\n",
              "  color: #f1f1f1;\n",
              "}\n",
              "#T_4a18c_row4_col5 {\n",
              "  background-color: #81a4fb;\n",
              "  color: #f1f1f1;\n",
              "}\n",
              "#T_4a18c_row4_col7 {\n",
              "  background-color: #7b9ff9;\n",
              "  color: #f1f1f1;\n",
              "}\n",
              "#T_4a18c_row4_col8, #T_4a18c_row8_col2, #T_4a18c_row9_col10 {\n",
              "  background-color: #4c66d6;\n",
              "  color: #f1f1f1;\n",
              "}\n",
              "#T_4a18c_row4_col10, #T_4a18c_row5_col9, #T_4a18c_row7_col11 {\n",
              "  background-color: #4055c8;\n",
              "  color: #f1f1f1;\n",
              "}\n",
              "#T_4a18c_row5_col0 {\n",
              "  background-color: #84a7fc;\n",
              "  color: #f1f1f1;\n",
              "}\n",
              "#T_4a18c_row5_col1 {\n",
              "  background-color: #a1c0ff;\n",
              "  color: #000000;\n",
              "}\n",
              "#T_4a18c_row5_col3, #T_4a18c_row10_col11 {\n",
              "  background-color: #7699f6;\n",
              "  color: #f1f1f1;\n",
              "}\n",
              "#T_4a18c_row5_col4, #T_4a18c_row11_col2 {\n",
              "  background-color: #6b8df0;\n",
              "  color: #f1f1f1;\n",
              "}\n",
              "#T_4a18c_row5_col7 {\n",
              "  background-color: #f2c9b4;\n",
              "  color: #000000;\n",
              "}\n",
              "#T_4a18c_row5_col10, #T_4a18c_row6_col10 {\n",
              "  background-color: #3d50c3;\n",
              "  color: #f1f1f1;\n",
              "}\n",
              "#T_4a18c_row6_col0 {\n",
              "  background-color: #7da0f9;\n",
              "  color: #f1f1f1;\n",
              "}\n",
              "#T_4a18c_row6_col1, #T_4a18c_row8_col0 {\n",
              "  background-color: #a6c4fe;\n",
              "  color: #000000;\n",
              "}\n",
              "#T_4a18c_row6_col4 {\n",
              "  background-color: #3f53c6;\n",
              "  color: #f1f1f1;\n",
              "}\n",
              "#T_4a18c_row7_col0 {\n",
              "  background-color: #779af7;\n",
              "  color: #f1f1f1;\n",
              "}\n",
              "#T_4a18c_row7_col1 {\n",
              "  background-color: #b7cff9;\n",
              "  color: #000000;\n",
              "}\n",
              "#T_4a18c_row7_col2 {\n",
              "  background-color: #9abbff;\n",
              "  color: #000000;\n",
              "}\n",
              "#T_4a18c_row7_col3 {\n",
              "  background-color: #80a3fa;\n",
              "  color: #f1f1f1;\n",
              "}\n",
              "#T_4a18c_row7_col5 {\n",
              "  background-color: #f3c8b2;\n",
              "  color: #000000;\n",
              "}\n",
              "#T_4a18c_row7_col8, #T_4a18c_row8_col3 {\n",
              "  background-color: #6282ea;\n",
              "  color: #f1f1f1;\n",
              "}\n",
              "#T_4a18c_row8_col1 {\n",
              "  background-color: #799cf8;\n",
              "  color: #f1f1f1;\n",
              "}\n",
              "#T_4a18c_row8_col10 {\n",
              "  background-color: #485fd1;\n",
              "  color: #f1f1f1;\n",
              "}\n",
              "#T_4a18c_row9_col1 {\n",
              "  background-color: #96b7ff;\n",
              "  color: #000000;\n",
              "}\n",
              "#T_4a18c_row9_col3 {\n",
              "  background-color: #6180e9;\n",
              "  color: #f1f1f1;\n",
              "}\n",
              "#T_4a18c_row9_col6, #T_4a18c_row10_col3 {\n",
              "  background-color: #5e7de7;\n",
              "  color: #f1f1f1;\n",
              "}\n",
              "#T_4a18c_row9_col11 {\n",
              "  background-color: #ecd3c5;\n",
              "  color: #000000;\n",
              "}\n",
              "#T_4a18c_row10_col0 {\n",
              "  background-color: #aec9fc;\n",
              "  color: #000000;\n",
              "}\n",
              "#T_4a18c_row10_col4 {\n",
              "  background-color: #4257c9;\n",
              "  color: #f1f1f1;\n",
              "}\n",
              "#T_4a18c_row10_col7, #T_4a18c_row10_col9, #T_4a18c_row11_col8 {\n",
              "  background-color: #506bda;\n",
              "  color: #f1f1f1;\n",
              "}\n",
              "#T_4a18c_row10_col8 {\n",
              "  background-color: #5b7ae5;\n",
              "  color: #f1f1f1;\n",
              "}\n",
              "#T_4a18c_row11_col0 {\n",
              "  background-color: #8fb1fe;\n",
              "  color: #000000;\n",
              "}\n",
              "#T_4a18c_row11_col1 {\n",
              "  background-color: #aac7fd;\n",
              "  color: #000000;\n",
              "}\n",
              "#T_4a18c_row11_col9 {\n",
              "  background-color: #ead4c8;\n",
              "  color: #000000;\n",
              "}\n",
              "</style>\n",
              "<table id=\"T_4a18c\" class=\"dataframe\">\n",
              "  <thead>\n",
              "    <tr>\n",
              "      <th class=\"blank level0\" >&nbsp;</th>\n",
              "      <th id=\"T_4a18c_level0_col0\" class=\"col_heading level0 col0\" >Gender</th>\n",
              "      <th id=\"T_4a18c_level0_col1\" class=\"col_heading level0 col1\" >Married</th>\n",
              "      <th id=\"T_4a18c_level0_col2\" class=\"col_heading level0 col2\" >Dependents</th>\n",
              "      <th id=\"T_4a18c_level0_col3\" class=\"col_heading level0 col3\" >Education</th>\n",
              "      <th id=\"T_4a18c_level0_col4\" class=\"col_heading level0 col4\" >Self_Employed</th>\n",
              "      <th id=\"T_4a18c_level0_col5\" class=\"col_heading level0 col5\" >ApplicantIncome</th>\n",
              "      <th id=\"T_4a18c_level0_col6\" class=\"col_heading level0 col6\" >CoapplicantIncome</th>\n",
              "      <th id=\"T_4a18c_level0_col7\" class=\"col_heading level0 col7\" >LoanAmount</th>\n",
              "      <th id=\"T_4a18c_level0_col8\" class=\"col_heading level0 col8\" >Loan_Amount_Term</th>\n",
              "      <th id=\"T_4a18c_level0_col9\" class=\"col_heading level0 col9\" >Credit_History</th>\n",
              "      <th id=\"T_4a18c_level0_col10\" class=\"col_heading level0 col10\" >Property_Area</th>\n",
              "      <th id=\"T_4a18c_level0_col11\" class=\"col_heading level0 col11\" >Loan_Status</th>\n",
              "    </tr>\n",
              "  </thead>\n",
              "  <tbody>\n",
              "    <tr>\n",
              "      <th id=\"T_4a18c_level0_row0\" class=\"row_heading level0 row0\" >Gender</th>\n",
              "      <td id=\"T_4a18c_row0_col0\" class=\"data row0 col0\" >1.00</td>\n",
              "      <td id=\"T_4a18c_row0_col1\" class=\"data row0 col1\" >-0.36</td>\n",
              "      <td id=\"T_4a18c_row0_col2\" class=\"data row0 col2\" >-0.17</td>\n",
              "      <td id=\"T_4a18c_row0_col3\" class=\"data row0 col3\" >0.05</td>\n",
              "      <td id=\"T_4a18c_row0_col4\" class=\"data row0 col4\" >0.00</td>\n",
              "      <td id=\"T_4a18c_row0_col5\" class=\"data row0 col5\" >-0.06</td>\n",
              "      <td id=\"T_4a18c_row0_col6\" class=\"data row0 col6\" >-0.08</td>\n",
              "      <td id=\"T_4a18c_row0_col7\" class=\"data row0 col7\" >-0.11</td>\n",
              "      <td id=\"T_4a18c_row0_col8\" class=\"data row0 col8\" >0.07</td>\n",
              "      <td id=\"T_4a18c_row0_col9\" class=\"data row0 col9\" >-0.01</td>\n",
              "      <td id=\"T_4a18c_row0_col10\" class=\"data row0 col10\" >0.11</td>\n",
              "      <td id=\"T_4a18c_row0_col11\" class=\"data row0 col11\" >-0.02</td>\n",
              "    </tr>\n",
              "    <tr>\n",
              "      <th id=\"T_4a18c_level0_row1\" class=\"row_heading level0 row1\" >Married</th>\n",
              "      <td id=\"T_4a18c_row1_col0\" class=\"data row1 col0\" >-0.36</td>\n",
              "      <td id=\"T_4a18c_row1_col1\" class=\"data row1 col1\" >1.00</td>\n",
              "      <td id=\"T_4a18c_row1_col2\" class=\"data row1 col2\" >0.33</td>\n",
              "      <td id=\"T_4a18c_row1_col3\" class=\"data row1 col3\" >-0.01</td>\n",
              "      <td id=\"T_4a18c_row1_col4\" class=\"data row1 col4\" >0.00</td>\n",
              "      <td id=\"T_4a18c_row1_col5\" class=\"data row1 col5\" >0.05</td>\n",
              "      <td id=\"T_4a18c_row1_col6\" class=\"data row1 col6\" >0.08</td>\n",
              "      <td id=\"T_4a18c_row1_col7\" class=\"data row1 col7\" >0.15</td>\n",
              "      <td id=\"T_4a18c_row1_col8\" class=\"data row1 col8\" >-0.10</td>\n",
              "      <td id=\"T_4a18c_row1_col9\" class=\"data row1 col9\" >0.01</td>\n",
              "      <td id=\"T_4a18c_row1_col10\" class=\"data row1 col10\" >0.01</td>\n",
              "      <td id=\"T_4a18c_row1_col11\" class=\"data row1 col11\" >0.09</td>\n",
              "    </tr>\n",
              "    <tr>\n",
              "      <th id=\"T_4a18c_level0_row2\" class=\"row_heading level0 row2\" >Dependents</th>\n",
              "      <td id=\"T_4a18c_row2_col0\" class=\"data row2 col0\" >-0.17</td>\n",
              "      <td id=\"T_4a18c_row2_col1\" class=\"data row2 col1\" >0.33</td>\n",
              "      <td id=\"T_4a18c_row2_col2\" class=\"data row2 col2\" >1.00</td>\n",
              "      <td id=\"T_4a18c_row2_col3\" class=\"data row2 col3\" >-0.06</td>\n",
              "      <td id=\"T_4a18c_row2_col4\" class=\"data row2 col4\" >0.06</td>\n",
              "      <td id=\"T_4a18c_row2_col5\" class=\"data row2 col5\" >0.12</td>\n",
              "      <td id=\"T_4a18c_row2_col6\" class=\"data row2 col6\" >0.03</td>\n",
              "      <td id=\"T_4a18c_row2_col7\" class=\"data row2 col7\" >0.16</td>\n",
              "      <td id=\"T_4a18c_row2_col8\" class=\"data row2 col8\" >-0.10</td>\n",
              "      <td id=\"T_4a18c_row2_col9\" class=\"data row2 col9\" >-0.04</td>\n",
              "      <td id=\"T_4a18c_row2_col10\" class=\"data row2 col10\" >0.00</td>\n",
              "      <td id=\"T_4a18c_row2_col11\" class=\"data row2 col11\" >0.01</td>\n",
              "    </tr>\n",
              "    <tr>\n",
              "      <th id=\"T_4a18c_level0_row3\" class=\"row_heading level0 row3\" >Education</th>\n",
              "      <td id=\"T_4a18c_row3_col0\" class=\"data row3 col0\" >0.05</td>\n",
              "      <td id=\"T_4a18c_row3_col1\" class=\"data row3 col1\" >-0.01</td>\n",
              "      <td id=\"T_4a18c_row3_col2\" class=\"data row3 col2\" >-0.06</td>\n",
              "      <td id=\"T_4a18c_row3_col3\" class=\"data row3 col3\" >1.00</td>\n",
              "      <td id=\"T_4a18c_row3_col4\" class=\"data row3 col4\" >0.01</td>\n",
              "      <td id=\"T_4a18c_row3_col5\" class=\"data row3 col5\" >0.14</td>\n",
              "      <td id=\"T_4a18c_row3_col6\" class=\"data row3 col6\" >0.06</td>\n",
              "      <td id=\"T_4a18c_row3_col7\" class=\"data row3 col7\" >0.17</td>\n",
              "      <td id=\"T_4a18c_row3_col8\" class=\"data row3 col8\" >0.08</td>\n",
              "      <td id=\"T_4a18c_row3_col9\" class=\"data row3 col9\" >0.07</td>\n",
              "      <td id=\"T_4a18c_row3_col10\" class=\"data row3 col10\" >0.07</td>\n",
              "      <td id=\"T_4a18c_row3_col11\" class=\"data row3 col11\" >0.09</td>\n",
              "    </tr>\n",
              "    <tr>\n",
              "      <th id=\"T_4a18c_level0_row4\" class=\"row_heading level0 row4\" >Self_Employed</th>\n",
              "      <td id=\"T_4a18c_row4_col0\" class=\"data row4 col0\" >0.00</td>\n",
              "      <td id=\"T_4a18c_row4_col1\" class=\"data row4 col1\" >0.00</td>\n",
              "      <td id=\"T_4a18c_row4_col2\" class=\"data row4 col2\" >0.06</td>\n",
              "      <td id=\"T_4a18c_row4_col3\" class=\"data row4 col3\" >0.01</td>\n",
              "      <td id=\"T_4a18c_row4_col4\" class=\"data row4 col4\" >1.00</td>\n",
              "      <td id=\"T_4a18c_row4_col5\" class=\"data row4 col5\" >0.13</td>\n",
              "      <td id=\"T_4a18c_row4_col6\" class=\"data row4 col6\" >-0.02</td>\n",
              "      <td id=\"T_4a18c_row4_col7\" class=\"data row4 col7\" >0.12</td>\n",
              "      <td id=\"T_4a18c_row4_col8\" class=\"data row4 col8\" >-0.03</td>\n",
              "      <td id=\"T_4a18c_row4_col9\" class=\"data row4 col9\" >-0.00</td>\n",
              "      <td id=\"T_4a18c_row4_col10\" class=\"data row4 col10\" >-0.01</td>\n",
              "      <td id=\"T_4a18c_row4_col11\" class=\"data row4 col11\" >-0.00</td>\n",
              "    </tr>\n",
              "    <tr>\n",
              "      <th id=\"T_4a18c_level0_row5\" class=\"row_heading level0 row5\" >ApplicantIncome</th>\n",
              "      <td id=\"T_4a18c_row5_col0\" class=\"data row5 col0\" >-0.06</td>\n",
              "      <td id=\"T_4a18c_row5_col1\" class=\"data row5 col1\" >0.05</td>\n",
              "      <td id=\"T_4a18c_row5_col2\" class=\"data row5 col2\" >0.12</td>\n",
              "      <td id=\"T_4a18c_row5_col3\" class=\"data row5 col3\" >0.14</td>\n",
              "      <td id=\"T_4a18c_row5_col4\" class=\"data row5 col4\" >0.13</td>\n",
              "      <td id=\"T_4a18c_row5_col5\" class=\"data row5 col5\" >1.00</td>\n",
              "      <td id=\"T_4a18c_row5_col6\" class=\"data row5 col6\" >-0.12</td>\n",
              "      <td id=\"T_4a18c_row5_col7\" class=\"data row5 col7\" >0.57</td>\n",
              "      <td id=\"T_4a18c_row5_col8\" class=\"data row5 col8\" >-0.05</td>\n",
              "      <td id=\"T_4a18c_row5_col9\" class=\"data row5 col9\" >-0.02</td>\n",
              "      <td id=\"T_4a18c_row5_col10\" class=\"data row5 col10\" >-0.02</td>\n",
              "      <td id=\"T_4a18c_row5_col11\" class=\"data row5 col11\" >-0.00</td>\n",
              "    </tr>\n",
              "    <tr>\n",
              "      <th id=\"T_4a18c_level0_row6\" class=\"row_heading level0 row6\" >CoapplicantIncome</th>\n",
              "      <td id=\"T_4a18c_row6_col0\" class=\"data row6 col0\" >-0.08</td>\n",
              "      <td id=\"T_4a18c_row6_col1\" class=\"data row6 col1\" >0.08</td>\n",
              "      <td id=\"T_4a18c_row6_col2\" class=\"data row6 col2\" >0.03</td>\n",
              "      <td id=\"T_4a18c_row6_col3\" class=\"data row6 col3\" >0.06</td>\n",
              "      <td id=\"T_4a18c_row6_col4\" class=\"data row6 col4\" >-0.02</td>\n",
              "      <td id=\"T_4a18c_row6_col5\" class=\"data row6 col5\" >-0.12</td>\n",
              "      <td id=\"T_4a18c_row6_col6\" class=\"data row6 col6\" >1.00</td>\n",
              "      <td id=\"T_4a18c_row6_col7\" class=\"data row6 col7\" >0.19</td>\n",
              "      <td id=\"T_4a18c_row6_col8\" class=\"data row6 col8\" >-0.06</td>\n",
              "      <td id=\"T_4a18c_row6_col9\" class=\"data row6 col9\" >0.01</td>\n",
              "      <td id=\"T_4a18c_row6_col10\" class=\"data row6 col10\" >-0.02</td>\n",
              "      <td id=\"T_4a18c_row6_col11\" class=\"data row6 col11\" >-0.06</td>\n",
              "    </tr>\n",
              "    <tr>\n",
              "      <th id=\"T_4a18c_level0_row7\" class=\"row_heading level0 row7\" >LoanAmount</th>\n",
              "      <td id=\"T_4a18c_row7_col0\" class=\"data row7 col0\" >-0.11</td>\n",
              "      <td id=\"T_4a18c_row7_col1\" class=\"data row7 col1\" >0.15</td>\n",
              "      <td id=\"T_4a18c_row7_col2\" class=\"data row7 col2\" >0.16</td>\n",
              "      <td id=\"T_4a18c_row7_col3\" class=\"data row7 col3\" >0.17</td>\n",
              "      <td id=\"T_4a18c_row7_col4\" class=\"data row7 col4\" >0.12</td>\n",
              "      <td id=\"T_4a18c_row7_col5\" class=\"data row7 col5\" >0.57</td>\n",
              "      <td id=\"T_4a18c_row7_col6\" class=\"data row7 col6\" >0.19</td>\n",
              "      <td id=\"T_4a18c_row7_col7\" class=\"data row7 col7\" >1.00</td>\n",
              "      <td id=\"T_4a18c_row7_col8\" class=\"data row7 col8\" >0.04</td>\n",
              "      <td id=\"T_4a18c_row7_col9\" class=\"data row7 col9\" >-0.00</td>\n",
              "      <td id=\"T_4a18c_row7_col10\" class=\"data row7 col10\" >-0.03</td>\n",
              "      <td id=\"T_4a18c_row7_col11\" class=\"data row7 col11\" >-0.04</td>\n",
              "    </tr>\n",
              "    <tr>\n",
              "      <th id=\"T_4a18c_level0_row8\" class=\"row_heading level0 row8\" >Loan_Amount_Term</th>\n",
              "      <td id=\"T_4a18c_row8_col0\" class=\"data row8 col0\" >0.07</td>\n",
              "      <td id=\"T_4a18c_row8_col1\" class=\"data row8 col1\" >-0.10</td>\n",
              "      <td id=\"T_4a18c_row8_col2\" class=\"data row8 col2\" >-0.10</td>\n",
              "      <td id=\"T_4a18c_row8_col3\" class=\"data row8 col3\" >0.08</td>\n",
              "      <td id=\"T_4a18c_row8_col4\" class=\"data row8 col4\" >-0.03</td>\n",
              "      <td id=\"T_4a18c_row8_col5\" class=\"data row8 col5\" >-0.05</td>\n",
              "      <td id=\"T_4a18c_row8_col6\" class=\"data row8 col6\" >-0.06</td>\n",
              "      <td id=\"T_4a18c_row8_col7\" class=\"data row8 col7\" >0.04</td>\n",
              "      <td id=\"T_4a18c_row8_col8\" class=\"data row8 col8\" >1.00</td>\n",
              "      <td id=\"T_4a18c_row8_col9\" class=\"data row8 col9\" >0.00</td>\n",
              "      <td id=\"T_4a18c_row8_col10\" class=\"data row8 col10\" >0.02</td>\n",
              "      <td id=\"T_4a18c_row8_col11\" class=\"data row8 col11\" >-0.02</td>\n",
              "    </tr>\n",
              "    <tr>\n",
              "      <th id=\"T_4a18c_level0_row9\" class=\"row_heading level0 row9\" >Credit_History</th>\n",
              "      <td id=\"T_4a18c_row9_col0\" class=\"data row9 col0\" >-0.01</td>\n",
              "      <td id=\"T_4a18c_row9_col1\" class=\"data row9 col1\" >0.01</td>\n",
              "      <td id=\"T_4a18c_row9_col2\" class=\"data row9 col2\" >-0.04</td>\n",
              "      <td id=\"T_4a18c_row9_col3\" class=\"data row9 col3\" >0.07</td>\n",
              "      <td id=\"T_4a18c_row9_col4\" class=\"data row9 col4\" >-0.00</td>\n",
              "      <td id=\"T_4a18c_row9_col5\" class=\"data row9 col5\" >-0.02</td>\n",
              "      <td id=\"T_4a18c_row9_col6\" class=\"data row9 col6\" >0.01</td>\n",
              "      <td id=\"T_4a18c_row9_col7\" class=\"data row9 col7\" >-0.00</td>\n",
              "      <td id=\"T_4a18c_row9_col8\" class=\"data row9 col8\" >0.00</td>\n",
              "      <td id=\"T_4a18c_row9_col9\" class=\"data row9 col9\" >1.00</td>\n",
              "      <td id=\"T_4a18c_row9_col10\" class=\"data row9 col10\" >0.03</td>\n",
              "      <td id=\"T_4a18c_row9_col11\" class=\"data row9 col11\" >0.54</td>\n",
              "    </tr>\n",
              "    <tr>\n",
              "      <th id=\"T_4a18c_level0_row10\" class=\"row_heading level0 row10\" >Property_Area</th>\n",
              "      <td id=\"T_4a18c_row10_col0\" class=\"data row10 col0\" >0.11</td>\n",
              "      <td id=\"T_4a18c_row10_col1\" class=\"data row10 col1\" >0.01</td>\n",
              "      <td id=\"T_4a18c_row10_col2\" class=\"data row10 col2\" >0.00</td>\n",
              "      <td id=\"T_4a18c_row10_col3\" class=\"data row10 col3\" >0.07</td>\n",
              "      <td id=\"T_4a18c_row10_col4\" class=\"data row10 col4\" >-0.01</td>\n",
              "      <td id=\"T_4a18c_row10_col5\" class=\"data row10 col5\" >-0.02</td>\n",
              "      <td id=\"T_4a18c_row10_col6\" class=\"data row10 col6\" >-0.02</td>\n",
              "      <td id=\"T_4a18c_row10_col7\" class=\"data row10 col7\" >-0.03</td>\n",
              "      <td id=\"T_4a18c_row10_col8\" class=\"data row10 col8\" >0.02</td>\n",
              "      <td id=\"T_4a18c_row10_col9\" class=\"data row10 col9\" >0.03</td>\n",
              "      <td id=\"T_4a18c_row10_col10\" class=\"data row10 col10\" >1.00</td>\n",
              "      <td id=\"T_4a18c_row10_col11\" class=\"data row10 col11\" >0.14</td>\n",
              "    </tr>\n",
              "    <tr>\n",
              "      <th id=\"T_4a18c_level0_row11\" class=\"row_heading level0 row11\" >Loan_Status</th>\n",
              "      <td id=\"T_4a18c_row11_col0\" class=\"data row11 col0\" >-0.02</td>\n",
              "      <td id=\"T_4a18c_row11_col1\" class=\"data row11 col1\" >0.09</td>\n",
              "      <td id=\"T_4a18c_row11_col2\" class=\"data row11 col2\" >0.01</td>\n",
              "      <td id=\"T_4a18c_row11_col3\" class=\"data row11 col3\" >0.09</td>\n",
              "      <td id=\"T_4a18c_row11_col4\" class=\"data row11 col4\" >-0.00</td>\n",
              "      <td id=\"T_4a18c_row11_col5\" class=\"data row11 col5\" >-0.00</td>\n",
              "      <td id=\"T_4a18c_row11_col6\" class=\"data row11 col6\" >-0.06</td>\n",
              "      <td id=\"T_4a18c_row11_col7\" class=\"data row11 col7\" >-0.04</td>\n",
              "      <td id=\"T_4a18c_row11_col8\" class=\"data row11 col8\" >-0.02</td>\n",
              "      <td id=\"T_4a18c_row11_col9\" class=\"data row11 col9\" >0.54</td>\n",
              "      <td id=\"T_4a18c_row11_col10\" class=\"data row11 col10\" >0.14</td>\n",
              "      <td id=\"T_4a18c_row11_col11\" class=\"data row11 col11\" >1.00</td>\n",
              "    </tr>\n",
              "  </tbody>\n",
              "</table>\n"
            ]
          },
          "metadata": {},
          "execution_count": 187
        }
      ]
    },
    {
      "cell_type": "markdown",
      "metadata": {
        "id": "bc2gefkuAl6X"
      },
      "source": [
        "### Phân tích:\n",
        "  - Với tập train có sự tương quan giữa số lượng vay (LoanAmount) và thu nhập người vay (ApplicantIncome). Tuy nhiên sự tương quan này chưa quá lớn để bỏ một trong 2 đặc trưng.\n",
        "  - Lịch sử vay (Credit_History) có sự tương quan tới khả năng được vay. Điều này hoàn toàn hợp lý\n",
        "\n",
        "### Quyết định\n",
        "  - Giữ nguyên tất cả những đặc trưng cho việc training"
      ]
    },
    {
      "cell_type": "markdown",
      "metadata": {
        "id": "9-vB6LkfBZMx"
      },
      "source": [
        "### 10.3 Tương quan trên tập Validation"
      ]
    },
    {
      "cell_type": "markdown",
      "metadata": {
        "id": "Fx-mQs9DBcvz"
      },
      "source": [
        "Bạn hay tự đưa ra quan sát cá nhân của mình. (Đây không phải bài tập)"
      ]
    },
    {
      "cell_type": "code",
      "metadata": {
        "colab": {
          "base_uri": "https://localhost:8080/",
          "height": 515
        },
        "id": "nTPj9PdS_Jel",
        "outputId": "8333254b-ffea-41f1-fad5-853f9fe778f4"
      },
      "source": [
        "val_df.corr().style.background_gradient(cmap='coolwarm').set_precision(2)"
      ],
      "execution_count": null,
      "outputs": [
        {
          "output_type": "stream",
          "name": "stderr",
          "text": [
            "<ipython-input-188-3b48e2f5a920>:1: FutureWarning: The default value of numeric_only in DataFrame.corr is deprecated. In a future version, it will default to False. Select only valid columns or specify the value of numeric_only to silence this warning.\n",
            "  val_df.corr().style.background_gradient(cmap='coolwarm').set_precision(2)\n",
            "<ipython-input-188-3b48e2f5a920>:1: FutureWarning: this method is deprecated in favour of `Styler.format(precision=..)`\n",
            "  val_df.corr().style.background_gradient(cmap='coolwarm').set_precision(2)\n"
          ]
        },
        {
          "output_type": "execute_result",
          "data": {
            "text/plain": [
              "<pandas.io.formats.style.Styler at 0x7e12d95950c0>"
            ],
            "text/html": [
              "<style type=\"text/css\">\n",
              "#T_76d6e_row0_col0, #T_76d6e_row1_col1, #T_76d6e_row2_col2, #T_76d6e_row3_col3, #T_76d6e_row4_col4, #T_76d6e_row5_col5, #T_76d6e_row6_col6, #T_76d6e_row7_col7, #T_76d6e_row8_col8, #T_76d6e_row9_col9, #T_76d6e_row10_col10, #T_76d6e_row11_col11 {\n",
              "  background-color: #b40426;\n",
              "  color: #f1f1f1;\n",
              "}\n",
              "#T_76d6e_row0_col1, #T_76d6e_row0_col7, #T_76d6e_row1_col0, #T_76d6e_row2_col3, #T_76d6e_row3_col2, #T_76d6e_row4_col10, #T_76d6e_row5_col6, #T_76d6e_row6_col5, #T_76d6e_row6_col9, #T_76d6e_row8_col11, #T_76d6e_row10_col4, #T_76d6e_row11_col8 {\n",
              "  background-color: #3b4cc0;\n",
              "  color: #f1f1f1;\n",
              "}\n",
              "#T_76d6e_row0_col2, #T_76d6e_row9_col8 {\n",
              "  background-color: #455cce;\n",
              "  color: #f1f1f1;\n",
              "}\n",
              "#T_76d6e_row0_col3, #T_76d6e_row6_col0 {\n",
              "  background-color: #6788ee;\n",
              "  color: #f1f1f1;\n",
              "}\n",
              "#T_76d6e_row0_col4, #T_76d6e_row10_col7 {\n",
              "  background-color: #485fd1;\n",
              "  color: #f1f1f1;\n",
              "}\n",
              "#T_76d6e_row0_col5, #T_76d6e_row6_col10, #T_76d6e_row7_col9 {\n",
              "  background-color: #465ecf;\n",
              "  color: #f1f1f1;\n",
              "}\n",
              "#T_76d6e_row0_col6, #T_76d6e_row0_col9 {\n",
              "  background-color: #4257c9;\n",
              "  color: #f1f1f1;\n",
              "}\n",
              "#T_76d6e_row0_col8, #T_76d6e_row2_col0, #T_76d6e_row4_col7, #T_76d6e_row11_col2 {\n",
              "  background-color: #6687ed;\n",
              "  color: #f1f1f1;\n",
              "}\n",
              "#T_76d6e_row0_col10, #T_76d6e_row1_col11, #T_76d6e_row3_col1, #T_76d6e_row5_col11, #T_76d6e_row7_col8 {\n",
              "  background-color: #7093f3;\n",
              "  color: #f1f1f1;\n",
              "}\n",
              "#T_76d6e_row0_col11, #T_76d6e_row2_col8 {\n",
              "  background-color: #4358cb;\n",
              "  color: #f1f1f1;\n",
              "}\n",
              "#T_76d6e_row1_col2 {\n",
              "  background-color: #cbd8ee;\n",
              "  color: #000000;\n",
              "}\n",
              "#T_76d6e_row1_col3, #T_76d6e_row6_col2, #T_76d6e_row7_col11 {\n",
              "  background-color: #506bda;\n",
              "  color: #f1f1f1;\n",
              "}\n",
              "#T_76d6e_row1_col4 {\n",
              "  background-color: #6485ec;\n",
              "  color: #f1f1f1;\n",
              "}\n",
              "#T_76d6e_row1_col5, #T_76d6e_row4_col9, #T_76d6e_row5_col9 {\n",
              "  background-color: #688aef;\n",
              "  color: #f1f1f1;\n",
              "}\n",
              "#T_76d6e_row1_col6 {\n",
              "  background-color: #6282ea;\n",
              "  color: #f1f1f1;\n",
              "}\n",
              "#T_76d6e_row1_col7, #T_76d6e_row8_col1, #T_76d6e_row9_col1 {\n",
              "  background-color: #89acfd;\n",
              "  color: #000000;\n",
              "}\n",
              "#T_76d6e_row1_col8, #T_76d6e_row3_col4 {\n",
              "  background-color: #5e7de7;\n",
              "  color: #f1f1f1;\n",
              "}\n",
              "#T_76d6e_row1_col9, #T_76d6e_row4_col2 {\n",
              "  background-color: #5673e0;\n",
              "  color: #f1f1f1;\n",
              "}\n",
              "#T_76d6e_row1_col10, #T_76d6e_row2_col4, #T_76d6e_row8_col6, #T_76d6e_row11_col6 {\n",
              "  background-color: #5572df;\n",
              "  color: #f1f1f1;\n",
              "}\n",
              "#T_76d6e_row2_col1 {\n",
              "  background-color: #dbdcde;\n",
              "  color: #000000;\n",
              "}\n",
              "#T_76d6e_row2_col5 {\n",
              "  background-color: #84a7fc;\n",
              "  color: #f1f1f1;\n",
              "}\n",
              "#T_76d6e_row2_col6, #T_76d6e_row10_col9 {\n",
              "  background-color: #4a63d3;\n",
              "  color: #f1f1f1;\n",
              "}\n",
              "#T_76d6e_row2_col7, #T_76d6e_row9_col4, #T_76d6e_row10_col1 {\n",
              "  background-color: #799cf8;\n",
              "  color: #f1f1f1;\n",
              "}\n",
              "#T_76d6e_row2_col9 {\n",
              "  background-color: #3c4ec2;\n",
              "  color: #f1f1f1;\n",
              "}\n",
              "#T_76d6e_row2_col10, #T_76d6e_row4_col3 {\n",
              "  background-color: #6180e9;\n",
              "  color: #f1f1f1;\n",
              "}\n",
              "#T_76d6e_row2_col11, #T_76d6e_row5_col8, #T_76d6e_row8_col10 {\n",
              "  background-color: #5a78e4;\n",
              "  color: #f1f1f1;\n",
              "}\n",
              "#T_76d6e_row3_col0, #T_76d6e_row5_col2, #T_76d6e_row5_col3, #T_76d6e_row6_col1, #T_76d6e_row7_col6 {\n",
              "  background-color: #88abfd;\n",
              "  color: #000000;\n",
              "}\n",
              "#T_76d6e_row3_col5, #T_76d6e_row11_col4 {\n",
              "  background-color: #82a6fb;\n",
              "  color: #f1f1f1;\n",
              "}\n",
              "#T_76d6e_row3_col6, #T_76d6e_row7_col0 {\n",
              "  background-color: #6a8bef;\n",
              "  color: #f1f1f1;\n",
              "}\n",
              "#T_76d6e_row3_col7 {\n",
              "  background-color: #80a3fa;\n",
              "  color: #f1f1f1;\n",
              "}\n",
              "#T_76d6e_row3_col8 {\n",
              "  background-color: #4055c8;\n",
              "  color: #f1f1f1;\n",
              "}\n",
              "#T_76d6e_row3_col9, #T_76d6e_row3_col10 {\n",
              "  background-color: #5875e1;\n",
              "  color: #f1f1f1;\n",
              "}\n",
              "#T_76d6e_row3_col11, #T_76d6e_row10_col2 {\n",
              "  background-color: #6384eb;\n",
              "  color: #f1f1f1;\n",
              "}\n",
              "#T_76d6e_row4_col0, #T_76d6e_row9_col3 {\n",
              "  background-color: #6b8df0;\n",
              "  color: #f1f1f1;\n",
              "}\n",
              "#T_76d6e_row4_col1, #T_76d6e_row7_col2 {\n",
              "  background-color: #86a9fc;\n",
              "  color: #f1f1f1;\n",
              "}\n",
              "#T_76d6e_row4_col5, #T_76d6e_row6_col3, #T_76d6e_row11_col0 {\n",
              "  background-color: #6f92f3;\n",
              "  color: #f1f1f1;\n",
              "}\n",
              "#T_76d6e_row4_col6, #T_76d6e_row10_col8 {\n",
              "  background-color: #516ddb;\n",
              "  color: #f1f1f1;\n",
              "}\n",
              "#T_76d6e_row4_col8, #T_76d6e_row9_col7 {\n",
              "  background-color: #4b64d5;\n",
              "  color: #f1f1f1;\n",
              "}\n",
              "#T_76d6e_row4_col11 {\n",
              "  background-color: #7a9df8;\n",
              "  color: #f1f1f1;\n",
              "}\n",
              "#T_76d6e_row5_col0, #T_76d6e_row8_col7 {\n",
              "  background-color: #6c8ff1;\n",
              "  color: #f1f1f1;\n",
              "}\n",
              "#T_76d6e_row5_col1, #T_76d6e_row7_col3 {\n",
              "  background-color: #8db0fe;\n",
              "  color: #000000;\n",
              "}\n",
              "#T_76d6e_row5_col4 {\n",
              "  background-color: #7295f4;\n",
              "  color: #f1f1f1;\n",
              "}\n",
              "#T_76d6e_row5_col7 {\n",
              "  background-color: #e3d9d3;\n",
              "  color: #000000;\n",
              "}\n",
              "#T_76d6e_row5_col10, #T_76d6e_row8_col5 {\n",
              "  background-color: #5f7fe8;\n",
              "  color: #f1f1f1;\n",
              "}\n",
              "#T_76d6e_row6_col4, #T_76d6e_row7_col10, #T_76d6e_row8_col4 {\n",
              "  background-color: #5470de;\n",
              "  color: #f1f1f1;\n",
              "}\n",
              "#T_76d6e_row6_col7 {\n",
              "  background-color: #7ea1fa;\n",
              "  color: #f1f1f1;\n",
              "}\n",
              "#T_76d6e_row6_col8, #T_76d6e_row6_col11, #T_76d6e_row8_col2, #T_76d6e_row9_col2 {\n",
              "  background-color: #4f69d9;\n",
              "  color: #f1f1f1;\n",
              "}\n",
              "#T_76d6e_row7_col1 {\n",
              "  background-color: #b1cbfc;\n",
              "  color: #000000;\n",
              "}\n",
              "#T_76d6e_row7_col4 {\n",
              "  background-color: #7396f5;\n",
              "  color: #f1f1f1;\n",
              "}\n",
              "#T_76d6e_row7_col5 {\n",
              "  background-color: #e7d7ce;\n",
              "  color: #000000;\n",
              "}\n",
              "#T_76d6e_row8_col0 {\n",
              "  background-color: #90b2fe;\n",
              "  color: #000000;\n",
              "}\n",
              "#T_76d6e_row8_col3, #T_76d6e_row11_col7 {\n",
              "  background-color: #4c66d6;\n",
              "  color: #f1f1f1;\n",
              "}\n",
              "#T_76d6e_row8_col9 {\n",
              "  background-color: #3d50c3;\n",
              "  color: #f1f1f1;\n",
              "}\n",
              "#T_76d6e_row9_col0, #T_76d6e_row9_col5, #T_76d6e_row11_col5 {\n",
              "  background-color: #7699f6;\n",
              "  color: #f1f1f1;\n",
              "}\n",
              "#T_76d6e_row9_col6 {\n",
              "  background-color: #4961d2;\n",
              "  color: #f1f1f1;\n",
              "}\n",
              "#T_76d6e_row9_col10 {\n",
              "  background-color: #5b7ae5;\n",
              "  color: #f1f1f1;\n",
              "}\n",
              "#T_76d6e_row9_col11 {\n",
              "  background-color: #e46e56;\n",
              "  color: #f1f1f1;\n",
              "}\n",
              "#T_76d6e_row10_col0 {\n",
              "  background-color: #93b5fe;\n",
              "  color: #000000;\n",
              "}\n",
              "#T_76d6e_row10_col3 {\n",
              "  background-color: #5977e3;\n",
              "  color: #f1f1f1;\n",
              "}\n",
              "#T_76d6e_row10_col5 {\n",
              "  background-color: #5d7ce6;\n",
              "  color: #f1f1f1;\n",
              "}\n",
              "#T_76d6e_row10_col6 {\n",
              "  background-color: #445acc;\n",
              "  color: #f1f1f1;\n",
              "}\n",
              "#T_76d6e_row10_col11 {\n",
              "  background-color: #7597f6;\n",
              "  color: #f1f1f1;\n",
              "}\n",
              "#T_76d6e_row11_col1 {\n",
              "  background-color: #9abbff;\n",
              "  color: #000000;\n",
              "}\n",
              "#T_76d6e_row11_col3 {\n",
              "  background-color: #6e90f2;\n",
              "  color: #f1f1f1;\n",
              "}\n",
              "#T_76d6e_row11_col9 {\n",
              "  background-color: #e57058;\n",
              "  color: #f1f1f1;\n",
              "}\n",
              "#T_76d6e_row11_col10 {\n",
              "  background-color: #7da0f9;\n",
              "  color: #f1f1f1;\n",
              "}\n",
              "</style>\n",
              "<table id=\"T_76d6e\" class=\"dataframe\">\n",
              "  <thead>\n",
              "    <tr>\n",
              "      <th class=\"blank level0\" >&nbsp;</th>\n",
              "      <th id=\"T_76d6e_level0_col0\" class=\"col_heading level0 col0\" >Gender</th>\n",
              "      <th id=\"T_76d6e_level0_col1\" class=\"col_heading level0 col1\" >Married</th>\n",
              "      <th id=\"T_76d6e_level0_col2\" class=\"col_heading level0 col2\" >Dependents</th>\n",
              "      <th id=\"T_76d6e_level0_col3\" class=\"col_heading level0 col3\" >Education</th>\n",
              "      <th id=\"T_76d6e_level0_col4\" class=\"col_heading level0 col4\" >Self_Employed</th>\n",
              "      <th id=\"T_76d6e_level0_col5\" class=\"col_heading level0 col5\" >ApplicantIncome</th>\n",
              "      <th id=\"T_76d6e_level0_col6\" class=\"col_heading level0 col6\" >CoapplicantIncome</th>\n",
              "      <th id=\"T_76d6e_level0_col7\" class=\"col_heading level0 col7\" >LoanAmount</th>\n",
              "      <th id=\"T_76d6e_level0_col8\" class=\"col_heading level0 col8\" >Loan_Amount_Term</th>\n",
              "      <th id=\"T_76d6e_level0_col9\" class=\"col_heading level0 col9\" >Credit_History</th>\n",
              "      <th id=\"T_76d6e_level0_col10\" class=\"col_heading level0 col10\" >Property_Area</th>\n",
              "      <th id=\"T_76d6e_level0_col11\" class=\"col_heading level0 col11\" >Loan_Status</th>\n",
              "    </tr>\n",
              "  </thead>\n",
              "  <tbody>\n",
              "    <tr>\n",
              "      <th id=\"T_76d6e_level0_row0\" class=\"row_heading level0 row0\" >Gender</th>\n",
              "      <td id=\"T_76d6e_row0_col0\" class=\"data row0 col0\" >1.00</td>\n",
              "      <td id=\"T_76d6e_row0_col1\" class=\"data row0 col1\" >-0.27</td>\n",
              "      <td id=\"T_76d6e_row0_col2\" class=\"data row0 col2\" >-0.09</td>\n",
              "      <td id=\"T_76d6e_row0_col3\" class=\"data row0 col3\" >0.03</td>\n",
              "      <td id=\"T_76d6e_row0_col4\" class=\"data row0 col4\" >-0.07</td>\n",
              "      <td id=\"T_76d6e_row0_col5\" class=\"data row0 col5\" >-0.06</td>\n",
              "      <td id=\"T_76d6e_row0_col6\" class=\"data row0 col6\" >-0.08</td>\n",
              "      <td id=\"T_76d6e_row0_col7\" class=\"data row0 col7\" >-0.07</td>\n",
              "      <td id=\"T_76d6e_row0_col8\" class=\"data row0 col8\" >0.06</td>\n",
              "      <td id=\"T_76d6e_row0_col9\" class=\"data row0 col9\" >-0.03</td>\n",
              "      <td id=\"T_76d6e_row0_col10\" class=\"data row0 col10\" >0.07</td>\n",
              "      <td id=\"T_76d6e_row0_col11\" class=\"data row0 col11\" >-0.06</td>\n",
              "    </tr>\n",
              "    <tr>\n",
              "      <th id=\"T_76d6e_level0_row1\" class=\"row_heading level0 row1\" >Married</th>\n",
              "      <td id=\"T_76d6e_row1_col0\" class=\"data row1 col0\" >-0.27</td>\n",
              "      <td id=\"T_76d6e_row1_col1\" class=\"data row1 col1\" >1.00</td>\n",
              "      <td id=\"T_76d6e_row1_col2\" class=\"data row1 col2\" >0.36</td>\n",
              "      <td id=\"T_76d6e_row1_col3\" class=\"data row1 col3\" >-0.05</td>\n",
              "      <td id=\"T_76d6e_row1_col4\" class=\"data row1 col4\" >0.03</td>\n",
              "      <td id=\"T_76d6e_row1_col5\" class=\"data row1 col5\" >0.05</td>\n",
              "      <td id=\"T_76d6e_row1_col6\" class=\"data row1 col6\" >0.03</td>\n",
              "      <td id=\"T_76d6e_row1_col7\" class=\"data row1 col7\" >0.18</td>\n",
              "      <td id=\"T_76d6e_row1_col8\" class=\"data row1 col8\" >0.04</td>\n",
              "      <td id=\"T_76d6e_row1_col9\" class=\"data row1 col9\" >0.04</td>\n",
              "      <td id=\"T_76d6e_row1_col10\" class=\"data row1 col10\" >-0.02</td>\n",
              "      <td id=\"T_76d6e_row1_col11\" class=\"data row1 col11\" >0.10</td>\n",
              "    </tr>\n",
              "    <tr>\n",
              "      <th id=\"T_76d6e_level0_row2\" class=\"row_heading level0 row2\" >Dependents</th>\n",
              "      <td id=\"T_76d6e_row2_col0\" class=\"data row2 col0\" >-0.09</td>\n",
              "      <td id=\"T_76d6e_row2_col1\" class=\"data row2 col1\" >0.36</td>\n",
              "      <td id=\"T_76d6e_row2_col2\" class=\"data row2 col2\" >1.00</td>\n",
              "      <td id=\"T_76d6e_row2_col3\" class=\"data row2 col3\" >-0.13</td>\n",
              "      <td id=\"T_76d6e_row2_col4\" class=\"data row2 col4\" >-0.02</td>\n",
              "      <td id=\"T_76d6e_row2_col5\" class=\"data row2 col5\" >0.14</td>\n",
              "      <td id=\"T_76d6e_row2_col6\" class=\"data row2 col6\" >-0.05</td>\n",
              "      <td id=\"T_76d6e_row2_col7\" class=\"data row2 col7\" >0.13</td>\n",
              "      <td id=\"T_76d6e_row2_col8\" class=\"data row2 col8\" >-0.05</td>\n",
              "      <td id=\"T_76d6e_row2_col9\" class=\"data row2 col9\" >-0.05</td>\n",
              "      <td id=\"T_76d6e_row2_col10\" class=\"data row2 col10\" >0.02</td>\n",
              "      <td id=\"T_76d6e_row2_col11\" class=\"data row2 col11\" >0.03</td>\n",
              "    </tr>\n",
              "    <tr>\n",
              "      <th id=\"T_76d6e_level0_row3\" class=\"row_heading level0 row3\" >Education</th>\n",
              "      <td id=\"T_76d6e_row3_col0\" class=\"data row3 col0\" >0.03</td>\n",
              "      <td id=\"T_76d6e_row3_col1\" class=\"data row3 col1\" >-0.05</td>\n",
              "      <td id=\"T_76d6e_row3_col2\" class=\"data row3 col2\" >-0.13</td>\n",
              "      <td id=\"T_76d6e_row3_col3\" class=\"data row3 col3\" >1.00</td>\n",
              "      <td id=\"T_76d6e_row3_col4\" class=\"data row3 col4\" >0.01</td>\n",
              "      <td id=\"T_76d6e_row3_col5\" class=\"data row3 col5\" >0.14</td>\n",
              "      <td id=\"T_76d6e_row3_col6\" class=\"data row3 col6\" >0.06</td>\n",
              "      <td id=\"T_76d6e_row3_col7\" class=\"data row3 col7\" >0.16</td>\n",
              "      <td id=\"T_76d6e_row3_col8\" class=\"data row3 col8\" >-0.06</td>\n",
              "      <td id=\"T_76d6e_row3_col9\" class=\"data row3 col9\" >0.04</td>\n",
              "      <td id=\"T_76d6e_row3_col10\" class=\"data row3 col10\" >-0.02</td>\n",
              "      <td id=\"T_76d6e_row3_col11\" class=\"data row3 col11\" >0.05</td>\n",
              "    </tr>\n",
              "    <tr>\n",
              "      <th id=\"T_76d6e_level0_row4\" class=\"row_heading level0 row4\" >Self_Employed</th>\n",
              "      <td id=\"T_76d6e_row4_col0\" class=\"data row4 col0\" >-0.07</td>\n",
              "      <td id=\"T_76d6e_row4_col1\" class=\"data row4 col1\" >0.03</td>\n",
              "      <td id=\"T_76d6e_row4_col2\" class=\"data row4 col2\" >-0.02</td>\n",
              "      <td id=\"T_76d6e_row4_col3\" class=\"data row4 col3\" >0.01</td>\n",
              "      <td id=\"T_76d6e_row4_col4\" class=\"data row4 col4\" >1.00</td>\n",
              "      <td id=\"T_76d6e_row4_col5\" class=\"data row4 col5\" >0.07</td>\n",
              "      <td id=\"T_76d6e_row4_col6\" class=\"data row4 col6\" >-0.03</td>\n",
              "      <td id=\"T_76d6e_row4_col7\" class=\"data row4 col7\" >0.08</td>\n",
              "      <td id=\"T_76d6e_row4_col8\" class=\"data row4 col8\" >-0.03</td>\n",
              "      <td id=\"T_76d6e_row4_col9\" class=\"data row4 col9\" >0.10</td>\n",
              "      <td id=\"T_76d6e_row4_col10\" class=\"data row4 col10\" >-0.12</td>\n",
              "      <td id=\"T_76d6e_row4_col11\" class=\"data row4 col11\" >0.13</td>\n",
              "    </tr>\n",
              "    <tr>\n",
              "      <th id=\"T_76d6e_level0_row5\" class=\"row_heading level0 row5\" >ApplicantIncome</th>\n",
              "      <td id=\"T_76d6e_row5_col0\" class=\"data row5 col0\" >-0.06</td>\n",
              "      <td id=\"T_76d6e_row5_col1\" class=\"data row5 col1\" >0.05</td>\n",
              "      <td id=\"T_76d6e_row5_col2\" class=\"data row5 col2\" >0.14</td>\n",
              "      <td id=\"T_76d6e_row5_col3\" class=\"data row5 col3\" >0.14</td>\n",
              "      <td id=\"T_76d6e_row5_col4\" class=\"data row5 col4\" >0.07</td>\n",
              "      <td id=\"T_76d6e_row5_col5\" class=\"data row5 col5\" >1.00</td>\n",
              "      <td id=\"T_76d6e_row5_col6\" class=\"data row5 col6\" >-0.11</td>\n",
              "      <td id=\"T_76d6e_row5_col7\" class=\"data row5 col7\" >0.49</td>\n",
              "      <td id=\"T_76d6e_row5_col8\" class=\"data row5 col8\" >0.02</td>\n",
              "      <td id=\"T_76d6e_row5_col9\" class=\"data row5 col9\" >0.09</td>\n",
              "      <td id=\"T_76d6e_row5_col10\" class=\"data row5 col10\" >0.01</td>\n",
              "      <td id=\"T_76d6e_row5_col11\" class=\"data row5 col11\" >0.10</td>\n",
              "    </tr>\n",
              "    <tr>\n",
              "      <th id=\"T_76d6e_level0_row6\" class=\"row_heading level0 row6\" >CoapplicantIncome</th>\n",
              "      <td id=\"T_76d6e_row6_col0\" class=\"data row6 col0\" >-0.08</td>\n",
              "      <td id=\"T_76d6e_row6_col1\" class=\"data row6 col1\" >0.03</td>\n",
              "      <td id=\"T_76d6e_row6_col2\" class=\"data row6 col2\" >-0.05</td>\n",
              "      <td id=\"T_76d6e_row6_col3\" class=\"data row6 col3\" >0.06</td>\n",
              "      <td id=\"T_76d6e_row6_col4\" class=\"data row6 col4\" >-0.03</td>\n",
              "      <td id=\"T_76d6e_row6_col5\" class=\"data row6 col5\" >-0.11</td>\n",
              "      <td id=\"T_76d6e_row6_col6\" class=\"data row6 col6\" >1.00</td>\n",
              "      <td id=\"T_76d6e_row6_col7\" class=\"data row6 col7\" >0.15</td>\n",
              "      <td id=\"T_76d6e_row6_col8\" class=\"data row6 col8\" >-0.01</td>\n",
              "      <td id=\"T_76d6e_row6_col9\" class=\"data row6 col9\" >-0.06</td>\n",
              "      <td id=\"T_76d6e_row6_col10\" class=\"data row6 col10\" >-0.08</td>\n",
              "      <td id=\"T_76d6e_row6_col11\" class=\"data row6 col11\" >-0.01</td>\n",
              "    </tr>\n",
              "    <tr>\n",
              "      <th id=\"T_76d6e_level0_row7\" class=\"row_heading level0 row7\" >LoanAmount</th>\n",
              "      <td id=\"T_76d6e_row7_col0\" class=\"data row7 col0\" >-0.07</td>\n",
              "      <td id=\"T_76d6e_row7_col1\" class=\"data row7 col1\" >0.18</td>\n",
              "      <td id=\"T_76d6e_row7_col2\" class=\"data row7 col2\" >0.13</td>\n",
              "      <td id=\"T_76d6e_row7_col3\" class=\"data row7 col3\" >0.16</td>\n",
              "      <td id=\"T_76d6e_row7_col4\" class=\"data row7 col4\" >0.08</td>\n",
              "      <td id=\"T_76d6e_row7_col5\" class=\"data row7 col5\" >0.49</td>\n",
              "      <td id=\"T_76d6e_row7_col6\" class=\"data row7 col6\" >0.15</td>\n",
              "      <td id=\"T_76d6e_row7_col7\" class=\"data row7 col7\" >1.00</td>\n",
              "      <td id=\"T_76d6e_row7_col8\" class=\"data row7 col8\" >0.10</td>\n",
              "      <td id=\"T_76d6e_row7_col9\" class=\"data row7 col9\" >-0.01</td>\n",
              "      <td id=\"T_76d6e_row7_col10\" class=\"data row7 col10\" >-0.03</td>\n",
              "      <td id=\"T_76d6e_row7_col11\" class=\"data row7 col11\" >-0.01</td>\n",
              "    </tr>\n",
              "    <tr>\n",
              "      <th id=\"T_76d6e_level0_row8\" class=\"row_heading level0 row8\" >Loan_Amount_Term</th>\n",
              "      <td id=\"T_76d6e_row8_col0\" class=\"data row8 col0\" >0.06</td>\n",
              "      <td id=\"T_76d6e_row8_col1\" class=\"data row8 col1\" >0.04</td>\n",
              "      <td id=\"T_76d6e_row8_col2\" class=\"data row8 col2\" >-0.05</td>\n",
              "      <td id=\"T_76d6e_row8_col3\" class=\"data row8 col3\" >-0.06</td>\n",
              "      <td id=\"T_76d6e_row8_col4\" class=\"data row8 col4\" >-0.03</td>\n",
              "      <td id=\"T_76d6e_row8_col5\" class=\"data row8 col5\" >0.02</td>\n",
              "      <td id=\"T_76d6e_row8_col6\" class=\"data row8 col6\" >-0.01</td>\n",
              "      <td id=\"T_76d6e_row8_col7\" class=\"data row8 col7\" >0.10</td>\n",
              "      <td id=\"T_76d6e_row8_col8\" class=\"data row8 col8\" >1.00</td>\n",
              "      <td id=\"T_76d6e_row8_col9\" class=\"data row8 col9\" >-0.05</td>\n",
              "      <td id=\"T_76d6e_row8_col10\" class=\"data row8 col10\" >-0.01</td>\n",
              "      <td id=\"T_76d6e_row8_col11\" class=\"data row8 col11\" >-0.09</td>\n",
              "    </tr>\n",
              "    <tr>\n",
              "      <th id=\"T_76d6e_level0_row9\" class=\"row_heading level0 row9\" >Credit_History</th>\n",
              "      <td id=\"T_76d6e_row9_col0\" class=\"data row9 col0\" >-0.03</td>\n",
              "      <td id=\"T_76d6e_row9_col1\" class=\"data row9 col1\" >0.04</td>\n",
              "      <td id=\"T_76d6e_row9_col2\" class=\"data row9 col2\" >-0.05</td>\n",
              "      <td id=\"T_76d6e_row9_col3\" class=\"data row9 col3\" >0.04</td>\n",
              "      <td id=\"T_76d6e_row9_col4\" class=\"data row9 col4\" >0.10</td>\n",
              "      <td id=\"T_76d6e_row9_col5\" class=\"data row9 col5\" >0.09</td>\n",
              "      <td id=\"T_76d6e_row9_col6\" class=\"data row9 col6\" >-0.06</td>\n",
              "      <td id=\"T_76d6e_row9_col7\" class=\"data row9 col7\" >-0.01</td>\n",
              "      <td id=\"T_76d6e_row9_col8\" class=\"data row9 col8\" >-0.05</td>\n",
              "      <td id=\"T_76d6e_row9_col9\" class=\"data row9 col9\" >1.00</td>\n",
              "      <td id=\"T_76d6e_row9_col10\" class=\"data row9 col10\" >-0.00</td>\n",
              "      <td id=\"T_76d6e_row9_col11\" class=\"data row9 col11\" >0.83</td>\n",
              "    </tr>\n",
              "    <tr>\n",
              "      <th id=\"T_76d6e_level0_row10\" class=\"row_heading level0 row10\" >Property_Area</th>\n",
              "      <td id=\"T_76d6e_row10_col0\" class=\"data row10 col0\" >0.07</td>\n",
              "      <td id=\"T_76d6e_row10_col1\" class=\"data row10 col1\" >-0.02</td>\n",
              "      <td id=\"T_76d6e_row10_col2\" class=\"data row10 col2\" >0.02</td>\n",
              "      <td id=\"T_76d6e_row10_col3\" class=\"data row10 col3\" >-0.02</td>\n",
              "      <td id=\"T_76d6e_row10_col4\" class=\"data row10 col4\" >-0.12</td>\n",
              "      <td id=\"T_76d6e_row10_col5\" class=\"data row10 col5\" >0.01</td>\n",
              "      <td id=\"T_76d6e_row10_col6\" class=\"data row10 col6\" >-0.08</td>\n",
              "      <td id=\"T_76d6e_row10_col7\" class=\"data row10 col7\" >-0.03</td>\n",
              "      <td id=\"T_76d6e_row10_col8\" class=\"data row10 col8\" >-0.01</td>\n",
              "      <td id=\"T_76d6e_row10_col9\" class=\"data row10 col9\" >-0.00</td>\n",
              "      <td id=\"T_76d6e_row10_col10\" class=\"data row10 col10\" >1.00</td>\n",
              "      <td id=\"T_76d6e_row10_col11\" class=\"data row10 col11\" >0.11</td>\n",
              "    </tr>\n",
              "    <tr>\n",
              "      <th id=\"T_76d6e_level0_row11\" class=\"row_heading level0 row11\" >Loan_Status</th>\n",
              "      <td id=\"T_76d6e_row11_col0\" class=\"data row11 col0\" >-0.06</td>\n",
              "      <td id=\"T_76d6e_row11_col1\" class=\"data row11 col1\" >0.10</td>\n",
              "      <td id=\"T_76d6e_row11_col2\" class=\"data row11 col2\" >0.03</td>\n",
              "      <td id=\"T_76d6e_row11_col3\" class=\"data row11 col3\" >0.05</td>\n",
              "      <td id=\"T_76d6e_row11_col4\" class=\"data row11 col4\" >0.13</td>\n",
              "      <td id=\"T_76d6e_row11_col5\" class=\"data row11 col5\" >0.10</td>\n",
              "      <td id=\"T_76d6e_row11_col6\" class=\"data row11 col6\" >-0.01</td>\n",
              "      <td id=\"T_76d6e_row11_col7\" class=\"data row11 col7\" >-0.01</td>\n",
              "      <td id=\"T_76d6e_row11_col8\" class=\"data row11 col8\" >-0.09</td>\n",
              "      <td id=\"T_76d6e_row11_col9\" class=\"data row11 col9\" >0.83</td>\n",
              "      <td id=\"T_76d6e_row11_col10\" class=\"data row11 col10\" >0.11</td>\n",
              "      <td id=\"T_76d6e_row11_col11\" class=\"data row11 col11\" >1.00</td>\n",
              "    </tr>\n",
              "  </tbody>\n",
              "</table>\n"
            ]
          },
          "metadata": {},
          "execution_count": 188
        }
      ]
    },
    {
      "cell_type": "markdown",
      "metadata": {
        "id": "pbFZMCGZ30wi"
      },
      "source": [
        "## 11. Tiến hành xây dựng mô hình Logistic bằng Tensorflow"
      ]
    },
    {
      "cell_type": "code",
      "metadata": {
        "id": "WfHAPaEn39Ti"
      },
      "source": [
        "import tensorflow as tf\n",
        "from tensorflow.keras.models import Sequential\n",
        "\n",
        "from tensorflow.keras.layers import Dense\n",
        "from tensorflow.keras.optimizers import SGD"
      ],
      "execution_count": null,
      "outputs": []
    },
    {
      "cell_type": "markdown",
      "metadata": {
        "id": "wJ9h5ME6HJE0"
      },
      "source": [
        "```TODO 9```: Xây dựng mô hình Logistic"
      ]
    },
    {
      "cell_type": "code",
      "metadata": {
        "id": "hMF3jvhn3Nyg"
      },
      "source": [
        "def create_model(input_shape):\n",
        "  \"\"\"\n",
        "  Đầu vào:\n",
        "    - input_shape:\n",
        "      - Dạng: Tuple.\n",
        "      - Ví dụ: (20, )\n",
        "  Đầu ra:\n",
        "    - model\n",
        "      - Sequential model\n",
        "  \"\"\"\n",
        "  # Lập trình tại đây\n",
        "  # Tạo sequential model\n",
        "  model = tf.keras.Sequential([\n",
        "    tf.keras.layers.Input(shape=input_shape),\n",
        "\n",
        "\n",
        "\n",
        "  # Thêm lớp Dense với đầu ra là 1 kèm theo activation là sigmoid. chiều đầu vào là tham số input_shape\n",
        "    tf.keras.layers.Dense(1, activation='sigmoid')])\n",
        "\n",
        "  # Trả về model\n",
        "  return model\n"
      ],
      "execution_count": null,
      "outputs": []
    },
    {
      "cell_type": "code",
      "metadata": {
        "id": "LoATlTo88o-a",
        "colab": {
          "base_uri": "https://localhost:8080/"
        },
        "outputId": "79917be7-3b4d-4192-a03e-e844008b7e29"
      },
      "source": [
        "# TEST CODE\n",
        "test_input_shape = (train_X.shape[1], )\n",
        "test_model = create_model(input_shape=test_input_shape)\n",
        "test_model.summary()"
      ],
      "execution_count": null,
      "outputs": [
        {
          "output_type": "stream",
          "name": "stdout",
          "text": [
            "Model: \"sequential_1\"\n",
            "_________________________________________________________________\n",
            " Layer (type)                Output Shape              Param #   \n",
            "=================================================================\n",
            " dense_1 (Dense)             (None, 1)                 12        \n",
            "                                                                 \n",
            "=================================================================\n",
            "Total params: 12 (48.00 Byte)\n",
            "Trainable params: 12 (48.00 Byte)\n",
            "Non-trainable params: 0 (0.00 Byte)\n",
            "_________________________________________________________________\n"
          ]
        }
      ]
    },
    {
      "cell_type": "markdown",
      "metadata": {
        "id": "utYCq3Oa81FB"
      },
      "source": [
        "**Kết quả mong đợi:**\n",
        "\n",
        "```\n",
        "_________________________________________________________________\n",
        "Layer (type)                 Output Shape              Param #   \n",
        "=================================================================\n",
        "dense_2 (Dense)              (None, 1)                 12        \n",
        "=================================================================\n",
        "Total params: 12\n",
        "Trainable params: 12\n",
        "Non-trainable params: 0\n",
        "_________________________________________________________________\n",
        "```"
      ]
    },
    {
      "cell_type": "code",
      "metadata": {
        "id": "Vu9SWweO7MVl"
      },
      "source": [
        "# Khởi tạo mô hình\n",
        "learning_rate = 0.01\n",
        "input_shape = (train_X.shape[1], )\n",
        "model = create_model(input_shape=input_shape)"
      ],
      "execution_count": null,
      "outputs": []
    },
    {
      "cell_type": "code",
      "metadata": {
        "id": "CNTkcHx57i2y"
      },
      "source": [
        "# Tạo optimizer sgd với tốc độ học là tham số learning_rate của hàm\n",
        "sgd = SGD(learning_rate)\n",
        "\n",
        "model.compile(sgd, loss='binary_crossentropy', metrics=['acc'])"
      ],
      "execution_count": null,
      "outputs": []
    },
    {
      "cell_type": "code",
      "metadata": {
        "id": "G1pWg1oQ8aFl",
        "colab": {
          "base_uri": "https://localhost:8080/"
        },
        "outputId": "9f2c3527-2ada-4fdf-a3ab-23fc28acd7dc"
      },
      "source": [
        "model.fit(train_X, train_Y, epochs=200, verbose=2, validation_data=(val_X, val_Y))"
      ],
      "execution_count": null,
      "outputs": [
        {
          "output_type": "stream",
          "name": "stdout",
          "text": [
            "Epoch 1/200\n",
            "20/20 - 4s - loss: 0.8338 - acc: 0.3404 - val_loss: 0.8079 - val_acc: 0.3052 - 4s/epoch - 224ms/step\n",
            "Epoch 2/200\n",
            "20/20 - 0s - loss: 0.7490 - acc: 0.4007 - val_loss: 0.7191 - val_acc: 0.4469 - 201ms/epoch - 10ms/step\n",
            "Epoch 3/200\n",
            "20/20 - 0s - loss: 0.6998 - acc: 0.5358 - val_loss: 0.6642 - val_acc: 0.5913 - 156ms/epoch - 8ms/step\n",
            "Epoch 4/200\n",
            "20/20 - 0s - loss: 0.6713 - acc: 0.5928 - val_loss: 0.6243 - val_acc: 0.6649 - 162ms/epoch - 8ms/step\n",
            "Epoch 5/200\n",
            "20/20 - 0s - loss: 0.6522 - acc: 0.6466 - val_loss: 0.5955 - val_acc: 0.7439 - 168ms/epoch - 8ms/step\n",
            "Epoch 6/200\n",
            "20/20 - 0s - loss: 0.6395 - acc: 0.6515 - val_loss: 0.5772 - val_acc: 0.7629 - 193ms/epoch - 10ms/step\n",
            "Epoch 7/200\n",
            "20/20 - 0s - loss: 0.6316 - acc: 0.6612 - val_loss: 0.5628 - val_acc: 0.7793 - 168ms/epoch - 8ms/step\n",
            "Epoch 8/200\n",
            "20/20 - 0s - loss: 0.6256 - acc: 0.6564 - val_loss: 0.5499 - val_acc: 0.7929 - 181ms/epoch - 9ms/step\n",
            "Epoch 9/200\n",
            "20/20 - 0s - loss: 0.6207 - acc: 0.6596 - val_loss: 0.5426 - val_acc: 0.7956 - 133ms/epoch - 7ms/step\n",
            "Epoch 10/200\n",
            "20/20 - 0s - loss: 0.6174 - acc: 0.6808 - val_loss: 0.5330 - val_acc: 0.8038 - 143ms/epoch - 7ms/step\n",
            "Epoch 11/200\n",
            "20/20 - 0s - loss: 0.6140 - acc: 0.6938 - val_loss: 0.5243 - val_acc: 0.7984 - 144ms/epoch - 7ms/step\n",
            "Epoch 12/200\n",
            "20/20 - 0s - loss: 0.6112 - acc: 0.6922 - val_loss: 0.5179 - val_acc: 0.7984 - 190ms/epoch - 9ms/step\n",
            "Epoch 13/200\n",
            "20/20 - 0s - loss: 0.6088 - acc: 0.6922 - val_loss: 0.5122 - val_acc: 0.7929 - 142ms/epoch - 7ms/step\n",
            "Epoch 14/200\n",
            "20/20 - 0s - loss: 0.6067 - acc: 0.6922 - val_loss: 0.5068 - val_acc: 0.7956 - 179ms/epoch - 9ms/step\n",
            "Epoch 15/200\n",
            "20/20 - 0s - loss: 0.6049 - acc: 0.6889 - val_loss: 0.5039 - val_acc: 0.7984 - 180ms/epoch - 9ms/step\n",
            "Epoch 16/200\n",
            "20/20 - 0s - loss: 0.6031 - acc: 0.6906 - val_loss: 0.5016 - val_acc: 0.8011 - 126ms/epoch - 6ms/step\n",
            "Epoch 17/200\n",
            "20/20 - 0s - loss: 0.6016 - acc: 0.6922 - val_loss: 0.4991 - val_acc: 0.8011 - 167ms/epoch - 8ms/step\n",
            "Epoch 18/200\n",
            "20/20 - 0s - loss: 0.6001 - acc: 0.6938 - val_loss: 0.4964 - val_acc: 0.8065 - 171ms/epoch - 9ms/step\n",
            "Epoch 19/200\n",
            "20/20 - 0s - loss: 0.5987 - acc: 0.6954 - val_loss: 0.4939 - val_acc: 0.8065 - 128ms/epoch - 6ms/step\n",
            "Epoch 20/200\n",
            "20/20 - 0s - loss: 0.5973 - acc: 0.6971 - val_loss: 0.4904 - val_acc: 0.8038 - 179ms/epoch - 9ms/step\n",
            "Epoch 21/200\n",
            "20/20 - 0s - loss: 0.5959 - acc: 0.6938 - val_loss: 0.4877 - val_acc: 0.8011 - 184ms/epoch - 9ms/step\n",
            "Epoch 22/200\n",
            "20/20 - 0s - loss: 0.5946 - acc: 0.6938 - val_loss: 0.4854 - val_acc: 0.8011 - 145ms/epoch - 7ms/step\n",
            "Epoch 23/200\n",
            "20/20 - 0s - loss: 0.5933 - acc: 0.6938 - val_loss: 0.4831 - val_acc: 0.8011 - 128ms/epoch - 6ms/step\n",
            "Epoch 24/200\n",
            "20/20 - 0s - loss: 0.5920 - acc: 0.6938 - val_loss: 0.4817 - val_acc: 0.8011 - 146ms/epoch - 7ms/step\n",
            "Epoch 25/200\n",
            "20/20 - 0s - loss: 0.5907 - acc: 0.6938 - val_loss: 0.4802 - val_acc: 0.8038 - 139ms/epoch - 7ms/step\n",
            "Epoch 26/200\n",
            "20/20 - 0s - loss: 0.5894 - acc: 0.6938 - val_loss: 0.4788 - val_acc: 0.8065 - 170ms/epoch - 8ms/step\n",
            "Epoch 27/200\n",
            "20/20 - 0s - loss: 0.5883 - acc: 0.6954 - val_loss: 0.4762 - val_acc: 0.8038 - 130ms/epoch - 7ms/step\n",
            "Epoch 28/200\n",
            "20/20 - 0s - loss: 0.5871 - acc: 0.6938 - val_loss: 0.4741 - val_acc: 0.8038 - 164ms/epoch - 8ms/step\n",
            "Epoch 29/200\n",
            "20/20 - 0s - loss: 0.5859 - acc: 0.6938 - val_loss: 0.4726 - val_acc: 0.8065 - 135ms/epoch - 7ms/step\n",
            "Epoch 30/200\n",
            "20/20 - 0s - loss: 0.5848 - acc: 0.6954 - val_loss: 0.4715 - val_acc: 0.8093 - 165ms/epoch - 8ms/step\n",
            "Epoch 31/200\n",
            "20/20 - 0s - loss: 0.5837 - acc: 0.6971 - val_loss: 0.4704 - val_acc: 0.8093 - 167ms/epoch - 8ms/step\n",
            "Epoch 32/200\n",
            "20/20 - 0s - loss: 0.5826 - acc: 0.6987 - val_loss: 0.4697 - val_acc: 0.8147 - 141ms/epoch - 7ms/step\n",
            "Epoch 33/200\n",
            "20/20 - 0s - loss: 0.5814 - acc: 0.7003 - val_loss: 0.4681 - val_acc: 0.8147 - 167ms/epoch - 8ms/step\n",
            "Epoch 34/200\n",
            "20/20 - 0s - loss: 0.5804 - acc: 0.7020 - val_loss: 0.4654 - val_acc: 0.8147 - 125ms/epoch - 6ms/step\n",
            "Epoch 35/200\n",
            "20/20 - 0s - loss: 0.5794 - acc: 0.7020 - val_loss: 0.4643 - val_acc: 0.8174 - 159ms/epoch - 8ms/step\n",
            "Epoch 36/200\n",
            "20/20 - 0s - loss: 0.5783 - acc: 0.7020 - val_loss: 0.4633 - val_acc: 0.8174 - 179ms/epoch - 9ms/step\n",
            "Epoch 37/200\n",
            "20/20 - 0s - loss: 0.5774 - acc: 0.7020 - val_loss: 0.4617 - val_acc: 0.8174 - 167ms/epoch - 8ms/step\n",
            "Epoch 38/200\n",
            "20/20 - 0s - loss: 0.5764 - acc: 0.7036 - val_loss: 0.4596 - val_acc: 0.8174 - 165ms/epoch - 8ms/step\n",
            "Epoch 39/200\n",
            "20/20 - 0s - loss: 0.5755 - acc: 0.7036 - val_loss: 0.4595 - val_acc: 0.8202 - 147ms/epoch - 7ms/step\n",
            "Epoch 40/200\n",
            "20/20 - 0s - loss: 0.5745 - acc: 0.7085 - val_loss: 0.4574 - val_acc: 0.8202 - 155ms/epoch - 8ms/step\n",
            "Epoch 41/200\n",
            "20/20 - 0s - loss: 0.5736 - acc: 0.7101 - val_loss: 0.4561 - val_acc: 0.8202 - 158ms/epoch - 8ms/step\n",
            "Epoch 42/200\n",
            "20/20 - 0s - loss: 0.5727 - acc: 0.7101 - val_loss: 0.4538 - val_acc: 0.8202 - 139ms/epoch - 7ms/step\n",
            "Epoch 43/200\n",
            "20/20 - 0s - loss: 0.5718 - acc: 0.7101 - val_loss: 0.4522 - val_acc: 0.8202 - 184ms/epoch - 9ms/step\n",
            "Epoch 44/200\n",
            "20/20 - 0s - loss: 0.5709 - acc: 0.7101 - val_loss: 0.4508 - val_acc: 0.8202 - 166ms/epoch - 8ms/step\n",
            "Epoch 45/200\n",
            "20/20 - 0s - loss: 0.5701 - acc: 0.7101 - val_loss: 0.4494 - val_acc: 0.8202 - 160ms/epoch - 8ms/step\n",
            "Epoch 46/200\n",
            "20/20 - 0s - loss: 0.5692 - acc: 0.7101 - val_loss: 0.4496 - val_acc: 0.8229 - 153ms/epoch - 8ms/step\n",
            "Epoch 47/200\n",
            "20/20 - 0s - loss: 0.5685 - acc: 0.7134 - val_loss: 0.4480 - val_acc: 0.8229 - 153ms/epoch - 8ms/step\n",
            "Epoch 48/200\n",
            "20/20 - 0s - loss: 0.5676 - acc: 0.7117 - val_loss: 0.4469 - val_acc: 0.8229 - 142ms/epoch - 7ms/step\n",
            "Epoch 49/200\n",
            "20/20 - 0s - loss: 0.5668 - acc: 0.7150 - val_loss: 0.4464 - val_acc: 0.8283 - 161ms/epoch - 8ms/step\n",
            "Epoch 50/200\n",
            "20/20 - 0s - loss: 0.5660 - acc: 0.7166 - val_loss: 0.4458 - val_acc: 0.8283 - 144ms/epoch - 7ms/step\n",
            "Epoch 51/200\n",
            "20/20 - 0s - loss: 0.5651 - acc: 0.7166 - val_loss: 0.4468 - val_acc: 0.8365 - 154ms/epoch - 8ms/step\n",
            "Epoch 52/200\n",
            "20/20 - 0s - loss: 0.5643 - acc: 0.7182 - val_loss: 0.4441 - val_acc: 0.8365 - 172ms/epoch - 9ms/step\n",
            "Epoch 53/200\n",
            "20/20 - 0s - loss: 0.5636 - acc: 0.7182 - val_loss: 0.4424 - val_acc: 0.8365 - 159ms/epoch - 8ms/step\n",
            "Epoch 54/200\n",
            "20/20 - 0s - loss: 0.5628 - acc: 0.7182 - val_loss: 0.4405 - val_acc: 0.8365 - 181ms/epoch - 9ms/step\n",
            "Epoch 55/200\n",
            "20/20 - 0s - loss: 0.5621 - acc: 0.7182 - val_loss: 0.4394 - val_acc: 0.8392 - 160ms/epoch - 8ms/step\n",
            "Epoch 56/200\n",
            "20/20 - 0s - loss: 0.5613 - acc: 0.7182 - val_loss: 0.4393 - val_acc: 0.8447 - 166ms/epoch - 8ms/step\n",
            "Epoch 57/200\n",
            "20/20 - 0s - loss: 0.5607 - acc: 0.7182 - val_loss: 0.4383 - val_acc: 0.8447 - 157ms/epoch - 8ms/step\n",
            "Epoch 58/200\n",
            "20/20 - 0s - loss: 0.5600 - acc: 0.7199 - val_loss: 0.4364 - val_acc: 0.8447 - 178ms/epoch - 9ms/step\n",
            "Epoch 59/200\n",
            "20/20 - 0s - loss: 0.5593 - acc: 0.7182 - val_loss: 0.4353 - val_acc: 0.8474 - 150ms/epoch - 8ms/step\n",
            "Epoch 60/200\n",
            "20/20 - 0s - loss: 0.5585 - acc: 0.7199 - val_loss: 0.4343 - val_acc: 0.8501 - 169ms/epoch - 8ms/step\n",
            "Epoch 61/200\n",
            "20/20 - 0s - loss: 0.5577 - acc: 0.7215 - val_loss: 0.4335 - val_acc: 0.8501 - 171ms/epoch - 9ms/step\n",
            "Epoch 62/200\n",
            "20/20 - 0s - loss: 0.5570 - acc: 0.7231 - val_loss: 0.4319 - val_acc: 0.8501 - 164ms/epoch - 8ms/step\n",
            "Epoch 63/200\n",
            "20/20 - 0s - loss: 0.5563 - acc: 0.7248 - val_loss: 0.4331 - val_acc: 0.8529 - 110ms/epoch - 6ms/step\n",
            "Epoch 64/200\n",
            "20/20 - 0s - loss: 0.5555 - acc: 0.7264 - val_loss: 0.4331 - val_acc: 0.8556 - 147ms/epoch - 7ms/step\n",
            "Epoch 65/200\n",
            "20/20 - 0s - loss: 0.5549 - acc: 0.7264 - val_loss: 0.4315 - val_acc: 0.8556 - 112ms/epoch - 6ms/step\n",
            "Epoch 66/200\n",
            "20/20 - 0s - loss: 0.5543 - acc: 0.7264 - val_loss: 0.4298 - val_acc: 0.8556 - 140ms/epoch - 7ms/step\n",
            "Epoch 67/200\n",
            "20/20 - 0s - loss: 0.5536 - acc: 0.7264 - val_loss: 0.4303 - val_acc: 0.8556 - 143ms/epoch - 7ms/step\n",
            "Epoch 68/200\n",
            "20/20 - 0s - loss: 0.5530 - acc: 0.7264 - val_loss: 0.4284 - val_acc: 0.8556 - 139ms/epoch - 7ms/step\n",
            "Epoch 69/200\n",
            "20/20 - 0s - loss: 0.5524 - acc: 0.7264 - val_loss: 0.4263 - val_acc: 0.8556 - 105ms/epoch - 5ms/step\n",
            "Epoch 70/200\n",
            "20/20 - 0s - loss: 0.5518 - acc: 0.7248 - val_loss: 0.4248 - val_acc: 0.8556 - 143ms/epoch - 7ms/step\n",
            "Epoch 71/200\n",
            "20/20 - 0s - loss: 0.5512 - acc: 0.7264 - val_loss: 0.4241 - val_acc: 0.8638 - 86ms/epoch - 4ms/step\n",
            "Epoch 72/200\n",
            "20/20 - 0s - loss: 0.5505 - acc: 0.7280 - val_loss: 0.4240 - val_acc: 0.8638 - 85ms/epoch - 4ms/step\n",
            "Epoch 73/200\n",
            "20/20 - 0s - loss: 0.5500 - acc: 0.7264 - val_loss: 0.4225 - val_acc: 0.8638 - 78ms/epoch - 4ms/step\n",
            "Epoch 74/200\n",
            "20/20 - 0s - loss: 0.5495 - acc: 0.7280 - val_loss: 0.4207 - val_acc: 0.8638 - 71ms/epoch - 4ms/step\n",
            "Epoch 75/200\n",
            "20/20 - 0s - loss: 0.5488 - acc: 0.7264 - val_loss: 0.4211 - val_acc: 0.8719 - 77ms/epoch - 4ms/step\n",
            "Epoch 76/200\n",
            "20/20 - 0s - loss: 0.5482 - acc: 0.7313 - val_loss: 0.4189 - val_acc: 0.8719 - 80ms/epoch - 4ms/step\n",
            "Epoch 77/200\n",
            "20/20 - 0s - loss: 0.5477 - acc: 0.7280 - val_loss: 0.4191 - val_acc: 0.8747 - 82ms/epoch - 4ms/step\n",
            "Epoch 78/200\n",
            "20/20 - 0s - loss: 0.5470 - acc: 0.7362 - val_loss: 0.4192 - val_acc: 0.8801 - 90ms/epoch - 4ms/step\n",
            "Epoch 79/200\n",
            "20/20 - 0s - loss: 0.5465 - acc: 0.7362 - val_loss: 0.4190 - val_acc: 0.8828 - 76ms/epoch - 4ms/step\n",
            "Epoch 80/200\n",
            "20/20 - 0s - loss: 0.5461 - acc: 0.7362 - val_loss: 0.4184 - val_acc: 0.8828 - 76ms/epoch - 4ms/step\n",
            "Epoch 81/200\n",
            "20/20 - 0s - loss: 0.5454 - acc: 0.7378 - val_loss: 0.4160 - val_acc: 0.8828 - 79ms/epoch - 4ms/step\n",
            "Epoch 82/200\n",
            "20/20 - 0s - loss: 0.5449 - acc: 0.7378 - val_loss: 0.4160 - val_acc: 0.8828 - 76ms/epoch - 4ms/step\n",
            "Epoch 83/200\n",
            "20/20 - 0s - loss: 0.5445 - acc: 0.7378 - val_loss: 0.4152 - val_acc: 0.8828 - 80ms/epoch - 4ms/step\n",
            "Epoch 84/200\n",
            "20/20 - 0s - loss: 0.5438 - acc: 0.7378 - val_loss: 0.4143 - val_acc: 0.8828 - 78ms/epoch - 4ms/step\n",
            "Epoch 85/200\n",
            "20/20 - 0s - loss: 0.5433 - acc: 0.7427 - val_loss: 0.4148 - val_acc: 0.8910 - 87ms/epoch - 4ms/step\n",
            "Epoch 86/200\n",
            "20/20 - 0s - loss: 0.5427 - acc: 0.7427 - val_loss: 0.4140 - val_acc: 0.8910 - 75ms/epoch - 4ms/step\n",
            "Epoch 87/200\n",
            "20/20 - 0s - loss: 0.5422 - acc: 0.7459 - val_loss: 0.4117 - val_acc: 0.8910 - 83ms/epoch - 4ms/step\n",
            "Epoch 88/200\n",
            "20/20 - 0s - loss: 0.5417 - acc: 0.7443 - val_loss: 0.4110 - val_acc: 0.8910 - 127ms/epoch - 6ms/step\n",
            "Epoch 89/200\n",
            "20/20 - 0s - loss: 0.5411 - acc: 0.7508 - val_loss: 0.4093 - val_acc: 0.8910 - 125ms/epoch - 6ms/step\n",
            "Epoch 90/200\n",
            "20/20 - 0s - loss: 0.5406 - acc: 0.7508 - val_loss: 0.4082 - val_acc: 0.8910 - 79ms/epoch - 4ms/step\n",
            "Epoch 91/200\n",
            "20/20 - 0s - loss: 0.5402 - acc: 0.7557 - val_loss: 0.4088 - val_acc: 0.8937 - 74ms/epoch - 4ms/step\n",
            "Epoch 92/200\n",
            "20/20 - 0s - loss: 0.5396 - acc: 0.7573 - val_loss: 0.4064 - val_acc: 0.8910 - 79ms/epoch - 4ms/step\n",
            "Epoch 93/200\n",
            "20/20 - 0s - loss: 0.5392 - acc: 0.7573 - val_loss: 0.4067 - val_acc: 0.8937 - 87ms/epoch - 4ms/step\n",
            "Epoch 94/200\n",
            "20/20 - 0s - loss: 0.5386 - acc: 0.7590 - val_loss: 0.4057 - val_acc: 0.8937 - 77ms/epoch - 4ms/step\n",
            "Epoch 95/200\n",
            "20/20 - 0s - loss: 0.5381 - acc: 0.7590 - val_loss: 0.4060 - val_acc: 0.8965 - 79ms/epoch - 4ms/step\n",
            "Epoch 96/200\n",
            "20/20 - 0s - loss: 0.5378 - acc: 0.7590 - val_loss: 0.4049 - val_acc: 0.8992 - 96ms/epoch - 5ms/step\n",
            "Epoch 97/200\n",
            "20/20 - 0s - loss: 0.5372 - acc: 0.7590 - val_loss: 0.4042 - val_acc: 0.9019 - 85ms/epoch - 4ms/step\n",
            "Epoch 98/200\n",
            "20/20 - 0s - loss: 0.5368 - acc: 0.7622 - val_loss: 0.4052 - val_acc: 0.9019 - 85ms/epoch - 4ms/step\n",
            "Epoch 99/200\n",
            "20/20 - 0s - loss: 0.5363 - acc: 0.7687 - val_loss: 0.4028 - val_acc: 0.9019 - 79ms/epoch - 4ms/step\n",
            "Epoch 100/200\n",
            "20/20 - 0s - loss: 0.5359 - acc: 0.7671 - val_loss: 0.4017 - val_acc: 0.9019 - 131ms/epoch - 7ms/step\n",
            "Epoch 101/200\n",
            "20/20 - 0s - loss: 0.5354 - acc: 0.7671 - val_loss: 0.4013 - val_acc: 0.9019 - 92ms/epoch - 5ms/step\n",
            "Epoch 102/200\n",
            "20/20 - 0s - loss: 0.5349 - acc: 0.7687 - val_loss: 0.4004 - val_acc: 0.9046 - 80ms/epoch - 4ms/step\n",
            "Epoch 103/200\n",
            "20/20 - 0s - loss: 0.5344 - acc: 0.7687 - val_loss: 0.4001 - val_acc: 0.9046 - 94ms/epoch - 5ms/step\n",
            "Epoch 104/200\n",
            "20/20 - 0s - loss: 0.5340 - acc: 0.7687 - val_loss: 0.3991 - val_acc: 0.9046 - 75ms/epoch - 4ms/step\n",
            "Epoch 105/200\n",
            "20/20 - 0s - loss: 0.5336 - acc: 0.7687 - val_loss: 0.3978 - val_acc: 0.9046 - 81ms/epoch - 4ms/step\n",
            "Epoch 106/200\n",
            "20/20 - 0s - loss: 0.5332 - acc: 0.7704 - val_loss: 0.3968 - val_acc: 0.9046 - 122ms/epoch - 6ms/step\n",
            "Epoch 107/200\n",
            "20/20 - 0s - loss: 0.5328 - acc: 0.7704 - val_loss: 0.3952 - val_acc: 0.9074 - 74ms/epoch - 4ms/step\n",
            "Epoch 108/200\n",
            "20/20 - 0s - loss: 0.5324 - acc: 0.7687 - val_loss: 0.3938 - val_acc: 0.9074 - 82ms/epoch - 4ms/step\n",
            "Epoch 109/200\n",
            "20/20 - 0s - loss: 0.5320 - acc: 0.7687 - val_loss: 0.3933 - val_acc: 0.9101 - 76ms/epoch - 4ms/step\n",
            "Epoch 110/200\n",
            "20/20 - 0s - loss: 0.5316 - acc: 0.7736 - val_loss: 0.3915 - val_acc: 0.9074 - 119ms/epoch - 6ms/step\n",
            "Epoch 111/200\n",
            "20/20 - 0s - loss: 0.5312 - acc: 0.7704 - val_loss: 0.3919 - val_acc: 0.9101 - 73ms/epoch - 4ms/step\n",
            "Epoch 112/200\n",
            "20/20 - 0s - loss: 0.5307 - acc: 0.7736 - val_loss: 0.3921 - val_acc: 0.9101 - 77ms/epoch - 4ms/step\n",
            "Epoch 113/200\n",
            "20/20 - 0s - loss: 0.5301 - acc: 0.7752 - val_loss: 0.3906 - val_acc: 0.9101 - 76ms/epoch - 4ms/step\n",
            "Epoch 114/200\n",
            "20/20 - 0s - loss: 0.5298 - acc: 0.7769 - val_loss: 0.3901 - val_acc: 0.9101 - 81ms/epoch - 4ms/step\n",
            "Epoch 115/200\n",
            "20/20 - 0s - loss: 0.5295 - acc: 0.7801 - val_loss: 0.3894 - val_acc: 0.9128 - 75ms/epoch - 4ms/step\n",
            "Epoch 116/200\n",
            "20/20 - 0s - loss: 0.5290 - acc: 0.7785 - val_loss: 0.3896 - val_acc: 0.9128 - 75ms/epoch - 4ms/step\n",
            "Epoch 117/200\n",
            "20/20 - 0s - loss: 0.5286 - acc: 0.7818 - val_loss: 0.3894 - val_acc: 0.9155 - 76ms/epoch - 4ms/step\n",
            "Epoch 118/200\n",
            "20/20 - 0s - loss: 0.5282 - acc: 0.7834 - val_loss: 0.3909 - val_acc: 0.9237 - 83ms/epoch - 4ms/step\n",
            "Epoch 119/200\n",
            "20/20 - 0s - loss: 0.5279 - acc: 0.7850 - val_loss: 0.3894 - val_acc: 0.9237 - 78ms/epoch - 4ms/step\n",
            "Epoch 120/200\n",
            "20/20 - 0s - loss: 0.5274 - acc: 0.7850 - val_loss: 0.3902 - val_acc: 0.9237 - 84ms/epoch - 4ms/step\n",
            "Epoch 121/200\n",
            "20/20 - 0s - loss: 0.5271 - acc: 0.7899 - val_loss: 0.3891 - val_acc: 0.9237 - 85ms/epoch - 4ms/step\n",
            "Epoch 122/200\n",
            "20/20 - 0s - loss: 0.5268 - acc: 0.7883 - val_loss: 0.3889 - val_acc: 0.9237 - 125ms/epoch - 6ms/step\n",
            "Epoch 123/200\n",
            "20/20 - 0s - loss: 0.5264 - acc: 0.7899 - val_loss: 0.3886 - val_acc: 0.9292 - 76ms/epoch - 4ms/step\n",
            "Epoch 124/200\n",
            "20/20 - 0s - loss: 0.5260 - acc: 0.7899 - val_loss: 0.3879 - val_acc: 0.9292 - 116ms/epoch - 6ms/step\n",
            "Epoch 125/200\n",
            "20/20 - 0s - loss: 0.5257 - acc: 0.7915 - val_loss: 0.3873 - val_acc: 0.9292 - 84ms/epoch - 4ms/step\n",
            "Epoch 126/200\n",
            "20/20 - 0s - loss: 0.5253 - acc: 0.7932 - val_loss: 0.3854 - val_acc: 0.9292 - 76ms/epoch - 4ms/step\n",
            "Epoch 127/200\n",
            "20/20 - 0s - loss: 0.5249 - acc: 0.7915 - val_loss: 0.3853 - val_acc: 0.9292 - 78ms/epoch - 4ms/step\n",
            "Epoch 128/200\n",
            "20/20 - 0s - loss: 0.5246 - acc: 0.7964 - val_loss: 0.3839 - val_acc: 0.9292 - 80ms/epoch - 4ms/step\n",
            "Epoch 129/200\n",
            "20/20 - 0s - loss: 0.5242 - acc: 0.7915 - val_loss: 0.3846 - val_acc: 0.9319 - 87ms/epoch - 4ms/step\n",
            "Epoch 130/200\n",
            "20/20 - 0s - loss: 0.5239 - acc: 0.7948 - val_loss: 0.3837 - val_acc: 0.9319 - 74ms/epoch - 4ms/step\n",
            "Epoch 131/200\n",
            "20/20 - 0s - loss: 0.5236 - acc: 0.7964 - val_loss: 0.3816 - val_acc: 0.9319 - 74ms/epoch - 4ms/step\n",
            "Epoch 132/200\n",
            "20/20 - 0s - loss: 0.5231 - acc: 0.7948 - val_loss: 0.3824 - val_acc: 0.9346 - 81ms/epoch - 4ms/step\n",
            "Epoch 133/200\n",
            "20/20 - 0s - loss: 0.5228 - acc: 0.7964 - val_loss: 0.3827 - val_acc: 0.9346 - 119ms/epoch - 6ms/step\n",
            "Epoch 134/200\n",
            "20/20 - 0s - loss: 0.5224 - acc: 0.7997 - val_loss: 0.3823 - val_acc: 0.9346 - 74ms/epoch - 4ms/step\n",
            "Epoch 135/200\n",
            "20/20 - 0s - loss: 0.5222 - acc: 0.7980 - val_loss: 0.3811 - val_acc: 0.9346 - 79ms/epoch - 4ms/step\n",
            "Epoch 136/200\n",
            "20/20 - 0s - loss: 0.5218 - acc: 0.7980 - val_loss: 0.3822 - val_acc: 0.9373 - 76ms/epoch - 4ms/step\n",
            "Epoch 137/200\n",
            "20/20 - 0s - loss: 0.5215 - acc: 0.7997 - val_loss: 0.3809 - val_acc: 0.9373 - 74ms/epoch - 4ms/step\n",
            "Epoch 138/200\n",
            "20/20 - 0s - loss: 0.5212 - acc: 0.7997 - val_loss: 0.3799 - val_acc: 0.9373 - 76ms/epoch - 4ms/step\n",
            "Epoch 139/200\n",
            "20/20 - 0s - loss: 0.5208 - acc: 0.7980 - val_loss: 0.3794 - val_acc: 0.9373 - 91ms/epoch - 5ms/step\n",
            "Epoch 140/200\n",
            "20/20 - 0s - loss: 0.5205 - acc: 0.7997 - val_loss: 0.3797 - val_acc: 0.9373 - 72ms/epoch - 4ms/step\n",
            "Epoch 141/200\n",
            "20/20 - 0s - loss: 0.5201 - acc: 0.7997 - val_loss: 0.3784 - val_acc: 0.9373 - 80ms/epoch - 4ms/step\n",
            "Epoch 142/200\n",
            "20/20 - 0s - loss: 0.5199 - acc: 0.7997 - val_loss: 0.3784 - val_acc: 0.9401 - 73ms/epoch - 4ms/step\n",
            "Epoch 143/200\n",
            "20/20 - 0s - loss: 0.5195 - acc: 0.7980 - val_loss: 0.3764 - val_acc: 0.9373 - 69ms/epoch - 3ms/step\n",
            "Epoch 144/200\n",
            "20/20 - 0s - loss: 0.5192 - acc: 0.7997 - val_loss: 0.3774 - val_acc: 0.9401 - 81ms/epoch - 4ms/step\n",
            "Epoch 145/200\n",
            "20/20 - 0s - loss: 0.5190 - acc: 0.7980 - val_loss: 0.3774 - val_acc: 0.9401 - 83ms/epoch - 4ms/step\n",
            "Epoch 146/200\n",
            "20/20 - 0s - loss: 0.5186 - acc: 0.7997 - val_loss: 0.3774 - val_acc: 0.9373 - 75ms/epoch - 4ms/step\n",
            "Epoch 147/200\n",
            "20/20 - 0s - loss: 0.5182 - acc: 0.8029 - val_loss: 0.3767 - val_acc: 0.9373 - 73ms/epoch - 4ms/step\n",
            "Epoch 148/200\n",
            "20/20 - 0s - loss: 0.5180 - acc: 0.8013 - val_loss: 0.3757 - val_acc: 0.9401 - 79ms/epoch - 4ms/step\n",
            "Epoch 149/200\n",
            "20/20 - 0s - loss: 0.5177 - acc: 0.8013 - val_loss: 0.3755 - val_acc: 0.9401 - 89ms/epoch - 4ms/step\n",
            "Epoch 150/200\n",
            "20/20 - 0s - loss: 0.5175 - acc: 0.8013 - val_loss: 0.3745 - val_acc: 0.9401 - 69ms/epoch - 3ms/step\n",
            "Epoch 151/200\n",
            "20/20 - 0s - loss: 0.5171 - acc: 0.8013 - val_loss: 0.3734 - val_acc: 0.9401 - 83ms/epoch - 4ms/step\n",
            "Epoch 152/200\n",
            "20/20 - 0s - loss: 0.5169 - acc: 0.8013 - val_loss: 0.3725 - val_acc: 0.9401 - 78ms/epoch - 4ms/step\n",
            "Epoch 153/200\n",
            "20/20 - 0s - loss: 0.5165 - acc: 0.8013 - val_loss: 0.3722 - val_acc: 0.9401 - 80ms/epoch - 4ms/step\n",
            "Epoch 154/200\n",
            "20/20 - 0s - loss: 0.5162 - acc: 0.8013 - val_loss: 0.3717 - val_acc: 0.9373 - 120ms/epoch - 6ms/step\n",
            "Epoch 155/200\n",
            "20/20 - 0s - loss: 0.5159 - acc: 0.8013 - val_loss: 0.3703 - val_acc: 0.9401 - 78ms/epoch - 4ms/step\n",
            "Epoch 156/200\n",
            "20/20 - 0s - loss: 0.5156 - acc: 0.8013 - val_loss: 0.3702 - val_acc: 0.9401 - 79ms/epoch - 4ms/step\n",
            "Epoch 157/200\n",
            "20/20 - 0s - loss: 0.5154 - acc: 0.8013 - val_loss: 0.3691 - val_acc: 0.9401 - 72ms/epoch - 4ms/step\n",
            "Epoch 158/200\n",
            "20/20 - 0s - loss: 0.5150 - acc: 0.8029 - val_loss: 0.3703 - val_acc: 0.9373 - 71ms/epoch - 4ms/step\n",
            "Epoch 159/200\n",
            "20/20 - 0s - loss: 0.5147 - acc: 0.8062 - val_loss: 0.3696 - val_acc: 0.9373 - 77ms/epoch - 4ms/step\n",
            "Epoch 160/200\n",
            "20/20 - 0s - loss: 0.5145 - acc: 0.8062 - val_loss: 0.3681 - val_acc: 0.9373 - 81ms/epoch - 4ms/step\n",
            "Epoch 161/200\n",
            "20/20 - 0s - loss: 0.5142 - acc: 0.8062 - val_loss: 0.3672 - val_acc: 0.9373 - 72ms/epoch - 4ms/step\n",
            "Epoch 162/200\n",
            "20/20 - 0s - loss: 0.5139 - acc: 0.8062 - val_loss: 0.3671 - val_acc: 0.9373 - 72ms/epoch - 4ms/step\n",
            "Epoch 163/200\n",
            "20/20 - 0s - loss: 0.5137 - acc: 0.8062 - val_loss: 0.3660 - val_acc: 0.9373 - 80ms/epoch - 4ms/step\n",
            "Epoch 164/200\n",
            "20/20 - 0s - loss: 0.5133 - acc: 0.8062 - val_loss: 0.3664 - val_acc: 0.9373 - 77ms/epoch - 4ms/step\n",
            "Epoch 165/200\n",
            "20/20 - 0s - loss: 0.5131 - acc: 0.8062 - val_loss: 0.3658 - val_acc: 0.9373 - 80ms/epoch - 4ms/step\n",
            "Epoch 166/200\n",
            "20/20 - 0s - loss: 0.5128 - acc: 0.8078 - val_loss: 0.3642 - val_acc: 0.9373 - 76ms/epoch - 4ms/step\n",
            "Epoch 167/200\n",
            "20/20 - 0s - loss: 0.5126 - acc: 0.8078 - val_loss: 0.3630 - val_acc: 0.9373 - 75ms/epoch - 4ms/step\n",
            "Epoch 168/200\n",
            "20/20 - 0s - loss: 0.5123 - acc: 0.8062 - val_loss: 0.3617 - val_acc: 0.9373 - 71ms/epoch - 4ms/step\n",
            "Epoch 169/200\n",
            "20/20 - 0s - loss: 0.5121 - acc: 0.8062 - val_loss: 0.3628 - val_acc: 0.9373 - 75ms/epoch - 4ms/step\n",
            "Epoch 170/200\n",
            "20/20 - 0s - loss: 0.5118 - acc: 0.8094 - val_loss: 0.3619 - val_acc: 0.9373 - 82ms/epoch - 4ms/step\n",
            "Epoch 171/200\n",
            "20/20 - 0s - loss: 0.5116 - acc: 0.8078 - val_loss: 0.3623 - val_acc: 0.9373 - 82ms/epoch - 4ms/step\n",
            "Epoch 172/200\n",
            "20/20 - 0s - loss: 0.5112 - acc: 0.8094 - val_loss: 0.3621 - val_acc: 0.9373 - 73ms/epoch - 4ms/step\n",
            "Epoch 173/200\n",
            "20/20 - 0s - loss: 0.5111 - acc: 0.8094 - val_loss: 0.3611 - val_acc: 0.9373 - 72ms/epoch - 4ms/step\n",
            "Epoch 174/200\n",
            "20/20 - 0s - loss: 0.5108 - acc: 0.8094 - val_loss: 0.3610 - val_acc: 0.9373 - 75ms/epoch - 4ms/step\n",
            "Epoch 175/200\n",
            "20/20 - 0s - loss: 0.5105 - acc: 0.8094 - val_loss: 0.3622 - val_acc: 0.9373 - 82ms/epoch - 4ms/step\n",
            "Epoch 176/200\n",
            "20/20 - 0s - loss: 0.5103 - acc: 0.8094 - val_loss: 0.3621 - val_acc: 0.9373 - 77ms/epoch - 4ms/step\n",
            "Epoch 177/200\n",
            "20/20 - 0s - loss: 0.5100 - acc: 0.8094 - val_loss: 0.3608 - val_acc: 0.9373 - 76ms/epoch - 4ms/step\n",
            "Epoch 178/200\n",
            "20/20 - 0s - loss: 0.5098 - acc: 0.8094 - val_loss: 0.3595 - val_acc: 0.9373 - 83ms/epoch - 4ms/step\n",
            "Epoch 179/200\n",
            "20/20 - 0s - loss: 0.5096 - acc: 0.8094 - val_loss: 0.3587 - val_acc: 0.9373 - 74ms/epoch - 4ms/step\n",
            "Epoch 180/200\n",
            "20/20 - 0s - loss: 0.5094 - acc: 0.8094 - val_loss: 0.3591 - val_acc: 0.9373 - 77ms/epoch - 4ms/step\n",
            "Epoch 181/200\n",
            "20/20 - 0s - loss: 0.5091 - acc: 0.8094 - val_loss: 0.3576 - val_acc: 0.9373 - 91ms/epoch - 5ms/step\n",
            "Epoch 182/200\n",
            "20/20 - 0s - loss: 0.5089 - acc: 0.8094 - val_loss: 0.3594 - val_acc: 0.9373 - 71ms/epoch - 4ms/step\n",
            "Epoch 183/200\n",
            "20/20 - 0s - loss: 0.5087 - acc: 0.8094 - val_loss: 0.3601 - val_acc: 0.9373 - 70ms/epoch - 4ms/step\n",
            "Epoch 184/200\n",
            "20/20 - 0s - loss: 0.5084 - acc: 0.8094 - val_loss: 0.3609 - val_acc: 0.9401 - 76ms/epoch - 4ms/step\n",
            "Epoch 185/200\n",
            "20/20 - 0s - loss: 0.5082 - acc: 0.8094 - val_loss: 0.3609 - val_acc: 0.9401 - 149ms/epoch - 7ms/step\n",
            "Epoch 186/200\n",
            "20/20 - 0s - loss: 0.5081 - acc: 0.8094 - val_loss: 0.3606 - val_acc: 0.9401 - 143ms/epoch - 7ms/step\n",
            "Epoch 187/200\n",
            "20/20 - 0s - loss: 0.5078 - acc: 0.8094 - val_loss: 0.3589 - val_acc: 0.9401 - 109ms/epoch - 5ms/step\n",
            "Epoch 188/200\n",
            "20/20 - 0s - loss: 0.5075 - acc: 0.8094 - val_loss: 0.3585 - val_acc: 0.9401 - 116ms/epoch - 6ms/step\n",
            "Epoch 189/200\n",
            "20/20 - 0s - loss: 0.5073 - acc: 0.8094 - val_loss: 0.3577 - val_acc: 0.9401 - 144ms/epoch - 7ms/step\n",
            "Epoch 190/200\n",
            "20/20 - 0s - loss: 0.5072 - acc: 0.8094 - val_loss: 0.3584 - val_acc: 0.9401 - 104ms/epoch - 5ms/step\n",
            "Epoch 191/200\n",
            "20/20 - 0s - loss: 0.5070 - acc: 0.8094 - val_loss: 0.3583 - val_acc: 0.9401 - 103ms/epoch - 5ms/step\n",
            "Epoch 192/200\n",
            "20/20 - 0s - loss: 0.5068 - acc: 0.8094 - val_loss: 0.3586 - val_acc: 0.9401 - 142ms/epoch - 7ms/step\n",
            "Epoch 193/200\n",
            "20/20 - 0s - loss: 0.5065 - acc: 0.8094 - val_loss: 0.3579 - val_acc: 0.9401 - 105ms/epoch - 5ms/step\n",
            "Epoch 194/200\n",
            "20/20 - 0s - loss: 0.5063 - acc: 0.8094 - val_loss: 0.3571 - val_acc: 0.9401 - 114ms/epoch - 6ms/step\n",
            "Epoch 195/200\n",
            "20/20 - 0s - loss: 0.5060 - acc: 0.8094 - val_loss: 0.3550 - val_acc: 0.9401 - 148ms/epoch - 7ms/step\n",
            "Epoch 196/200\n",
            "20/20 - 0s - loss: 0.5059 - acc: 0.8094 - val_loss: 0.3545 - val_acc: 0.9401 - 148ms/epoch - 7ms/step\n",
            "Epoch 197/200\n",
            "20/20 - 0s - loss: 0.5056 - acc: 0.8094 - val_loss: 0.3544 - val_acc: 0.9401 - 147ms/epoch - 7ms/step\n",
            "Epoch 198/200\n",
            "20/20 - 0s - loss: 0.5054 - acc: 0.8094 - val_loss: 0.3539 - val_acc: 0.9401 - 99ms/epoch - 5ms/step\n",
            "Epoch 199/200\n",
            "20/20 - 0s - loss: 0.5052 - acc: 0.8094 - val_loss: 0.3528 - val_acc: 0.9401 - 113ms/epoch - 6ms/step\n",
            "Epoch 200/200\n",
            "20/20 - 0s - loss: 0.5050 - acc: 0.8094 - val_loss: 0.3533 - val_acc: 0.9401 - 138ms/epoch - 7ms/step\n"
          ]
        },
        {
          "output_type": "execute_result",
          "data": {
            "text/plain": [
              "<keras.src.callbacks.History at 0x7e12d8859e70>"
            ]
          },
          "metadata": {},
          "execution_count": 199
        }
      ]
    },
    {
      "cell_type": "markdown",
      "metadata": {
        "id": "DcbP5aDVHWFi"
      },
      "source": [
        "**Kết quả mong đợi:** Kết quả này là tương đối tuy nhiên mong muốn mô hình sẽ có độ chính xác trên tập validation hơn 90%\n",
        "\n",
        "```\n",
        "Epoch 197/200\n",
        "20/20 - 0s - loss: 0.5038 - acc: 0.8046 - val_loss: 0.3587 - val_acc: 0.9455\n",
        "Epoch 198/200\n",
        "20/20 - 0s - loss: 0.5035 - acc: 0.8062 - val_loss: 0.3593 - val_acc: 0.9455\n",
        "Epoch 199/200\n",
        "20/20 - 0s - loss: 0.5033 - acc: 0.8078 - val_loss: 0.3581 - val_acc: 0.9455\n",
        "Epoch 200/200\n",
        "20/20 - 0s - loss: 0.5031 - acc: 0.8078 - val_loss: 0.3573 - val_acc: 0.9455\n",
        "```"
      ]
    },
    {
      "cell_type": "markdown",
      "metadata": {
        "id": "HxdUZ54xCHaj"
      },
      "source": [
        "### 12. Đánh giá chất lượng mô hình - Nâng cao - tham khảo thêm\n",
        "\n",
        "Các chỉ số này sẽ được giảng dạy chi tiết trong các bài học tiếp theo. Mục đích của phần này cho chúng ta thấy vấn đề mất cân bằng dữ liệu.\n",
        "\n",
        "Đọc thêm về các chỉ số này [tại đây](https://classroom.google.com/c/Mzg3NDIzMjExOTQ5/m/NDMzNjkzMzAyNjA2/details)"
      ]
    },
    {
      "cell_type": "markdown",
      "metadata": {
        "id": "IE1eCJcWNqNc"
      },
      "source": [
        "### 12.1 Tính Precision, Recall và F1 Score\n",
        "Thực hiện trên cả nhãn Positive và Negative"
      ]
    },
    {
      "cell_type": "code",
      "metadata": {
        "colab": {
          "base_uri": "https://localhost:8080/"
        },
        "id": "tV16z7J308A7",
        "outputId": "175d8ac9-9238-40ac-889a-b3e5ee47eddc"
      },
      "source": [
        "y_pred = (model.predict(val_X) >= 0.5).astype(int)\n",
        "\n",
        "target_names = ['NO', 'YES']\n",
        "\n",
        "from sklearn.metrics import classification_report\n",
        "print(classification_report(\n",
        "    val_Y, y_pred, target_names=target_names\n",
        "))\n",
        "\n",
        "y_pred.shape"
      ],
      "execution_count": null,
      "outputs": [
        {
          "output_type": "stream",
          "name": "stdout",
          "text": [
            "12/12 [==============================] - 0s 2ms/step\n",
            "              precision    recall  f1-score   support\n",
            "\n",
            "          NO       0.98      0.73      0.84        77\n",
            "         YES       0.93      1.00      0.96       290\n",
            "\n",
            "    accuracy                           0.94       367\n",
            "   macro avg       0.96      0.86      0.90       367\n",
            "weighted avg       0.94      0.94      0.94       367\n",
            "\n"
          ]
        },
        {
          "output_type": "execute_result",
          "data": {
            "text/plain": [
              "(367, 1)"
            ]
          },
          "metadata": {},
          "execution_count": 200
        }
      ]
    },
    {
      "cell_type": "code",
      "metadata": {
        "id": "Qv25WgPN2cd8"
      },
      "source": [
        "from sklearn.metrics import confusion_matrix\n",
        "TN, FP, FN, TP = confusion_matrix(val_Y, y_pred).ravel()"
      ],
      "execution_count": null,
      "outputs": []
    },
    {
      "cell_type": "code",
      "metadata": {
        "colab": {
          "base_uri": "https://localhost:8080/"
        },
        "id": "OsWaC2joHyYZ",
        "outputId": "4ce68044-5089-4474-ee0e-4d66456e7dfa"
      },
      "source": [
        "TP, FP, TN, FN"
      ],
      "execution_count": null,
      "outputs": [
        {
          "output_type": "execute_result",
          "data": {
            "text/plain": [
              "(289, 21, 56, 1)"
            ]
          },
          "metadata": {},
          "execution_count": 202
        }
      ]
    },
    {
      "cell_type": "code",
      "metadata": {
        "colab": {
          "base_uri": "https://localhost:8080/"
        },
        "id": "wfaBOJ6f2emG",
        "outputId": "4863de69-bbb0-448d-8965-e3a24c770492"
      },
      "source": [
        "# Positive Precision\n",
        "\n",
        "TP / (TP + FP)"
      ],
      "execution_count": null,
      "outputs": [
        {
          "output_type": "execute_result",
          "data": {
            "text/plain": [
              "0.932258064516129"
            ]
          },
          "metadata": {},
          "execution_count": 203
        }
      ]
    },
    {
      "cell_type": "code",
      "metadata": {
        "colab": {
          "base_uri": "https://localhost:8080/"
        },
        "id": "eGk-2fcP2lzD",
        "outputId": "b80d9907-6d25-4935-a080-712c9ac7d285"
      },
      "source": [
        "# Positive Recall\n",
        "\n",
        "TP / (TP + FN)"
      ],
      "execution_count": null,
      "outputs": [
        {
          "output_type": "execute_result",
          "data": {
            "text/plain": [
              "0.996551724137931"
            ]
          },
          "metadata": {},
          "execution_count": 204
        }
      ]
    },
    {
      "cell_type": "code",
      "metadata": {
        "colab": {
          "base_uri": "https://localhost:8080/"
        },
        "id": "GenQOiIt2tjz",
        "outputId": "622bca78-6a24-4b2f-f0b2-fcff5b06da4b"
      },
      "source": [
        "# Negative Precision\n",
        "\n",
        "TN / (TN + FN)"
      ],
      "execution_count": null,
      "outputs": [
        {
          "output_type": "execute_result",
          "data": {
            "text/plain": [
              "0.9824561403508771"
            ]
          },
          "metadata": {},
          "execution_count": 205
        }
      ]
    },
    {
      "cell_type": "code",
      "metadata": {
        "colab": {
          "base_uri": "https://localhost:8080/"
        },
        "id": "5BGmbinG26xa",
        "outputId": "7aff71ef-5147-4528-e1d1-4a9eb0fbe82d"
      },
      "source": [
        "# Negative Recall\n",
        "\n",
        "TN / (TN + FP)"
      ],
      "execution_count": null,
      "outputs": [
        {
          "output_type": "execute_result",
          "data": {
            "text/plain": [
              "0.7272727272727273"
            ]
          },
          "metadata": {},
          "execution_count": 206
        }
      ]
    },
    {
      "cell_type": "markdown",
      "metadata": {
        "id": "TqeXwZeq3Cv3"
      },
      "source": [
        "Nhận thấy Negative Recall tương đối thấp vì có sự mất cân bằng của dự liệu giữa nhãn `YES` và `NO`"
      ]
    },
    {
      "cell_type": "code",
      "metadata": {
        "colab": {
          "base_uri": "https://localhost:8080/"
        },
        "id": "SIjqGPz03vZ4",
        "outputId": "19efb05c-7452-40d0-cc08-7d72461db92f"
      },
      "source": [
        "train_df['Loan_Status'].value_counts()"
      ],
      "execution_count": null,
      "outputs": [
        {
          "output_type": "execute_result",
          "data": {
            "text/plain": [
              "1    422\n",
              "0    192\n",
              "Name: Loan_Status, dtype: int64"
            ]
          },
          "metadata": {},
          "execution_count": 207
        }
      ]
    },
    {
      "cell_type": "markdown",
      "metadata": {
        "id": "wHs6mFKQH6Wh"
      },
      "source": [
        "Cách giải quyết đơn giản nhất hiện tượng này là oversampling hoặc undersampling. Xem thêm [tại đây](https://github.com/scikit-learn-contrib/imbalanced-learn)."
      ]
    },
    {
      "cell_type": "markdown",
      "metadata": {
        "id": "vidtutJXIKp_"
      },
      "source": [
        "-------------------- Kết thúc --------------------"
      ]
    },
    {
      "cell_type": "markdown",
      "metadata": {
        "id": "5J4LfOGMIsM7"
      },
      "source": [
        "<img src='https://storage.googleapis.com/protonx-cloud-storage/icons/1103-confetti-outline.gif' width=200>"
      ]
    }
  ]
}